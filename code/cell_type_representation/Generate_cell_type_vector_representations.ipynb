{
 "cells": [
  {
   "cell_type": "markdown",
   "metadata": {},
   "source": [
    "### Use to make cell type vector representations based on latent space predictions by specified model"
   ]
  },
  {
   "cell_type": "code",
   "execution_count": null,
   "metadata": {},
   "outputs": [],
   "source": [
    "# Load packages\n",
    "from functions.cell_type_vector_representation import MakeCellTypeRepresentation as MCTR"
   ]
  },
  {
   "cell_type": "code",
   "execution_count": null,
   "metadata": {},
   "outputs": [],
   "source": [
    "# Initiate env\n",
    "MCTR_env = MCTR(data_path='../../data/processed/immune_cells/merged/Oetjen_merged.h5ad',\n",
    "                pathways_path='../../data/processed/pathway_information/all_pathways.json',\n",
    "                model_path='trained_models/Bone_marrow/Encoder/',\n",
    "                num_pathways=300,\n",
    "                HVG=True,\n",
    "                HVGs=4000,\n",
    "                Scaled=False,\n",
    "                target_key=\"cell_type\",\n",
    "                batch_keys=[\"patientID\"])"
   ]
  },
  {
   "cell_type": "markdown",
   "metadata": {},
   "source": [
    "### Centroid representation"
   ]
  },
  {
   "cell_type": "code",
   "execution_count": null,
   "metadata": {},
   "outputs": [],
   "source": [
    "CentroidRepresentation = MCTR_env.CentroidRepresentation()"
   ]
  },
  {
   "cell_type": "markdown",
   "metadata": {},
   "source": [
    "### Median representation"
   ]
  },
  {
   "cell_type": "code",
   "execution_count": null,
   "metadata": {},
   "outputs": [],
   "source": [
    "MedianRepresentation = MCTR_env.MedianRepresentation()"
   ]
  },
  {
   "cell_type": "markdown",
   "metadata": {},
   "source": [
    "### Medoid representation"
   ]
  },
  {
   "cell_type": "code",
   "execution_count": null,
   "metadata": {},
   "outputs": [],
   "source": [
    "MedoidRepresentation = MCTR_env.MedoidRepresentation()"
   ]
  },
  {
   "cell_type": "markdown",
   "metadata": {},
   "source": [
    "### Visualize using UMAP"
   ]
  },
  {
   "cell_type": "code",
   "execution_count": null,
   "metadata": {},
   "outputs": [],
   "source": [
    "MCTR_env.UMAP_visualization(representation=CentroidRepresentation)"
   ]
  },
  {
   "cell_type": "markdown",
   "metadata": {},
   "source": [
    "### Save representations"
   ]
  },
  {
   "cell_type": "code",
   "execution_count": null,
   "metadata": {},
   "outputs": [],
   "source": [
    "MCTR_env.Download_representation(representation=CentroidRepresentation,save_path=\"file.csv\")"
   ]
  }
 ],
 "metadata": {
  "language_info": {
   "name": "python"
  }
 },
 "nbformat": 4,
 "nbformat_minor": 2
}

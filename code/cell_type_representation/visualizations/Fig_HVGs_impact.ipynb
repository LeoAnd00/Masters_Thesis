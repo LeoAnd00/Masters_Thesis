{
 "cells": [
  {
   "cell_type": "code",
   "execution_count": 1,
   "metadata": {},
   "outputs": [],
   "source": [
    "# Import packages\n",
    "from functions.HVGs_impact_visualization_functions import VisualizeEnv as VisualizeEnv"
   ]
  },
  {
   "cell_type": "code",
   "execution_count": 2,
   "metadata": {},
   "outputs": [],
   "source": [
    "# Initialize Env\n",
    "VisEnv = VisualizeEnv()"
   ]
  },
  {
   "cell_type": "markdown",
   "metadata": {},
   "source": [
    "### Read benchmark files"
   ]
  },
  {
   "cell_type": "code",
   "execution_count": 3,
   "metadata": {},
   "outputs": [],
   "source": [
    "files = [\"../benchmarks/results/All_merged/Investigate_HVGs/benchmark_100_HVGs_seed_42\",\n",
    "         \"../benchmarks/results/All_merged/Investigate_HVGs/benchmark_200_HVGs_seed_42\",\n",
    "         \"../benchmarks/results/All_merged/Investigate_HVGs/benchmark_500_HVGs_seed_42\",\n",
    "         \"../benchmarks/results/All_merged/Investigate_HVGs/benchmark_1000_HVGs_seed_42\",\n",
    "         \"../benchmarks/results/All_merged/Investigate_HVGs/benchmark_1500_HVGs_seed_42\",\n",
    "         \"../benchmarks/results/All_merged/Investigate_HVGs/benchmark_2000_HVGs_seed_42\",\n",
    "         \"../benchmarks/results/All_merged/Investigate_HVGs/benchmark_3000_HVGs_seed_42\",\n",
    "         \"../benchmarks/results/All_merged/Investigate_HVGs/benchmark_4000_HVGs_seed_42\",]\n",
    "\n",
    "VisEnv.read_csv(files=files)"
   ]
  },
  {
   "cell_type": "markdown",
   "metadata": {},
   "source": [
    "### Visualize with table"
   ]
  },
  {
   "cell_type": "code",
   "execution_count": 4,
   "metadata": {},
   "outputs": [
    {
     "name": "stderr",
     "output_type": "stream",
     "text": [
      "c:\\Users\\user\\Documents\\GitHub\\Masters_Thesis\\MScEnv\\lib\\site-packages\\pandas\\io\\formats\\style.py:3931: RuntimeWarning: All-NaN slice encountered\n",
      "  smin = np.nanmin(gmap) if vmin is None else vmin\n",
      "c:\\Users\\user\\Documents\\GitHub\\Masters_Thesis\\MScEnv\\lib\\site-packages\\pandas\\io\\formats\\style.py:3932: RuntimeWarning: All-NaN slice encountered\n",
      "  smax = np.nanmax(gmap) if vmax is None else vmax\n"
     ]
    },
    {
     "data": {
      "text/html": [
       "<style type=\"text/css\">\n",
       "#T_edf1d_row0_col1 {\n",
       "  background-color: #2272b6;\n",
       "  color: #f1f1f1;\n",
       "}\n",
       "#T_edf1d_row0_col2, #T_edf1d_row2_col1 {\n",
       "  background-color: #08306b;\n",
       "  color: #f1f1f1;\n",
       "}\n",
       "#T_edf1d_row0_col3, #T_edf1d_row1_col3, #T_edf1d_row2_col3, #T_edf1d_row3_col3, #T_edf1d_row4_col3, #T_edf1d_row5_col3, #T_edf1d_row6_col3, #T_edf1d_row7_col3 {\n",
       "  background-color: #000000;\n",
       "  color: #f1f1f1;\n",
       "}\n",
       "#T_edf1d_row1_col1 {\n",
       "  background-color: #71b1d7;\n",
       "  color: #f1f1f1;\n",
       "}\n",
       "#T_edf1d_row1_col2 {\n",
       "  background-color: #083370;\n",
       "  color: #f1f1f1;\n",
       "}\n",
       "#T_edf1d_row2_col2 {\n",
       "  background-color: #08458a;\n",
       "  color: #f1f1f1;\n",
       "}\n",
       "#T_edf1d_row3_col1 {\n",
       "  background-color: #caddf0;\n",
       "  color: #000000;\n",
       "}\n",
       "#T_edf1d_row3_col2 {\n",
       "  background-color: #084d96;\n",
       "  color: #f1f1f1;\n",
       "}\n",
       "#T_edf1d_row4_col1 {\n",
       "  background-color: #a4cce3;\n",
       "  color: #000000;\n",
       "}\n",
       "#T_edf1d_row4_col2 {\n",
       "  background-color: #0a539e;\n",
       "  color: #f1f1f1;\n",
       "}\n",
       "#T_edf1d_row5_col1 {\n",
       "  background-color: #e3eef8;\n",
       "  color: #000000;\n",
       "}\n",
       "#T_edf1d_row5_col2 {\n",
       "  background-color: #1764ab;\n",
       "  color: #f1f1f1;\n",
       "}\n",
       "#T_edf1d_row6_col1 {\n",
       "  background-color: #f2f8fd;\n",
       "  color: #000000;\n",
       "}\n",
       "#T_edf1d_row6_col2 {\n",
       "  background-color: #8cc0dd;\n",
       "  color: #000000;\n",
       "}\n",
       "#T_edf1d_row7_col1, #T_edf1d_row7_col2 {\n",
       "  background-color: #f7fbff;\n",
       "  color: #000000;\n",
       "}\n",
       "</style>\n",
       "<table id=\"T_edf1d\">\n",
       "  <thead>\n",
       "    <tr>\n",
       "      <th class=\"blank level0\" >&nbsp;</th>\n",
       "      <th id=\"T_edf1d_level0_col0\" class=\"col_heading level0 col0\" >Model Type</th>\n",
       "      <th id=\"T_edf1d_level0_col1\" class=\"col_heading level0 col1\" >HVGs</th>\n",
       "      <th id=\"T_edf1d_level0_col2\" class=\"col_heading level0 col2\" colspan=\"2\">Overall</th>\n",
       "    </tr>\n",
       "    <tr>\n",
       "      <th class=\"blank level1\" >&nbsp;</th>\n",
       "      <th id=\"T_edf1d_level1_col0\" class=\"col_heading level1 col0\" ></th>\n",
       "      <th id=\"T_edf1d_level1_col1\" class=\"col_heading level1 col1\" ></th>\n",
       "      <th id=\"T_edf1d_level1_col2\" class=\"col_heading level1 col2\" >mean</th>\n",
       "      <th id=\"T_edf1d_level1_col3\" class=\"col_heading level1 col3\" >std</th>\n",
       "    </tr>\n",
       "  </thead>\n",
       "  <tbody>\n",
       "    <tr>\n",
       "      <th id=\"T_edf1d_level0_row0\" class=\"row_heading level0 row0\" >6</th>\n",
       "      <td id=\"T_edf1d_row0_col0\" class=\"data row0 col0\" >In-house HVG Encoder Model</td>\n",
       "      <td id=\"T_edf1d_row0_col1\" class=\"data row0 col1\" >3000</td>\n",
       "      <td id=\"T_edf1d_row0_col2\" class=\"data row0 col2\" >0.816685</td>\n",
       "      <td id=\"T_edf1d_row0_col3\" class=\"data row0 col3\" >nan</td>\n",
       "    </tr>\n",
       "    <tr>\n",
       "      <th id=\"T_edf1d_level0_row1\" class=\"row_heading level0 row1\" >5</th>\n",
       "      <td id=\"T_edf1d_row1_col0\" class=\"data row1 col0\" >In-house HVG Encoder Model</td>\n",
       "      <td id=\"T_edf1d_row1_col1\" class=\"data row1 col1\" >2000</td>\n",
       "      <td id=\"T_edf1d_row1_col2\" class=\"data row1 col2\" >0.814435</td>\n",
       "      <td id=\"T_edf1d_row1_col3\" class=\"data row1 col3\" >nan</td>\n",
       "    </tr>\n",
       "    <tr>\n",
       "      <th id=\"T_edf1d_level0_row2\" class=\"row_heading level0 row2\" >7</th>\n",
       "      <td id=\"T_edf1d_row2_col0\" class=\"data row2 col0\" >In-house HVG Encoder Model</td>\n",
       "      <td id=\"T_edf1d_row2_col1\" class=\"data row2 col1\" >4000</td>\n",
       "      <td id=\"T_edf1d_row2_col2\" class=\"data row2 col2\" >0.804267</td>\n",
       "      <td id=\"T_edf1d_row2_col3\" class=\"data row2 col3\" >nan</td>\n",
       "    </tr>\n",
       "    <tr>\n",
       "      <th id=\"T_edf1d_level0_row3\" class=\"row_heading level0 row3\" >3</th>\n",
       "      <td id=\"T_edf1d_row3_col0\" class=\"data row3 col0\" >In-house HVG Encoder Model</td>\n",
       "      <td id=\"T_edf1d_row3_col1\" class=\"data row3 col1\" >1000</td>\n",
       "      <td id=\"T_edf1d_row3_col2\" class=\"data row3 col2\" >0.799297</td>\n",
       "      <td id=\"T_edf1d_row3_col3\" class=\"data row3 col3\" >nan</td>\n",
       "    </tr>\n",
       "    <tr>\n",
       "      <th id=\"T_edf1d_level0_row4\" class=\"row_heading level0 row4\" >4</th>\n",
       "      <td id=\"T_edf1d_row4_col0\" class=\"data row4 col0\" >In-house HVG Encoder Model</td>\n",
       "      <td id=\"T_edf1d_row4_col1\" class=\"data row4 col1\" >1500</td>\n",
       "      <td id=\"T_edf1d_row4_col2\" class=\"data row4 col2\" >0.795953</td>\n",
       "      <td id=\"T_edf1d_row4_col3\" class=\"data row4 col3\" >nan</td>\n",
       "    </tr>\n",
       "    <tr>\n",
       "      <th id=\"T_edf1d_level0_row5\" class=\"row_heading level0 row5\" >2</th>\n",
       "      <td id=\"T_edf1d_row5_col0\" class=\"data row5 col0\" >In-house HVG Encoder Model</td>\n",
       "      <td id=\"T_edf1d_row5_col1\" class=\"data row5 col1\" >500</td>\n",
       "      <td id=\"T_edf1d_row5_col2\" class=\"data row5 col2\" >0.785811</td>\n",
       "      <td id=\"T_edf1d_row5_col3\" class=\"data row5 col3\" >nan</td>\n",
       "    </tr>\n",
       "    <tr>\n",
       "      <th id=\"T_edf1d_level0_row6\" class=\"row_heading level0 row6\" >1</th>\n",
       "      <td id=\"T_edf1d_row6_col0\" class=\"data row6 col0\" >In-house HVG Encoder Model</td>\n",
       "      <td id=\"T_edf1d_row6_col1\" class=\"data row6 col1\" >200</td>\n",
       "      <td id=\"T_edf1d_row6_col2\" class=\"data row6 col2\" >0.727535</td>\n",
       "      <td id=\"T_edf1d_row6_col3\" class=\"data row6 col3\" >nan</td>\n",
       "    </tr>\n",
       "    <tr>\n",
       "      <th id=\"T_edf1d_level0_row7\" class=\"row_heading level0 row7\" >0</th>\n",
       "      <td id=\"T_edf1d_row7_col0\" class=\"data row7 col0\" >In-house HVG Encoder Model</td>\n",
       "      <td id=\"T_edf1d_row7_col1\" class=\"data row7 col1\" >100</td>\n",
       "      <td id=\"T_edf1d_row7_col2\" class=\"data row7 col2\" >0.662941</td>\n",
       "      <td id=\"T_edf1d_row7_col3\" class=\"data row7 col3\" >nan</td>\n",
       "    </tr>\n",
       "  </tbody>\n",
       "</table>\n"
      ],
      "text/plain": [
       "<pandas.io.formats.style.Styler at 0x177a0f80670>"
      ]
     },
     "metadata": {},
     "output_type": "display_data"
    }
   ],
   "source": [
    "VisEnv.visualize_results()"
   ]
  },
  {
   "cell_type": "markdown",
   "metadata": {},
   "source": [
    "### ErrorBar visualization"
   ]
  },
  {
   "cell_type": "code",
   "execution_count": 5,
   "metadata": {},
   "outputs": [
    {
     "data": {
      "image/png": "[encoded data removed]",
      "text/plain": [
       "<Figure size 1500x900 with 1 Axes>"
      ]
     },
     "metadata": {},
     "output_type": "display_data"
    }
   ],
   "source": [
    "image_path = \"figures/Fig_HVGs_Impact\"\n",
    "VisEnv.ErrorBarPlot(image_path=image_path)"
   ]
  }
 ],
 "metadata": {
  "kernelspec": {
   "display_name": "MScEnv",
   "language": "python",
   "name": "python3"
  },
  "language_info": {
   "codemirror_mode": {
    "name": "ipython",
    "version": 3
   },
   "file_extension": ".py",
   "mimetype": "text/x-python",
   "name": "python",
   "nbconvert_exporter": "python",
   "pygments_lexer": "ipython3",
   "version": "3.10.5"
  }
 },
 "nbformat": 4,
 "nbformat_minor": 2
}

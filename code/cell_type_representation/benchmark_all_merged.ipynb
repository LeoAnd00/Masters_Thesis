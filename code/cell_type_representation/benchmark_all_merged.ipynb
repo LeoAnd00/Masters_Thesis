{
 "cells": [
  {
   "cell_type": "markdown",
   "metadata": {},
   "source": [
    "# Benchmark for all data merged using [scIB](https://github.com/theislab/scib/tree/main)"
   ]
  },
  {
   "cell_type": "code",
   "execution_count": 1,
   "metadata": {},
   "outputs": [
    {
     "name": "stderr",
     "output_type": "stream",
     "text": [
      "c:\\Users\\user\\Documents\\GitHub\\Masters_Thesis\\MScEnv\\lib\\site-packages\\tensorflow\\python\\framework\\dtypes.py:35: DeprecationWarning: ml_dtypes.float8_e4m3b11 is deprecated. Use ml_dtypes.float8_e4m3b11fnuz\n",
      "  from tensorflow.tsl.python.lib.core import pywrap_ml_dtypes\n"
     ]
    }
   ],
   "source": [
    "# Load packages\n",
    "import numpy as np\n",
    "import pandas as pd\n",
    "import scanpy as sc\n",
    "import scib\n",
    "import warnings\n",
    "from benchmarks.benchmark import benchmark as benchmark\n",
    "\n",
    "warnings.filterwarnings(\"ignore\", category=FutureWarning)\n",
    "warnings.filterwarnings(\"ignore\", category=UserWarning)\n",
    "warnings.filterwarnings(\"ignore\", category=PendingDeprecationWarning)\n",
    "warnings.filterwarnings(\"ignore\", category=DeprecationWarning)"
   ]
  },
  {
   "cell_type": "code",
   "execution_count": 2,
   "metadata": {},
   "outputs": [],
   "source": [
    "data_path = '../../data/processed/merged/merged_all.h5ad'\n",
    "benchmark_env = benchmark(data_path=data_path, batch_key=\"patientID\", HVG=True, HVGs=4000, Scaled=False, seed=42)"
   ]
  },
  {
   "cell_type": "markdown",
   "metadata": {},
   "source": [
    "### Unintegrated"
   ]
  },
  {
   "cell_type": "code",
   "execution_count": 3,
   "metadata": {},
   "outputs": [
    {
     "name": "stdout",
     "output_type": "stream",
     "text": [
      "(59489, 4000)\n"
     ]
    },
    {
     "name": "stderr",
     "output_type": "stream",
     "text": [
      "c:\\Users\\user\\Documents\\GitHub\\Masters_Thesis\\MScEnv\\lib\\site-packages\\tqdm\\auto.py:21: TqdmWarning: IProgress not found. Please update jupyter and ipywidgets. See https://ipywidgets.readthedocs.io/en/stable/user_install.html\n",
      "  from .autonotebook import tqdm as notebook_tqdm\n"
     ]
    }
   ],
   "source": [
    "benchmark_env.unintegrated(save_figure=True)"
   ]
  },
  {
   "cell_type": "markdown",
   "metadata": {},
   "source": [
    "### PCA"
   ]
  },
  {
   "cell_type": "code",
   "execution_count": 2,
   "metadata": {},
   "outputs": [],
   "source": [
    "benchmark_env.pca(save_figure=True)"
   ]
  },
  {
   "cell_type": "markdown",
   "metadata": {},
   "source": [
    "### [Scanorama](https://github.com/brianhie/scanorama)"
   ]
  },
  {
   "cell_type": "code",
   "execution_count": 3,
   "metadata": {},
   "outputs": [],
   "source": [
    "benchmark_env.scanorama(save_figure=True)"
   ]
  },
  {
   "cell_type": "markdown",
   "metadata": {},
   "source": [
    "### [Harmony](https://github.com/lilab-bcb/harmony-pytorch)"
   ]
  },
  {
   "cell_type": "code",
   "execution_count": 4,
   "metadata": {},
   "outputs": [],
   "source": [
    "benchmark_env.harmony(save_figure=True)"
   ]
  },
  {
   "cell_type": "markdown",
   "metadata": {},
   "source": [
    "### [scVI](https://github.com/scverse/scvi-tools)"
   ]
  },
  {
   "cell_type": "code",
   "execution_count": 5,
   "metadata": {},
   "outputs": [],
   "source": [
    "vae = benchmark_env.scvi(save_figure=True)"
   ]
  },
  {
   "cell_type": "markdown",
   "metadata": {},
   "source": [
    "### [scANVI](https://github.com/scverse/scvi-tools)"
   ]
  },
  {
   "cell_type": "code",
   "execution_count": 6,
   "metadata": {},
   "outputs": [],
   "source": [
    "benchmark_env.scanvi(vae=vae, save_figure=True)"
   ]
  },
  {
   "cell_type": "markdown",
   "metadata": {},
   "source": [
    "### [scGen](https://github.com/theislab/scgen)"
   ]
  },
  {
   "cell_type": "code",
   "execution_count": 3,
   "metadata": {},
   "outputs": [
    {
     "name": "stderr",
     "output_type": "stream",
     "text": [
      "c:\\Users\\user\\Documents\\GitHub\\Masters_Thesis\\MScEnv\\lib\\site-packages\\einops\\_torch_specific.py:108: ImportWarning: allow_ops_in_compiled_graph failed to import torch: ensure pytorch >=2.0\n",
      "  warnings.warn(\"allow_ops_in_compiled_graph failed to import torch: ensure pytorch >=2.0\", ImportWarning)\n",
      "c:\\Users\\user\\Documents\\GitHub\\Masters_Thesis\\MScEnv\\lib\\site-packages\\tqdm\\auto.py:21: TqdmWarning: IProgress not found. Please update jupyter and ipywidgets. See https://ipywidgets.readthedocs.io/en/stable/user_install.html\n",
      "  from .autonotebook import tqdm as notebook_tqdm\n",
      "GPU available: True (cuda), used: True\n",
      "TPU available: False, using: 0 TPU cores\n",
      "IPU available: False, using: 0 IPUs\n",
      "HPU available: False, using: 0 HPUs\n",
      "LOCAL_RANK: 0 - CUDA_VISIBLE_DEVICES: [0]\n"
     ]
    },
    {
     "name": "stdout",
     "output_type": "stream",
     "text": [
      "Epoch 12/100:  12%|█▏        | 12/100 [01:35<11:38,  7.94s/it, v_num=1, train_loss_step=959, train_loss_epoch=990]      \n",
      "Monitored metric elbo_validation did not improve in the last 10 records. Best score: 2997.374. Signaling Trainer to stop.\n",
      "\u001b[34mINFO    \u001b[0m Input AnnData not setup with scvi-tools. attempting to transfer AnnData setup                             \n",
      "NMI...\n",
      "ARI...\n",
      "Silhouette score...\n",
      "PC regression...\n",
      "cell cycle effect...\n",
      "Isolated labels F1...\n",
      "Compute neighbors on rep scGen\n",
      "Compute neighbors on rep scGen\n",
      "Compute neighbors on rep scGen\n",
      "Compute neighbors on rep scGen\n"
     ]
    },
    {
     "ename": "MemoryError",
     "evalue": "Unable to allocate 908. MiB for an array with shape (59489, 4000) and data type float32",
     "output_type": "error",
     "traceback": [
      "\u001b[1;31m---------------------------------------------------------------------------\u001b[0m",
      "\u001b[1;31mMemoryError\u001b[0m                               Traceback (most recent call last)",
      "\u001b[1;32mc:\\Users\\user\\Documents\\GitHub\\Masters_Thesis\\code\\cell_type_representation\\benchmark_all_merged.ipynb Cell 17\u001b[0m line \u001b[0;36m1\n\u001b[1;32m----> <a href='vscode-notebook-cell:/c%3A/Users/user/Documents/GitHub/Masters_Thesis/code/cell_type_representation/benchmark_all_merged.ipynb#X22sZmlsZQ%3D%3D?line=0'>1</a>\u001b[0m benchmark_env\u001b[39m.\u001b[39;49mscgen(save_figure\u001b[39m=\u001b[39;49m\u001b[39mTrue\u001b[39;49;00m)\n",
      "File \u001b[1;32mc:\\Users\\user\\Documents\\GitHub\\Masters_Thesis\\code\\cell_type_representation\\benchmarks\\benchmark.py:616\u001b[0m, in \u001b[0;36mbenchmark.scgen\u001b[1;34m(self, umap_plot, save_figure)\u001b[0m\n\u001b[0;32m    613\u001b[0m \u001b[39mdel\u001b[39;00m corrected_adata\n\u001b[0;32m    614\u001b[0m sc\u001b[39m.\u001b[39mpp\u001b[39m.\u001b[39mneighbors(adata_scgen, use_rep\u001b[39m=\u001b[39m\u001b[39m\"\u001b[39m\u001b[39mscGen\u001b[39m\u001b[39m\"\u001b[39m)\n\u001b[1;32m--> 616\u001b[0m \u001b[39mself\u001b[39m\u001b[39m.\u001b[39mmetrics_scgen \u001b[39m=\u001b[39m scib\u001b[39m.\u001b[39;49mmetrics\u001b[39m.\u001b[39;49mmetrics(\n\u001b[0;32m    617\u001b[0m     \u001b[39mself\u001b[39;49m\u001b[39m.\u001b[39;49madata,\n\u001b[0;32m    618\u001b[0m     adata_scgen,\n\u001b[0;32m    619\u001b[0m     \u001b[39m\"\u001b[39;49m\u001b[39mbatch\u001b[39;49m\u001b[39m\"\u001b[39;49m, \n\u001b[0;32m    620\u001b[0m     \u001b[39mself\u001b[39;49m\u001b[39m.\u001b[39;49mlabel_key,\n\u001b[0;32m    621\u001b[0m     embed\u001b[39m=\u001b[39;49m\u001b[39m\"\u001b[39;49m\u001b[39mscGen\u001b[39;49m\u001b[39m\"\u001b[39;49m,\n\u001b[0;32m    622\u001b[0m     isolated_labels_asw_\u001b[39m=\u001b[39;49m\u001b[39mTrue\u001b[39;49;00m,\n\u001b[0;32m    623\u001b[0m     silhouette_\u001b[39m=\u001b[39;49m\u001b[39mTrue\u001b[39;49;00m,\n\u001b[0;32m    624\u001b[0m     hvg_score_\u001b[39m=\u001b[39;49m\u001b[39mTrue\u001b[39;49;00m,\n\u001b[0;32m    625\u001b[0m     graph_conn_\u001b[39m=\u001b[39;49m\u001b[39mTrue\u001b[39;49;00m,\n\u001b[0;32m    626\u001b[0m     pcr_\u001b[39m=\u001b[39;49m\u001b[39mTrue\u001b[39;49;00m,\n\u001b[0;32m    627\u001b[0m     isolated_labels_f1_\u001b[39m=\u001b[39;49m\u001b[39mTrue\u001b[39;49;00m,\n\u001b[0;32m    628\u001b[0m     trajectory_\u001b[39m=\u001b[39;49m\u001b[39mFalse\u001b[39;49;00m,\n\u001b[0;32m    629\u001b[0m     nmi_\u001b[39m=\u001b[39;49m\u001b[39mTrue\u001b[39;49;00m,\n\u001b[0;32m    630\u001b[0m     ari_\u001b[39m=\u001b[39;49m\u001b[39mTrue\u001b[39;49;00m,\n\u001b[0;32m    631\u001b[0m     cell_cycle_\u001b[39m=\u001b[39;49m\u001b[39mTrue\u001b[39;49;00m,\n\u001b[0;32m    632\u001b[0m     kBET_\u001b[39m=\u001b[39;49m\u001b[39mFalse\u001b[39;49;00m,\n\u001b[0;32m    633\u001b[0m     ilisi_\u001b[39m=\u001b[39;49m\u001b[39mFalse\u001b[39;49;00m,\n\u001b[0;32m    634\u001b[0m     clisi_\u001b[39m=\u001b[39;49m\u001b[39mFalse\u001b[39;49;00m,\n\u001b[0;32m    635\u001b[0m     organism\u001b[39m=\u001b[39;49m\u001b[39m\"\u001b[39;49m\u001b[39mhuman\u001b[39;49m\u001b[39m\"\u001b[39;49m,\n\u001b[0;32m    636\u001b[0m )\n\u001b[0;32m    638\u001b[0m random_order \u001b[39m=\u001b[39m np\u001b[39m.\u001b[39mrandom\u001b[39m.\u001b[39mpermutation(adata_scgen\u001b[39m.\u001b[39mn_obs)\n\u001b[0;32m    639\u001b[0m adata_scgen \u001b[39m=\u001b[39m adata_scgen[random_order, :]\n",
      "File \u001b[1;32mc:\\Users\\user\\Documents\\GitHub\\Masters_Thesis\\MScEnv\\lib\\site-packages\\scib\\metrics\\metrics.py:369\u001b[0m, in \u001b[0;36mmetrics\u001b[1;34m(adata, adata_int, batch_key, label_key, embed, cluster_key, cluster_nmi, ari_, nmi_, nmi_method, nmi_dir, silhouette_, si_metric, pcr_, cell_cycle_, organism, hvg_score_, isolated_labels_, isolated_labels_f1_, isolated_labels_asw_, n_isolated, graph_conn_, trajectory_, kBET_, lisi_graph_, ilisi_, clisi_, subsample, n_cores, type_, verbose)\u001b[0m\n\u001b[0;32m    367\u001b[0m \u001b[39mif\u001b[39;00m isolated_labels_f1_ \u001b[39mor\u001b[39;00m isolated_labels_:\n\u001b[0;32m    368\u001b[0m     \u001b[39mprint\u001b[39m(\u001b[39m\"\u001b[39m\u001b[39mIsolated labels F1...\u001b[39m\u001b[39m\"\u001b[39m)\n\u001b[1;32m--> 369\u001b[0m     il_score_f1 \u001b[39m=\u001b[39m isolated_labels(\n\u001b[0;32m    370\u001b[0m         adata_int,\n\u001b[0;32m    371\u001b[0m         label_key\u001b[39m=\u001b[39;49mlabel_key,\n\u001b[0;32m    372\u001b[0m         batch_key\u001b[39m=\u001b[39;49mbatch_key,\n\u001b[0;32m    373\u001b[0m         embed\u001b[39m=\u001b[39;49membed,\n\u001b[0;32m    374\u001b[0m         cluster\u001b[39m=\u001b[39;49m\u001b[39mTrue\u001b[39;49;00m,\n\u001b[0;32m    375\u001b[0m         iso_threshold\u001b[39m=\u001b[39;49mn_isolated,\n\u001b[0;32m    376\u001b[0m         verbose\u001b[39m=\u001b[39;49m\u001b[39mFalse\u001b[39;49;00m,\n\u001b[0;32m    377\u001b[0m     )\n\u001b[0;32m    378\u001b[0m \u001b[39melse\u001b[39;00m:\n\u001b[0;32m    379\u001b[0m     il_score_f1 \u001b[39m=\u001b[39m np\u001b[39m.\u001b[39mnan\n",
      "File \u001b[1;32mc:\\Users\\user\\Documents\\GitHub\\Masters_Thesis\\MScEnv\\lib\\site-packages\\scib\\metrics\\isolated_labels.py:169\u001b[0m, in \u001b[0;36misolated_labels\u001b[1;34m(adata, label_key, batch_key, embed, cluster, iso_threshold, scale, return_all, verbose)\u001b[0m\n\u001b[0;32m    165\u001b[0m     adata\u001b[39m.\u001b[39mobs[\u001b[39m\"\u001b[39m\u001b[39msilhouette_temp\u001b[39m\u001b[39m\"\u001b[39m] \u001b[39m=\u001b[39m silhouette_samples(\n\u001b[0;32m    166\u001b[0m         adata\u001b[39m.\u001b[39mobsm[embed], adata\u001b[39m.\u001b[39mobs[label_key]\n\u001b[0;32m    167\u001b[0m     )\n\u001b[0;32m    168\u001b[0m \u001b[39mfor\u001b[39;00m label \u001b[39min\u001b[39;00m isolated_labels:\n\u001b[1;32m--> 169\u001b[0m     score \u001b[39m=\u001b[39m score_isolated_label(\n\u001b[0;32m    170\u001b[0m         adata,\n\u001b[0;32m    171\u001b[0m         label_key,\n\u001b[0;32m    172\u001b[0m         label,\n\u001b[0;32m    173\u001b[0m         embed,\n\u001b[0;32m    174\u001b[0m         cluster,\n\u001b[0;32m    175\u001b[0m         scale\u001b[39m=\u001b[39;49mscale,\n\u001b[0;32m    176\u001b[0m         verbose\u001b[39m=\u001b[39;49mverbose,\n\u001b[0;32m    177\u001b[0m     )\n\u001b[0;32m    178\u001b[0m     scores[label] \u001b[39m=\u001b[39m score\n\u001b[0;32m    179\u001b[0m scores \u001b[39m=\u001b[39m pd\u001b[39m.\u001b[39mSeries(scores)\n",
      "File \u001b[1;32mc:\\Users\\user\\Documents\\GitHub\\Masters_Thesis\\MScEnv\\lib\\site-packages\\scib\\metrics\\isolated_labels.py:213\u001b[0m, in \u001b[0;36mscore_isolated_label\u001b[1;34m(adata, label_key, isolated_label, embed, cluster, iso_label_key, scale, verbose)\u001b[0m\n\u001b[0;32m    187\u001b[0m \u001b[39mdef\u001b[39;00m \u001b[39mscore_isolated_label\u001b[39m(\n\u001b[0;32m    188\u001b[0m     adata,\n\u001b[0;32m    189\u001b[0m     label_key,\n\u001b[1;32m   (...)\u001b[0m\n\u001b[0;32m    195\u001b[0m     verbose\u001b[39m=\u001b[39m\u001b[39mFalse\u001b[39;00m,\n\u001b[0;32m    196\u001b[0m ):\n\u001b[0;32m    197\u001b[0m \u001b[39m    \u001b[39m\u001b[39m\"\"\"\u001b[39;00m\n\u001b[0;32m    198\u001b[0m \u001b[39m    Compute label score for a single label\u001b[39;00m\n\u001b[0;32m    199\u001b[0m \n\u001b[1;32m   (...)\u001b[0m\n\u001b[0;32m    211\u001b[0m \u001b[39m        Isolated label score\u001b[39;00m\n\u001b[0;32m    212\u001b[0m \u001b[39m    \"\"\"\u001b[39;00m\n\u001b[1;32m--> 213\u001b[0m     adata \u001b[39m=\u001b[39m adata\u001b[39m.\u001b[39;49mcopy()\n\u001b[0;32m    215\u001b[0m     \u001b[39mif\u001b[39;00m cluster:\n\u001b[0;32m    216\u001b[0m         \u001b[39m# F1-score on clustering\u001b[39;00m\n\u001b[0;32m    217\u001b[0m         \u001b[39mdef\u001b[39;00m \u001b[39mmax_f1\u001b[39m(adata, label_key, cluster_key, label, argmax\u001b[39m=\u001b[39m\u001b[39mFalse\u001b[39;00m):\n",
      "File \u001b[1;32mc:\\Users\\user\\Documents\\GitHub\\Masters_Thesis\\MScEnv\\lib\\site-packages\\anndata\\_core\\anndata.py:1525\u001b[0m, in \u001b[0;36mAnnData.copy\u001b[1;34m(self, filename)\u001b[0m\n\u001b[0;32m   1521\u001b[0m         \u001b[39mreturn\u001b[39;00m \u001b[39mself\u001b[39m\u001b[39m.\u001b[39m_mutated_copy(\n\u001b[0;32m   1522\u001b[0m             X\u001b[39m=\u001b[39m_subset(\u001b[39mself\u001b[39m\u001b[39m.\u001b[39m_adata_ref\u001b[39m.\u001b[39mX, (\u001b[39mself\u001b[39m\u001b[39m.\u001b[39m_oidx, \u001b[39mself\u001b[39m\u001b[39m.\u001b[39m_vidx))\u001b[39m.\u001b[39mcopy()\n\u001b[0;32m   1523\u001b[0m         )\n\u001b[0;32m   1524\u001b[0m     \u001b[39melse\u001b[39;00m:\n\u001b[1;32m-> 1525\u001b[0m         \u001b[39mreturn\u001b[39;00m \u001b[39mself\u001b[39;49m\u001b[39m.\u001b[39;49m_mutated_copy()\n\u001b[0;32m   1526\u001b[0m \u001b[39melse\u001b[39;00m:\n\u001b[0;32m   1527\u001b[0m     \u001b[39mfrom\u001b[39;00m \u001b[39m.\u001b[39;00m\u001b[39m.\u001b[39;00m\u001b[39m_io\u001b[39;00m \u001b[39mimport\u001b[39;00m read_h5ad\n",
      "File \u001b[1;32mc:\\Users\\user\\Documents\\GitHub\\Masters_Thesis\\MScEnv\\lib\\site-packages\\anndata\\_core\\anndata.py:1453\u001b[0m, in \u001b[0;36mAnnData._mutated_copy\u001b[1;34m(self, **kwargs)\u001b[0m\n\u001b[0;32m   1451\u001b[0m         new[key] \u001b[39m=\u001b[39m kwargs[key]\n\u001b[0;32m   1452\u001b[0m     \u001b[39melse\u001b[39;00m:\n\u001b[1;32m-> 1453\u001b[0m         new[key] \u001b[39m=\u001b[39m \u001b[39mgetattr\u001b[39;49m(\u001b[39mself\u001b[39;49m, key)\u001b[39m.\u001b[39;49mcopy()\n\u001b[0;32m   1454\u001b[0m \u001b[39mif\u001b[39;00m \u001b[39m\"\u001b[39m\u001b[39mX\u001b[39m\u001b[39m\"\u001b[39m \u001b[39min\u001b[39;00m kwargs:\n\u001b[0;32m   1455\u001b[0m     new[\u001b[39m\"\u001b[39m\u001b[39mX\u001b[39m\u001b[39m\"\u001b[39m] \u001b[39m=\u001b[39m kwargs[\u001b[39m\"\u001b[39m\u001b[39mX\u001b[39m\u001b[39m\"\u001b[39m]\n",
      "File \u001b[1;32mc:\\Users\\user\\Documents\\GitHub\\Masters_Thesis\\MScEnv\\lib\\site-packages\\anndata\\_core\\aligned_mapping.py:299\u001b[0m, in \u001b[0;36mLayersBase.copy\u001b[1;34m(self)\u001b[0m\n\u001b[0;32m    297\u001b[0m d \u001b[39m=\u001b[39m \u001b[39mself\u001b[39m\u001b[39m.\u001b[39m_actual_class(\u001b[39mself\u001b[39m\u001b[39m.\u001b[39mparent)\n\u001b[0;32m    298\u001b[0m \u001b[39mfor\u001b[39;00m k, v \u001b[39min\u001b[39;00m \u001b[39mself\u001b[39m\u001b[39m.\u001b[39mitems():\n\u001b[1;32m--> 299\u001b[0m     d[k] \u001b[39m=\u001b[39m v\u001b[39m.\u001b[39;49mcopy()\n\u001b[0;32m    300\u001b[0m \u001b[39mreturn\u001b[39;00m d\n",
      "\u001b[1;31mMemoryError\u001b[0m: Unable to allocate 908. MiB for an array with shape (59489, 4000) and data type float32"
     ]
    }
   ],
   "source": [
    "benchmark_env.scgen(save_figure=True)"
   ]
  },
  {
   "cell_type": "markdown",
   "metadata": {},
   "source": [
    "### [SAUCIE](https://github.com/KrishnaswamyLab/SAUCIE)"
   ]
  },
  {
   "cell_type": "code",
   "execution_count": 9,
   "metadata": {},
   "outputs": [],
   "source": [
    "# Note: Pause for now. It requires a old version of tensorflow\n",
    "# benchmark_env.saucie()"
   ]
  },
  {
   "cell_type": "markdown",
   "metadata": {},
   "source": [
    "### [ComBat](https://scanpy.readthedocs.io/en/stable/generated/scanpy.pp.combat.html)"
   ]
  },
  {
   "cell_type": "code",
   "execution_count": 8,
   "metadata": {},
   "outputs": [],
   "source": [
    "benchmark_env.combat(save_figure=True)"
   ]
  },
  {
   "cell_type": "markdown",
   "metadata": {},
   "source": [
    "### [DESC](https://github.com/eleozzr/desc)"
   ]
  },
  {
   "cell_type": "code",
   "execution_count": 9,
   "metadata": {},
   "outputs": [],
   "source": [
    "benchmark_env.desc(save_figure=True)"
   ]
  },
  {
   "cell_type": "markdown",
   "metadata": {},
   "source": [
    "### [trVAE](https://github.com/theislab/trvaep)"
   ]
  },
  {
   "cell_type": "code",
   "execution_count": 12,
   "metadata": {},
   "outputs": [],
   "source": [
    "# Takes to much memory to run\n",
    "# benchmark_env.trvae()"
   ]
  },
  {
   "cell_type": "markdown",
   "metadata": {},
   "source": [
    "### [FastMNN](https://github.com/chriscainx/mnnpy)"
   ]
  },
  {
   "cell_type": "code",
   "execution_count": null,
   "metadata": {},
   "outputs": [],
   "source": [
    "# Doesn't work great for some reason\n",
    "benchmark_env.fastmnn(save_figure=True)"
   ]
  },
  {
   "cell_type": "markdown",
   "metadata": {},
   "source": [
    "### [BBKNN](https://github.com/Teichlab/bbknn)"
   ]
  },
  {
   "cell_type": "code",
   "execution_count": 4,
   "metadata": {},
   "outputs": [],
   "source": [
    "# Don't know how to calculate the metrics for this one since it doesn't make a latent space like all other methods\n",
    "#benchmark_env.bbknn()"
   ]
  },
  {
   "cell_type": "markdown",
   "metadata": {},
   "source": [
    "### [TOSICA](https://github.com/JackieHanLab/TOSICA/tree/main)"
   ]
  },
  {
   "cell_type": "code",
   "execution_count": 15,
   "metadata": {},
   "outputs": [],
   "source": [
    "# Takes to much memory to run\n",
    "# benchmark_env.tosica()"
   ]
  },
  {
   "cell_type": "markdown",
   "metadata": {},
   "source": [
    "### In-house model"
   ]
  },
  {
   "cell_type": "markdown",
   "metadata": {},
   "source": [
    "#### Model using just a Encoder on HVGs"
   ]
  },
  {
   "cell_type": "code",
   "execution_count": 11,
   "metadata": {},
   "outputs": [],
   "source": [
    "benchmark_env.in_house_model_encoder(save_path='trained_models/All_merged/Encoder/', train=True, save_figure=True)"
   ]
  },
  {
   "cell_type": "markdown",
   "metadata": {},
   "source": [
    "#### Transformer model using pathway mask on HVGs"
   ]
  },
  {
   "cell_type": "code",
   "execution_count": 12,
   "metadata": {},
   "outputs": [],
   "source": [
    "benchmark_env.in_house_model_pathways(save_path='trained_models/All_merged/Pathways/', train=True, save_figure=True)"
   ]
  },
  {
   "cell_type": "markdown",
   "metadata": {},
   "source": [
    "#### Model using Encoder directly on HVGs + Transformer on pathway mask applied to HVGs"
   ]
  },
  {
   "cell_type": "code",
   "execution_count": 13,
   "metadata": {},
   "outputs": [],
   "source": [
    "benchmark_env.in_house_model_encoder_pathways(save_path='trained_models/All_merged/Encoder_with_Pathways/', train=True, save_figure=True)"
   ]
  },
  {
   "cell_type": "markdown",
   "metadata": {},
   "source": [
    "#### Model implementing a transformer mechanism on HVGs"
   ]
  },
  {
   "cell_type": "code",
   "execution_count": 14,
   "metadata": {},
   "outputs": [],
   "source": [
    "benchmark_env.in_house_model_transformer_encoder(save_path='trained_models/All_merged/Transformer_Encoder/', train=True, save_figure=True)"
   ]
  },
  {
   "cell_type": "markdown",
   "metadata": {},
   "source": [
    "#### Model implementing a transformer mechanism on HVGs + transformer mechanism on pathway masks applied to HVGs"
   ]
  },
  {
   "cell_type": "code",
   "execution_count": 4,
   "metadata": {},
   "outputs": [],
   "source": [
    "benchmark_env.in_house_model_transformer_encoder_pathways(save_path='trained_models/All_merged/Transformer_Encoder_with_Pathways/', train=True, save_figure=True)"
   ]
  },
  {
   "cell_type": "markdown",
   "metadata": {},
   "source": [
    "#### Model implementing a transformer mechanism on tokenized HVGs + Gene2vec representations"
   ]
  },
  {
   "cell_type": "code",
   "execution_count": null,
   "metadata": {},
   "outputs": [],
   "source": [
    "benchmark_env.in_house_model_tokenized_HVG_transformer(save_path='trained_models/All_merged/Tokenized_HVG_Transformer/', train=True, save_figure=True)"
   ]
  },
  {
   "cell_type": "markdown",
   "metadata": {},
   "source": [
    "#### Model implementing a transformer mechanism on tokenized HVGs + Gene2vec representations + transformer mechanism on pathways/gene sets"
   ]
  },
  {
   "cell_type": "code",
   "execution_count": null,
   "metadata": {},
   "outputs": [],
   "source": [
    "benchmark_env.in_house_model_tokenized_HVG_transformer_with_pathways(save_path='trained_models/All_merged/Tokenized_HVG_Transformer_with_Pathways/', train=True, save_figure=True)"
   ]
  },
  {
   "cell_type": "markdown",
   "metadata": {},
   "source": [
    "### Make dataframe and visualize"
   ]
  },
  {
   "cell_type": "code",
   "execution_count": 4,
   "metadata": {},
   "outputs": [],
   "source": [
    "# Load csv dataframe if we want to merge old runs with the new one (saved in benchmark_env.metrics)\n",
    "#New_loss_Benchmark_results, Benchmark_results\n",
    "benchmark_env.read_csv(name=\"benchmarks/results/All_merged/Benchmark_results\")"
   ]
  },
  {
   "cell_type": "code",
   "execution_count": null,
   "metadata": {},
   "outputs": [],
   "source": [
    "benchmark_env.make_benchamrk_results_dataframe(min_max_normalize=False)"
   ]
  },
  {
   "cell_type": "code",
   "execution_count": null,
   "metadata": {},
   "outputs": [],
   "source": [
    "benchmark_env.visualize_results() "
   ]
  },
  {
   "cell_type": "code",
   "execution_count": null,
   "metadata": {},
   "outputs": [],
   "source": [
    "benchmark_env.save_results_as_csv(name=\"benchmarks/results/All_merged/Benchmark_results\")"
   ]
  }
 ],
 "metadata": {
  "kernelspec": {
   "display_name": "MScEnv",
   "language": "python",
   "name": "python3"
  },
  "language_info": {
   "codemirror_mode": {
    "name": "ipython",
    "version": 3
   },
   "file_extension": ".py",
   "mimetype": "text/x-python",
   "name": "python",
   "nbconvert_exporter": "python",
   "pygments_lexer": "ipython3",
   "version": "3.10.5"
  }
 },
 "nbformat": 4,
 "nbformat_minor": 2
}

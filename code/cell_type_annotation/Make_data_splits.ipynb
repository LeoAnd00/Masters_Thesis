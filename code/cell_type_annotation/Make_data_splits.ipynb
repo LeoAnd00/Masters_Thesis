{
 "cells": [
  {
   "cell_type": "markdown",
   "metadata": {},
   "source": [
    "## Create train and test data"
   ]
  },
  {
   "cell_type": "code",
   "execution_count": 1,
   "metadata": {},
   "outputs": [],
   "source": [
    "# Import packages\n",
    "from data_split_fun import split_data "
   ]
  },
  {
   "cell_type": "markdown",
   "metadata": {},
   "source": [
    "### Segerstolpe"
   ]
  },
  {
   "cell_type": "code",
   "execution_count": 2,
   "metadata": {},
   "outputs": [
    {
     "name": "stderr",
     "output_type": "stream",
     "text": [
      "c:\\Users\\user\\Documents\\GitHub\\Masters_Thesis\\MScEnv\\lib\\site-packages\\sklearn\\model_selection\\_split.py:725: UserWarning: The least populated class in y has only 2 members, which is less than n_splits=5.\n",
      "  warnings.warn(\n"
     ]
    }
   ],
   "source": [
    "split_data(data_path=\"../../data/processed/data_for_evaluating_cell_type_annotation/Segerstolpe.h5ad\",\n",
    "           save_path=\"Segerstolpe/data/data\")"
   ]
  },
  {
   "cell_type": "code",
   "execution_count": 2,
   "metadata": {},
   "outputs": [
    {
     "name": "stderr",
     "output_type": "stream",
     "text": [
      "c:\\Users\\user\\Documents\\GitHub\\Masters_Thesis\\MScEnv\\lib\\site-packages\\sklearn\\model_selection\\_split.py:725: UserWarning: The least populated class in y has only 2 members, which is less than n_splits=5.\n",
      "  warnings.warn(\n"
     ]
    }
   ],
   "source": [
    "split_data(data_path=\"../../data/processed/data_for_evaluating_cell_type_annotation/Segerstolpe.h5ad\",\n",
    "           save_path=\"Segerstolpe/data/data_hvgs\",\n",
    "           HVG=True)"
   ]
  },
  {
   "cell_type": "markdown",
   "metadata": {},
   "source": [
    "### MacParland"
   ]
  },
  {
   "cell_type": "code",
   "execution_count": 3,
   "metadata": {},
   "outputs": [],
   "source": [
    "split_data(data_path=\"../../data/processed/data_for_evaluating_cell_type_annotation/MacParland.h5ad\",\n",
    "           save_path=\"MacParland/data/data\")"
   ]
  },
  {
   "cell_type": "code",
   "execution_count": 3,
   "metadata": {},
   "outputs": [],
   "source": [
    "split_data(data_path=\"../../data/processed/data_for_evaluating_cell_type_annotation/MacParland.h5ad\",\n",
    "           save_path=\"MacParland/data/data_hvgs\",\n",
    "           HVG=True)"
   ]
  },
  {
   "cell_type": "markdown",
   "metadata": {},
   "source": [
    "### Baron"
   ]
  },
  {
   "cell_type": "code",
   "execution_count": 4,
   "metadata": {},
   "outputs": [
    {
     "name": "stderr",
     "output_type": "stream",
     "text": [
      "c:\\Users\\user\\Documents\\GitHub\\Masters_Thesis\\MScEnv\\lib\\site-packages\\anndata\\_core\\anndata.py:1838: UserWarning: Observation names are not unique. To make them unique, call `.obs_names_make_unique`.\n",
      "  utils.warn_names_duplicates(\"obs\")\n",
      "c:\\Users\\user\\Documents\\GitHub\\Masters_Thesis\\MScEnv\\lib\\site-packages\\anndata\\_core\\anndata.py:1838: UserWarning: Observation names are not unique. To make them unique, call `.obs_names_make_unique`.\n",
      "  utils.warn_names_duplicates(\"obs\")\n",
      "c:\\Users\\user\\Documents\\GitHub\\Masters_Thesis\\MScEnv\\lib\\site-packages\\anndata\\_core\\anndata.py:1838: UserWarning: Observation names are not unique. To make them unique, call `.obs_names_make_unique`.\n",
      "  utils.warn_names_duplicates(\"obs\")\n"
     ]
    }
   ],
   "source": [
    "split_data(data_path=\"../../data/processed/data_for_evaluating_cell_type_annotation/Baron.h5ad\",\n",
    "           save_path=\"Baron/data/data\")"
   ]
  },
  {
   "cell_type": "code",
   "execution_count": 4,
   "metadata": {},
   "outputs": [
    {
     "name": "stderr",
     "output_type": "stream",
     "text": [
      "c:\\Users\\user\\Documents\\GitHub\\Masters_Thesis\\MScEnv\\lib\\site-packages\\anndata\\_core\\anndata.py:1838: UserWarning: Observation names are not unique. To make them unique, call `.obs_names_make_unique`.\n",
      "  utils.warn_names_duplicates(\"obs\")\n",
      "c:\\Users\\user\\Documents\\GitHub\\Masters_Thesis\\MScEnv\\lib\\site-packages\\anndata\\_core\\anndata.py:1838: UserWarning: Observation names are not unique. To make them unique, call `.obs_names_make_unique`.\n",
      "  utils.warn_names_duplicates(\"obs\")\n",
      "c:\\Users\\user\\Documents\\GitHub\\Masters_Thesis\\MScEnv\\lib\\site-packages\\anndata\\_core\\anndata.py:1838: UserWarning: Observation names are not unique. To make them unique, call `.obs_names_make_unique`.\n",
      "  utils.warn_names_duplicates(\"obs\")\n",
      "c:\\Users\\user\\Documents\\GitHub\\Masters_Thesis\\MScEnv\\lib\\site-packages\\anndata\\_core\\anndata.py:1838: UserWarning: Observation names are not unique. To make them unique, call `.obs_names_make_unique`.\n",
      "  utils.warn_names_duplicates(\"obs\")\n",
      "c:\\Users\\user\\Documents\\GitHub\\Masters_Thesis\\MScEnv\\lib\\site-packages\\anndata\\_core\\anndata.py:1838: UserWarning: Observation names are not unique. To make them unique, call `.obs_names_make_unique`.\n",
      "  utils.warn_names_duplicates(\"obs\")\n",
      "c:\\Users\\user\\Documents\\GitHub\\Masters_Thesis\\MScEnv\\lib\\site-packages\\anndata\\_core\\anndata.py:1838: UserWarning: Observation names are not unique. To make them unique, call `.obs_names_make_unique`.\n",
      "  utils.warn_names_duplicates(\"obs\")\n",
      "c:\\Users\\user\\Documents\\GitHub\\Masters_Thesis\\MScEnv\\lib\\site-packages\\anndata\\_core\\anndata.py:1838: UserWarning: Observation names are not unique. To make them unique, call `.obs_names_make_unique`.\n",
      "  utils.warn_names_duplicates(\"obs\")\n",
      "c:\\Users\\user\\Documents\\GitHub\\Masters_Thesis\\MScEnv\\lib\\site-packages\\anndata\\_core\\anndata.py:1838: UserWarning: Observation names are not unique. To make them unique, call `.obs_names_make_unique`.\n",
      "  utils.warn_names_duplicates(\"obs\")\n"
     ]
    }
   ],
   "source": [
    "split_data(data_path=\"../../data/processed/data_for_evaluating_cell_type_annotation/Baron.h5ad\",\n",
    "           save_path=\"Baron/data/data_hvgs\",\n",
    "           HVG=True)"
   ]
  },
  {
   "cell_type": "markdown",
   "metadata": {},
   "source": [
    "### Zheng68k"
   ]
  },
  {
   "cell_type": "code",
   "execution_count": 2,
   "metadata": {},
   "outputs": [
    {
     "ename": "MemoryError",
     "evalue": "Unable to allocate 2.87 GiB for an array with shape (54863, 14066) and data type float32",
     "output_type": "error",
     "traceback": [
      "\u001b[1;31m---------------------------------------------------------------------------\u001b[0m",
      "\u001b[1;31mMemoryError\u001b[0m                               Traceback (most recent call last)",
      "Cell \u001b[1;32mIn[2], line 1\u001b[0m\n\u001b[1;32m----> 1\u001b[0m \u001b[43msplit_data\u001b[49m\u001b[43m(\u001b[49m\u001b[43mdata_path\u001b[49m\u001b[38;5;241;43m=\u001b[39;49m\u001b[38;5;124;43m\"\u001b[39;49m\u001b[38;5;124;43m../../data/processed/data_for_evaluating_cell_type_annotation/Zheng68k.h5ad\u001b[39;49m\u001b[38;5;124;43m\"\u001b[39;49m\u001b[43m,\u001b[49m\n\u001b[0;32m      2\u001b[0m \u001b[43m           \u001b[49m\u001b[43msave_path\u001b[49m\u001b[38;5;241;43m=\u001b[39;49m\u001b[38;5;124;43m\"\u001b[39;49m\u001b[38;5;124;43mZheng68k/data/data\u001b[39;49m\u001b[38;5;124;43m\"\u001b[39;49m\u001b[43m)\u001b[49m\n",
      "File \u001b[1;32mc:\\Users\\user\\Documents\\GitHub\\Masters_Thesis\\code\\cell_type_annotation\\data_split_fun.py:63\u001b[0m, in \u001b[0;36msplit_data\u001b[1;34m(data_path, save_path, folds, batch_key, label_key, seed, HVG, HVGs)\u001b[0m\n\u001b[0;32m     60\u001b[0m \u001b[38;5;28;01mfor\u001b[39;00m train_index, test_index \u001b[38;5;129;01min\u001b[39;00m stratified_kfold\u001b[38;5;241m.\u001b[39msplit(adata_original\u001b[38;5;241m.\u001b[39mX, adata_original\u001b[38;5;241m.\u001b[39mobs[label_key]):\n\u001b[0;32m     61\u001b[0m     fold_counter \u001b[38;5;241m+\u001b[39m\u001b[38;5;241m=\u001b[39m \u001b[38;5;241m1\u001b[39m\n\u001b[1;32m---> 63\u001b[0m     adata \u001b[38;5;241m=\u001b[39m \u001b[43madata_original\u001b[49m\u001b[43m[\u001b[49m\u001b[43mtrain_index\u001b[49m\u001b[43m,\u001b[49m\u001b[43m \u001b[49m\u001b[43m:\u001b[49m\u001b[43m]\u001b[49m\u001b[38;5;241;43m.\u001b[39;49m\u001b[43mcopy\u001b[49m\u001b[43m(\u001b[49m\u001b[43m)\u001b[49m\n\u001b[0;32m     64\u001b[0m     test_adata \u001b[38;5;241m=\u001b[39m test_adata_original[test_index, :]\u001b[38;5;241m.\u001b[39mcopy()\n\u001b[0;32m     66\u001b[0m     \u001b[38;5;28;01mif\u001b[39;00m HVG:\n",
      "File \u001b[1;32mc:\\Users\\user\\Documents\\GitHub\\Masters_Thesis\\MScEnv\\lib\\site-packages\\anndata\\_core\\anndata.py:1522\u001b[0m, in \u001b[0;36mAnnData.copy\u001b[1;34m(self, filename)\u001b[0m\n\u001b[0;32m   1515\u001b[0m \u001b[38;5;28;01mif\u001b[39;00m \u001b[38;5;129;01mnot\u001b[39;00m \u001b[38;5;28mself\u001b[39m\u001b[38;5;241m.\u001b[39misbacked:\n\u001b[0;32m   1516\u001b[0m     \u001b[38;5;28;01mif\u001b[39;00m \u001b[38;5;28mself\u001b[39m\u001b[38;5;241m.\u001b[39mis_view \u001b[38;5;129;01mand\u001b[39;00m \u001b[38;5;28mself\u001b[39m\u001b[38;5;241m.\u001b[39m_has_X():\n\u001b[0;32m   1517\u001b[0m         \u001b[38;5;66;03m# TODO: How do I unambiguously check if this is a copy?\u001b[39;00m\n\u001b[0;32m   1518\u001b[0m         \u001b[38;5;66;03m# Subsetting this way means we don’t have to have a view type\u001b[39;00m\n\u001b[0;32m   1519\u001b[0m         \u001b[38;5;66;03m# defined for the matrix, which is needed for some of the\u001b[39;00m\n\u001b[0;32m   1520\u001b[0m         \u001b[38;5;66;03m# current distributed backend. Specifically Dask.\u001b[39;00m\n\u001b[0;32m   1521\u001b[0m         \u001b[38;5;28;01mreturn\u001b[39;00m \u001b[38;5;28mself\u001b[39m\u001b[38;5;241m.\u001b[39m_mutated_copy(\n\u001b[1;32m-> 1522\u001b[0m             X\u001b[38;5;241m=\u001b[39m\u001b[43m_subset\u001b[49m\u001b[43m(\u001b[49m\u001b[38;5;28;43mself\u001b[39;49m\u001b[38;5;241;43m.\u001b[39;49m\u001b[43m_adata_ref\u001b[49m\u001b[38;5;241;43m.\u001b[39;49m\u001b[43mX\u001b[49m\u001b[43m,\u001b[49m\u001b[43m \u001b[49m\u001b[43m(\u001b[49m\u001b[38;5;28;43mself\u001b[39;49m\u001b[38;5;241;43m.\u001b[39;49m\u001b[43m_oidx\u001b[49m\u001b[43m,\u001b[49m\u001b[43m \u001b[49m\u001b[38;5;28;43mself\u001b[39;49m\u001b[38;5;241;43m.\u001b[39;49m\u001b[43m_vidx\u001b[49m\u001b[43m)\u001b[49m\u001b[43m)\u001b[49m\u001b[38;5;241;43m.\u001b[39;49m\u001b[43mcopy\u001b[49m\u001b[43m(\u001b[49m\u001b[43m)\u001b[49m\n\u001b[0;32m   1523\u001b[0m         )\n\u001b[0;32m   1524\u001b[0m     \u001b[38;5;28;01melse\u001b[39;00m:\n\u001b[0;32m   1525\u001b[0m         \u001b[38;5;28;01mreturn\u001b[39;00m \u001b[38;5;28mself\u001b[39m\u001b[38;5;241m.\u001b[39m_mutated_copy()\n",
      "\u001b[1;31mMemoryError\u001b[0m: Unable to allocate 2.87 GiB for an array with shape (54863, 14066) and data type float32"
     ]
    }
   ],
   "source": [
    "split_data(data_path=\"../../data/processed/data_for_evaluating_cell_type_annotation/Zheng68k.h5ad\",\n",
    "           save_path=\"Zheng68k/data/data\")"
   ]
  },
  {
   "cell_type": "code",
   "execution_count": null,
   "metadata": {},
   "outputs": [],
   "source": [
    "split_data(data_path=\"../../data/processed/data_for_evaluating_cell_type_annotation/Zheng68k.h5ad\",\n",
    "           save_path=\"Zheng68k/data/data_hvgs\",\n",
    "           HVG=True)"
   ]
  }
 ],
 "metadata": {
  "kernelspec": {
   "display_name": "MScEnv",
   "language": "python",
   "name": "python3"
  },
  "language_info": {
   "codemirror_mode": {
    "name": "ipython",
    "version": 3
   },
   "file_extension": ".py",
   "mimetype": "text/x-python",
   "name": "python",
   "nbconvert_exporter": "python",
   "pygments_lexer": "ipython3",
   "version": "3.10.5"
  }
 },
 "nbformat": 4,
 "nbformat_minor": 2
}

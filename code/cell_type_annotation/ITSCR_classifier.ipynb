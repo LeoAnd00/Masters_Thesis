{
 "cells": [
  {
   "cell_type": "code",
   "execution_count": 1,
   "metadata": {},
   "outputs": [
    {
     "name": "stderr",
     "output_type": "stream",
     "text": [
      "c:\\Users\\user\\Documents\\GitHub\\Masters_Thesis\\MScEnv\\lib\\site-packages\\tqdm\\auto.py:21: TqdmWarning: IProgress not found. Please update jupyter and ipywidgets. See https://ipywidgets.readthedocs.io/en/stable/user_install.html\n",
      "  from .autonotebook import tqdm as notebook_tqdm\n"
     ]
    }
   ],
   "source": [
    "from ITSCR_classifier_train import classifier_train\n",
    "\n",
    "data_path = '../../data/processed/data_for_evaluating_cell_type_annotation/Segerstolpe.h5ad'#'../../data/processed/data_for_evaluating_cell_type_annotation/MacParland.h5ad'#'../../data/processed/immune_cells/merged/Oetjen_merged.h5ad'#'../../data/processed/data_for_evaluating_cell_type_annotation/MacParland.h5ad'\n",
    "pathway_path='../../data/processed/pathway_information/c5_pathways.json'\n",
    "image_path = ''\n",
    "classifier_env = classifier_train(data_path=data_path,\n",
    "                                  pathway_path=pathway_path,\n",
    "                                  image_path=image_path,\n",
    "                                  HVGs=2000,\n",
    "                                  fold=1)"
   ]
  },
  {
   "cell_type": "markdown",
   "metadata": {},
   "source": [
    "### NEW"
   ]
  },
  {
   "cell_type": "code",
   "execution_count": 2,
   "metadata": {},
   "outputs": [
    {
     "name": "stderr",
     "output_type": "stream",
     "text": [
      "c:\\Users\\user\\Documents\\GitHub\\Masters_Thesis\\MScEnv\\lib\\site-packages\\numpy\\core\\fromnumeric.py:3464: RuntimeWarning: Mean of empty slice.\n",
      "  return _methods._mean(a, axis=axis, dtype=dtype,\n",
      "c:\\Users\\user\\Documents\\GitHub\\Masters_Thesis\\MScEnv\\lib\\site-packages\\numpy\\core\\_methods.py:184: RuntimeWarning: invalid value encountered in divide\n",
      "  ret = um.true_divide(\n",
      "c:\\Users\\user\\Documents\\GitHub\\Masters_Thesis\\MScEnv\\lib\\site-packages\\numpy\\core\\_methods.py:192: RuntimeWarning: invalid value encountered in scalar divide\n",
      "  ret = ret.dtype.type(ret / rcount)\n",
      "c:\\Users\\user\\Documents\\GitHub\\Masters_Thesis\\MScEnv\\lib\\site-packages\\numpy\\core\\fromnumeric.py:3464: RuntimeWarning: Mean of empty slice.\n",
      "  return _methods._mean(a, axis=axis, dtype=dtype,\n",
      "c:\\Users\\user\\Documents\\GitHub\\Masters_Thesis\\MScEnv\\lib\\site-packages\\numpy\\core\\_methods.py:184: RuntimeWarning: invalid value encountered in divide\n",
      "  ret = um.true_divide(\n",
      "c:\\Users\\user\\Documents\\GitHub\\Masters_Thesis\\MScEnv\\lib\\site-packages\\numpy\\core\\_methods.py:192: RuntimeWarning: invalid value encountered in scalar divide\n",
      "  ret = ret.dtype.type(ret / rcount)\n"
     ]
    },
    {
     "name": "stdout",
     "output_type": "stream",
     "text": [
      "Number of parameters: 2558600\n",
      "\n",
      "Start Training\n",
      "\n"
     ]
    },
    {
     "name": "stderr",
     "output_type": "stream",
     "text": [
      "  1%|          | 1/100 [00:08<14:26,  8.75s/it]"
     ]
    },
    {
     "name": "stdout",
     "output_type": "stream",
     "text": [
      "Epoch 1 | Training loss: 0.3643 | Validation loss: 0.6292\n"
     ]
    },
    {
     "name": "stderr",
     "output_type": "stream",
     "text": [
      "  2%|▏         | 2/100 [00:19<16:22, 10.02s/it]"
     ]
    },
    {
     "name": "stdout",
     "output_type": "stream",
     "text": [
      "Epoch 2 | Training loss: 0.3954 | Validation loss: 0.2666\n"
     ]
    },
    {
     "name": "stderr",
     "output_type": "stream",
     "text": [
      "  3%|▎         | 3/100 [00:33<18:49, 11.65s/it]"
     ]
    },
    {
     "name": "stdout",
     "output_type": "stream",
     "text": [
      "Epoch 3 | Training loss: 0.3022 | Validation loss: 0.2801\n"
     ]
    },
    {
     "name": "stderr",
     "output_type": "stream",
     "text": [
      "  4%|▍         | 4/100 [00:47<20:19, 12.71s/it]"
     ]
    },
    {
     "name": "stdout",
     "output_type": "stream",
     "text": [
      "Epoch 4 | Training loss: 0.2265 | Validation loss: 0.3657\n"
     ]
    },
    {
     "name": "stderr",
     "output_type": "stream",
     "text": [
      "  5%|▌         | 5/100 [01:04<22:36, 14.28s/it]"
     ]
    },
    {
     "name": "stdout",
     "output_type": "stream",
     "text": [
      "Epoch 5 | Training loss: 0.2512 | Validation loss: 0.3985\n"
     ]
    },
    {
     "name": "stderr",
     "output_type": "stream",
     "text": [
      "  6%|▌         | 6/100 [01:22<24:04, 15.37s/it]"
     ]
    },
    {
     "name": "stdout",
     "output_type": "stream",
     "text": [
      "Epoch 6 | Training loss: 0.2524 | Validation loss: 0.2109\n"
     ]
    },
    {
     "name": "stderr",
     "output_type": "stream",
     "text": [
      "  7%|▋         | 7/100 [01:36<23:17, 15.02s/it]"
     ]
    },
    {
     "name": "stdout",
     "output_type": "stream",
     "text": [
      "Epoch 7 | Training loss: 0.2285 | Validation loss: 0.2521\n"
     ]
    },
    {
     "name": "stderr",
     "output_type": "stream",
     "text": [
      "  8%|▊         | 8/100 [01:51<22:55, 14.96s/it]"
     ]
    },
    {
     "name": "stdout",
     "output_type": "stream",
     "text": [
      "Epoch 8 | Training loss: 0.2659 | Validation loss: 0.3060\n"
     ]
    },
    {
     "name": "stderr",
     "output_type": "stream",
     "text": [
      "  9%|▉         | 9/100 [02:06<23:01, 15.18s/it]"
     ]
    },
    {
     "name": "stdout",
     "output_type": "stream",
     "text": [
      "Epoch 9 | Training loss: 0.1874 | Validation loss: 0.2188\n"
     ]
    },
    {
     "name": "stderr",
     "output_type": "stream",
     "text": [
      " 10%|█         | 10/100 [02:20<22:11, 14.79s/it]"
     ]
    },
    {
     "name": "stdout",
     "output_type": "stream",
     "text": [
      "Epoch 10 | Training loss: 0.1586 | Validation loss: 0.1246\n"
     ]
    },
    {
     "name": "stderr",
     "output_type": "stream",
     "text": [
      " 11%|█         | 11/100 [02:36<22:20, 15.06s/it]"
     ]
    },
    {
     "name": "stdout",
     "output_type": "stream",
     "text": [
      "Epoch 11 | Training loss: 0.1552 | Validation loss: 0.2318\n"
     ]
    },
    {
     "name": "stderr",
     "output_type": "stream",
     "text": [
      " 12%|█▏        | 12/100 [02:53<23:00, 15.69s/it]"
     ]
    },
    {
     "name": "stdout",
     "output_type": "stream",
     "text": [
      "Epoch 12 | Training loss: 0.1011 | Validation loss: 0.1233\n"
     ]
    },
    {
     "name": "stderr",
     "output_type": "stream",
     "text": [
      " 13%|█▎        | 13/100 [03:07<21:54, 15.11s/it]"
     ]
    },
    {
     "name": "stdout",
     "output_type": "stream",
     "text": [
      "Epoch 13 | Training loss: 0.1233 | Validation loss: 0.1666\n"
     ]
    },
    {
     "name": "stderr",
     "output_type": "stream",
     "text": [
      " 14%|█▍        | 14/100 [03:20<20:56, 14.61s/it]"
     ]
    },
    {
     "name": "stdout",
     "output_type": "stream",
     "text": [
      "Epoch 14 | Training loss: 0.0988 | Validation loss: 0.1455\n"
     ]
    },
    {
     "name": "stderr",
     "output_type": "stream",
     "text": [
      " 15%|█▌        | 15/100 [03:34<20:11, 14.25s/it]"
     ]
    },
    {
     "name": "stdout",
     "output_type": "stream",
     "text": [
      "Epoch 15 | Training loss: 0.0960 | Validation loss: 0.1559\n"
     ]
    },
    {
     "name": "stderr",
     "output_type": "stream",
     "text": [
      " 16%|█▌        | 16/100 [03:48<19:47, 14.13s/it]"
     ]
    },
    {
     "name": "stdout",
     "output_type": "stream",
     "text": [
      "Epoch 16 | Training loss: 0.0838 | Validation loss: 0.1747\n"
     ]
    },
    {
     "name": "stderr",
     "output_type": "stream",
     "text": [
      " 17%|█▋        | 17/100 [04:01<19:17, 13.94s/it]"
     ]
    },
    {
     "name": "stdout",
     "output_type": "stream",
     "text": [
      "Epoch 17 | Training loss: 0.0734 | Validation loss: 0.1736\n"
     ]
    },
    {
     "name": "stderr",
     "output_type": "stream",
     "text": [
      " 18%|█▊        | 18/100 [04:15<18:53, 13.82s/it]"
     ]
    },
    {
     "name": "stdout",
     "output_type": "stream",
     "text": [
      "Epoch 18 | Training loss: 0.0703 | Validation loss: 0.1931\n"
     ]
    },
    {
     "name": "stderr",
     "output_type": "stream",
     "text": [
      " 19%|█▉        | 19/100 [04:28<18:34, 13.76s/it]"
     ]
    },
    {
     "name": "stdout",
     "output_type": "stream",
     "text": [
      "Epoch 19 | Training loss: 0.0681 | Validation loss: 0.2070\n"
     ]
    },
    {
     "name": "stderr",
     "output_type": "stream",
     "text": [
      " 20%|██        | 20/100 [04:42<18:12, 13.66s/it]"
     ]
    },
    {
     "name": "stdout",
     "output_type": "stream",
     "text": [
      "Epoch 20 | Training loss: 0.0763 | Validation loss: 0.1658\n"
     ]
    },
    {
     "name": "stderr",
     "output_type": "stream",
     "text": [
      " 21%|██        | 21/100 [04:56<18:14, 13.85s/it]"
     ]
    },
    {
     "name": "stdout",
     "output_type": "stream",
     "text": [
      "Epoch 21 | Training loss: 0.0581 | Validation loss: 0.1582\n"
     ]
    },
    {
     "name": "stderr",
     "output_type": "stream",
     "text": [
      " 22%|██▏       | 22/100 [05:12<18:42, 14.39s/it]"
     ]
    },
    {
     "name": "stdout",
     "output_type": "stream",
     "text": [
      "Epoch 22 | Training loss: 0.0620 | Validation loss: 0.2261\n"
     ]
    },
    {
     "name": "stderr",
     "output_type": "stream",
     "text": [
      " 23%|██▎       | 23/100 [05:25<18:09, 14.14s/it]"
     ]
    },
    {
     "name": "stdout",
     "output_type": "stream",
     "text": [
      "Epoch 23 | Training loss: 0.0694 | Validation loss: 0.1630\n"
     ]
    },
    {
     "name": "stderr",
     "output_type": "stream",
     "text": [
      " 24%|██▍       | 24/100 [05:40<18:05, 14.29s/it]"
     ]
    },
    {
     "name": "stdout",
     "output_type": "stream",
     "text": [
      "Epoch 24 | Training loss: 0.0590 | Validation loss: 0.1908\n"
     ]
    },
    {
     "name": "stderr",
     "output_type": "stream",
     "text": [
      " 25%|██▌       | 25/100 [05:54<17:59, 14.39s/it]"
     ]
    },
    {
     "name": "stdout",
     "output_type": "stream",
     "text": [
      "Epoch 25 | Training loss: 0.0588 | Validation loss: 0.1150\n"
     ]
    },
    {
     "name": "stderr",
     "output_type": "stream",
     "text": [
      " 26%|██▌       | 26/100 [06:12<18:47, 15.24s/it]"
     ]
    },
    {
     "name": "stdout",
     "output_type": "stream",
     "text": [
      "Epoch 26 | Training loss: 0.0573 | Validation loss: 0.1074\n"
     ]
    },
    {
     "name": "stderr",
     "output_type": "stream",
     "text": [
      " 27%|██▋       | 27/100 [06:28<18:52, 15.51s/it]"
     ]
    },
    {
     "name": "stdout",
     "output_type": "stream",
     "text": [
      "Epoch 27 | Training loss: 0.0592 | Validation loss: 0.2029\n"
     ]
    },
    {
     "name": "stderr",
     "output_type": "stream",
     "text": [
      " 28%|██▊       | 28/100 [06:42<18:11, 15.16s/it]"
     ]
    },
    {
     "name": "stdout",
     "output_type": "stream",
     "text": [
      "Epoch 28 | Training loss: 0.0567 | Validation loss: 0.1952\n"
     ]
    },
    {
     "name": "stderr",
     "output_type": "stream",
     "text": [
      " 29%|██▉       | 29/100 [06:58<18:09, 15.35s/it]"
     ]
    },
    {
     "name": "stdout",
     "output_type": "stream",
     "text": [
      "Epoch 29 | Training loss: 0.0554 | Validation loss: 0.1503\n"
     ]
    },
    {
     "name": "stderr",
     "output_type": "stream",
     "text": [
      " 30%|███       | 30/100 [07:12<17:35, 15.08s/it]"
     ]
    },
    {
     "name": "stdout",
     "output_type": "stream",
     "text": [
      "Epoch 30 | Training loss: 0.0582 | Validation loss: 0.2071\n"
     ]
    },
    {
     "name": "stderr",
     "output_type": "stream",
     "text": [
      " 31%|███       | 31/100 [07:27<17:14, 14.99s/it]"
     ]
    },
    {
     "name": "stdout",
     "output_type": "stream",
     "text": [
      "Epoch 31 | Training loss: 0.0558 | Validation loss: 0.1470\n"
     ]
    },
    {
     "name": "stderr",
     "output_type": "stream",
     "text": [
      " 32%|███▏      | 32/100 [07:41<16:43, 14.75s/it]"
     ]
    },
    {
     "name": "stdout",
     "output_type": "stream",
     "text": [
      "Epoch 32 | Training loss: 0.0567 | Validation loss: 0.2060\n"
     ]
    },
    {
     "name": "stderr",
     "output_type": "stream",
     "text": [
      " 33%|███▎      | 33/100 [07:56<16:16, 14.58s/it]"
     ]
    },
    {
     "name": "stdout",
     "output_type": "stream",
     "text": [
      "Epoch 33 | Training loss: 0.0528 | Validation loss: 0.1665\n"
     ]
    },
    {
     "name": "stderr",
     "output_type": "stream",
     "text": [
      " 34%|███▍      | 34/100 [08:10<15:55, 14.48s/it]"
     ]
    },
    {
     "name": "stdout",
     "output_type": "stream",
     "text": [
      "Epoch 34 | Training loss: 0.0512 | Validation loss: 0.1940\n"
     ]
    },
    {
     "name": "stderr",
     "output_type": "stream",
     "text": [
      " 35%|███▌      | 35/100 [08:24<15:32, 14.35s/it]"
     ]
    },
    {
     "name": "stdout",
     "output_type": "stream",
     "text": [
      "Epoch 35 | Training loss: 0.0539 | Validation loss: 0.2075\n"
     ]
    },
    {
     "name": "stderr",
     "output_type": "stream",
     "text": [
      " 36%|███▌      | 36/100 [08:38<15:10, 14.22s/it]"
     ]
    },
    {
     "name": "stdout",
     "output_type": "stream",
     "text": [
      "Epoch 36 | Training loss: 0.0512 | Validation loss: 0.1043\n"
     ]
    },
    {
     "name": "stderr",
     "output_type": "stream",
     "text": [
      " 37%|███▋      | 37/100 [08:52<14:54, 14.20s/it]"
     ]
    },
    {
     "name": "stdout",
     "output_type": "stream",
     "text": [
      "Epoch 37 | Training loss: 0.0526 | Validation loss: 0.1620\n"
     ]
    },
    {
     "name": "stderr",
     "output_type": "stream",
     "text": [
      " 38%|███▊      | 38/100 [09:06<14:33, 14.08s/it]"
     ]
    },
    {
     "name": "stdout",
     "output_type": "stream",
     "text": [
      "Epoch 38 | Training loss: 0.0538 | Validation loss: 0.1192\n"
     ]
    },
    {
     "name": "stderr",
     "output_type": "stream",
     "text": [
      " 39%|███▉      | 39/100 [09:20<14:22, 14.14s/it]"
     ]
    },
    {
     "name": "stdout",
     "output_type": "stream",
     "text": [
      "Epoch 39 | Training loss: 0.0540 | Validation loss: 0.1559\n"
     ]
    },
    {
     "name": "stderr",
     "output_type": "stream",
     "text": [
      " 40%|████      | 40/100 [09:34<14:05, 14.08s/it]"
     ]
    },
    {
     "name": "stdout",
     "output_type": "stream",
     "text": [
      "Epoch 40 | Training loss: 0.0521 | Validation loss: 0.1603\n"
     ]
    },
    {
     "name": "stderr",
     "output_type": "stream",
     "text": [
      " 41%|████      | 41/100 [09:47<13:40, 13.90s/it]"
     ]
    },
    {
     "name": "stdout",
     "output_type": "stream",
     "text": [
      "Epoch 41 | Training loss: 0.0524 | Validation loss: 0.1409\n"
     ]
    },
    {
     "name": "stderr",
     "output_type": "stream",
     "text": [
      " 42%|████▏     | 42/100 [10:01<13:24, 13.87s/it]"
     ]
    },
    {
     "name": "stdout",
     "output_type": "stream",
     "text": [
      "Epoch 42 | Training loss: 0.0509 | Validation loss: 0.1557\n"
     ]
    },
    {
     "name": "stderr",
     "output_type": "stream",
     "text": [
      " 43%|████▎     | 43/100 [10:16<13:31, 14.23s/it]"
     ]
    },
    {
     "name": "stdout",
     "output_type": "stream",
     "text": [
      "Epoch 43 | Training loss: 0.0599 | Validation loss: 0.1724\n"
     ]
    },
    {
     "name": "stderr",
     "output_type": "stream",
     "text": [
      " 44%|████▍     | 44/100 [10:31<13:17, 14.23s/it]"
     ]
    },
    {
     "name": "stdout",
     "output_type": "stream",
     "text": [
      "Epoch 44 | Training loss: 0.0604 | Validation loss: 0.1036\n"
     ]
    },
    {
     "name": "stderr",
     "output_type": "stream",
     "text": [
      " 45%|████▌     | 45/100 [10:46<13:14, 14.45s/it]"
     ]
    },
    {
     "name": "stdout",
     "output_type": "stream",
     "text": [
      "Epoch 45 | Training loss: 0.0514 | Validation loss: 0.1638\n"
     ]
    },
    {
     "name": "stderr",
     "output_type": "stream",
     "text": [
      " 46%|████▌     | 46/100 [11:00<13:04, 14.53s/it]"
     ]
    },
    {
     "name": "stdout",
     "output_type": "stream",
     "text": [
      "Epoch 46 | Training loss: 0.0535 | Validation loss: 0.1853\n"
     ]
    },
    {
     "name": "stderr",
     "output_type": "stream",
     "text": [
      " 47%|████▋     | 47/100 [11:16<13:12, 14.95s/it]"
     ]
    },
    {
     "name": "stdout",
     "output_type": "stream",
     "text": [
      "Epoch 47 | Training loss: 0.0511 | Validation loss: 0.1818\n"
     ]
    },
    {
     "name": "stderr",
     "output_type": "stream",
     "text": [
      " 48%|████▊     | 48/100 [11:31<13:01, 15.02s/it]"
     ]
    },
    {
     "name": "stdout",
     "output_type": "stream",
     "text": [
      "Epoch 48 | Training loss: 0.0519 | Validation loss: 0.1725\n"
     ]
    },
    {
     "name": "stderr",
     "output_type": "stream",
     "text": [
      " 49%|████▉     | 49/100 [11:47<12:50, 15.10s/it]"
     ]
    },
    {
     "name": "stdout",
     "output_type": "stream",
     "text": [
      "Epoch 49 | Training loss: 0.0550 | Validation loss: 0.1653\n"
     ]
    },
    {
     "name": "stderr",
     "output_type": "stream",
     "text": [
      " 50%|█████     | 50/100 [12:02<12:39, 15.19s/it]"
     ]
    },
    {
     "name": "stdout",
     "output_type": "stream",
     "text": [
      "Epoch 50 | Training loss: 0.0547 | Validation loss: 0.1176\n"
     ]
    },
    {
     "name": "stderr",
     "output_type": "stream",
     "text": [
      " 51%|█████     | 51/100 [12:16<12:13, 14.96s/it]"
     ]
    },
    {
     "name": "stdout",
     "output_type": "stream",
     "text": [
      "Epoch 51 | Training loss: 0.0533 | Validation loss: 0.1226\n"
     ]
    },
    {
     "name": "stderr",
     "output_type": "stream",
     "text": [
      " 52%|█████▏    | 52/100 [12:31<11:54, 14.89s/it]"
     ]
    },
    {
     "name": "stdout",
     "output_type": "stream",
     "text": [
      "Epoch 52 | Training loss: 0.0524 | Validation loss: 0.1424\n"
     ]
    },
    {
     "name": "stderr",
     "output_type": "stream",
     "text": [
      " 53%|█████▎    | 53/100 [12:47<11:59, 15.30s/it]"
     ]
    },
    {
     "name": "stdout",
     "output_type": "stream",
     "text": [
      "Epoch 53 | Training loss: 0.0547 | Validation loss: 0.1465\n"
     ]
    },
    {
     "name": "stderr",
     "output_type": "stream",
     "text": [
      " 54%|█████▍    | 54/100 [13:04<11:56, 15.57s/it]"
     ]
    },
    {
     "name": "stdout",
     "output_type": "stream",
     "text": [
      "Epoch 54 | Training loss: 0.0516 | Validation loss: 0.1612\n"
     ]
    },
    {
     "name": "stderr",
     "output_type": "stream",
     "text": [
      " 55%|█████▌    | 55/100 [13:20<11:52, 15.83s/it]"
     ]
    },
    {
     "name": "stdout",
     "output_type": "stream",
     "text": [
      "Epoch 55 | Training loss: 0.0508 | Validation loss: 0.1586\n"
     ]
    },
    {
     "name": "stderr",
     "output_type": "stream",
     "text": [
      " 56%|█████▌    | 56/100 [13:35<11:22, 15.52s/it]"
     ]
    },
    {
     "name": "stdout",
     "output_type": "stream",
     "text": [
      "Epoch 56 | Training loss: 0.0504 | Validation loss: 0.1804\n"
     ]
    },
    {
     "name": "stderr",
     "output_type": "stream",
     "text": [
      " 57%|█████▋    | 57/100 [13:50<10:56, 15.28s/it]"
     ]
    },
    {
     "name": "stdout",
     "output_type": "stream",
     "text": [
      "Epoch 57 | Training loss: 0.0503 | Validation loss: 0.2187\n"
     ]
    },
    {
     "name": "stderr",
     "output_type": "stream",
     "text": [
      " 58%|█████▊    | 58/100 [14:04<10:27, 14.94s/it]"
     ]
    },
    {
     "name": "stdout",
     "output_type": "stream",
     "text": [
      "Epoch 58 | Training loss: 0.0527 | Validation loss: 0.1556\n"
     ]
    },
    {
     "name": "stderr",
     "output_type": "stream",
     "text": [
      " 59%|█████▉    | 59/100 [14:18<10:00, 14.66s/it]"
     ]
    },
    {
     "name": "stdout",
     "output_type": "stream",
     "text": [
      "Epoch 59 | Training loss: 0.0602 | Validation loss: 0.1713\n"
     ]
    },
    {
     "name": "stderr",
     "output_type": "stream",
     "text": [
      " 60%|██████    | 60/100 [14:33<09:54, 14.87s/it]"
     ]
    },
    {
     "name": "stdout",
     "output_type": "stream",
     "text": [
      "Epoch 60 | Training loss: 0.0514 | Validation loss: 0.2534\n"
     ]
    },
    {
     "name": "stderr",
     "output_type": "stream",
     "text": [
      " 61%|██████    | 61/100 [14:49<09:51, 15.18s/it]"
     ]
    },
    {
     "name": "stdout",
     "output_type": "stream",
     "text": [
      "Epoch 61 | Training loss: 0.0545 | Validation loss: 0.1358\n"
     ]
    },
    {
     "name": "stderr",
     "output_type": "stream",
     "text": [
      " 62%|██████▏   | 62/100 [15:04<09:35, 15.15s/it]"
     ]
    },
    {
     "name": "stdout",
     "output_type": "stream",
     "text": [
      "Epoch 62 | Training loss: 0.0503 | Validation loss: 0.2475\n"
     ]
    },
    {
     "name": "stderr",
     "output_type": "stream",
     "text": [
      " 63%|██████▎   | 63/100 [15:18<09:06, 14.78s/it]"
     ]
    },
    {
     "name": "stdout",
     "output_type": "stream",
     "text": [
      "Epoch 63 | Training loss: 0.0507 | Validation loss: 0.2061\n"
     ]
    },
    {
     "name": "stderr",
     "output_type": "stream",
     "text": [
      " 63%|██████▎   | 63/100 [15:32<09:07, 14.80s/it]\n",
      "[I 2024-02-19 09:15:58,284] A new study created in memory with name: no-name-e291fc8a-4a50-46be-a89d-015faaa1582b\n"
     ]
    },
    {
     "name": "stdout",
     "output_type": "stream",
     "text": [
      "Epoch 64 | Training loss: 0.0506 | Validation loss: 0.1493\n",
      "Stopped training using EarlyStopping at epoch 64\n",
      "\n",
      "**Finished training**\n",
      "\n",
      "Best validation loss (reached after 44 epochs): 0.10357867926359177\n",
      "\n",
      "Training time: 15.54 minutes\n",
      "Total training time: 15.57 minutes\n",
      "\n",
      "Start training classifier\n",
      "\n",
      "\n",
      "Start Training\n",
      "\n"
     ]
    },
    {
     "name": "stderr",
     "output_type": "stream",
     "text": [
      "100%|██████████| 50/50 [00:08<00:00,  5.95it/s]\n",
      "[I 2024-02-19 09:16:06,719] Trial 0 finished with value: 1.957436294062063 and parameters: {'n_neurons_layer1': 128, 'n_neurons_layer2': 1344, 'learning_rate': 3.7800974840824983e-05, 'dropout': 0.30000000000000004}. Best is trial 0 with value: 1.957436294062063.\n"
     ]
    },
    {
     "name": "stdout",
     "output_type": "stream",
     "text": [
      "\n",
      "**Finished training**\n",
      "\n",
      "Best validation loss (reached after 42 epochs): 1.957436294062063\n",
      "\n",
      "Training time: 0.14 minutes\n",
      "Total training time: 0.14 minutes\n",
      "Start training classifier\n",
      "\n",
      "\n",
      "Start Training\n",
      "\n"
     ]
    },
    {
     "name": "stderr",
     "output_type": "stream",
     "text": [
      " 74%|███████▍  | 37/50 [00:06<00:02,  5.58it/s]\n",
      "[I 2024-02-19 09:16:13,385] Trial 1 finished with value: 1.899348801234737 and parameters: {'n_neurons_layer1': 704, 'n_neurons_layer2': 704, 'learning_rate': 0.00012946265494835502, 'dropout': 0.0}. Best is trial 1 with value: 1.899348801234737.\n"
     ]
    },
    {
     "name": "stdout",
     "output_type": "stream",
     "text": [
      "Stopped training using EarlyStopping at epoch 38\n",
      "\n",
      "**Finished training**\n",
      "\n",
      "Best validation loss (reached after 28 epochs): 1.899348801234737\n",
      "\n",
      "Training time: 0.11 minutes\n",
      "Total training time: 0.11 minutes\n",
      "Start training classifier\n",
      "\n",
      "\n",
      "Start Training\n",
      "\n"
     ]
    },
    {
     "name": "stderr",
     "output_type": "stream",
     "text": [
      " 68%|██████▊   | 34/50 [00:05<00:02,  6.65it/s]\n",
      "[I 2024-02-19 09:16:18,538] Trial 2 finished with value: 1.9029105007648468 and parameters: {'n_neurons_layer1': 1856, 'n_neurons_layer2': 512, 'learning_rate': 0.0009819646822325735, 'dropout': 0.30000000000000004}. Best is trial 1 with value: 1.899348801234737.\n"
     ]
    },
    {
     "name": "stdout",
     "output_type": "stream",
     "text": [
      "Stopped training using EarlyStopping at epoch 35\n",
      "\n",
      "**Finished training**\n",
      "\n",
      "Best validation loss (reached after 25 epochs): 1.9029105007648468\n",
      "\n",
      "Training time: 0.09 minutes\n",
      "Total training time: 0.09 minutes\n",
      "Start training classifier\n",
      "\n",
      "\n",
      "Start Training\n",
      "\n"
     ]
    },
    {
     "name": "stderr",
     "output_type": "stream",
     "text": [
      " 40%|████      | 20/50 [00:03<00:05,  5.59it/s]\n",
      "[I 2024-02-19 09:16:22,172] Trial 3 finished with value: 1.9050390750635415 and parameters: {'n_neurons_layer1': 1984, 'n_neurons_layer2': 1728, 'learning_rate': 0.0018255307221016624, 'dropout': 0.1}. Best is trial 1 with value: 1.899348801234737.\n"
     ]
    },
    {
     "name": "stdout",
     "output_type": "stream",
     "text": [
      "Stopped training using EarlyStopping at epoch 21\n",
      "\n",
      "**Finished training**\n",
      "\n",
      "Best validation loss (reached after 11 epochs): 1.9050390750635415\n",
      "\n",
      "Training time: 0.06 minutes\n",
      "Total training time: 0.06 minutes\n",
      "Start training classifier\n",
      "\n",
      "\n",
      "Start Training\n",
      "\n"
     ]
    },
    {
     "name": "stderr",
     "output_type": "stream",
     "text": [
      " 54%|█████▍    | 27/50 [00:04<00:03,  5.90it/s]\n",
      "[I 2024-02-19 09:16:26,799] Trial 4 finished with value: 1.8993968365248293 and parameters: {'n_neurons_layer1': 1856, 'n_neurons_layer2': 1472, 'learning_rate': 0.002668782667254066, 'dropout': 0.30000000000000004}. Best is trial 1 with value: 1.899348801234737.\n"
     ]
    },
    {
     "name": "stdout",
     "output_type": "stream",
     "text": [
      "Stopped training using EarlyStopping at epoch 28\n",
      "\n",
      "**Finished training**\n",
      "\n",
      "Best validation loss (reached after 18 epochs): 1.8993968365248293\n",
      "\n",
      "Training time: 0.08 minutes\n",
      "Total training time: 0.08 minutes\n",
      "Start training classifier\n",
      "\n",
      "\n",
      "Start Training\n",
      "\n"
     ]
    },
    {
     "name": "stderr",
     "output_type": "stream",
     "text": [
      " 74%|███████▍  | 37/50 [00:05<00:01,  6.77it/s]\n",
      "[I 2024-02-19 09:16:32,301] Trial 5 finished with value: 1.9022594946436584 and parameters: {'n_neurons_layer1': 1280, 'n_neurons_layer2': 640, 'learning_rate': 0.0015426369513606292, 'dropout': 0.1}. Best is trial 1 with value: 1.899348801234737.\n"
     ]
    },
    {
     "name": "stdout",
     "output_type": "stream",
     "text": [
      "Stopped training using EarlyStopping at epoch 38\n",
      "\n",
      "**Finished training**\n",
      "\n",
      "Best validation loss (reached after 28 epochs): 1.9022594946436584\n",
      "\n",
      "Training time: 0.09 minutes\n",
      "Total training time: 0.09 minutes\n",
      "Start training classifier\n",
      "\n",
      "\n",
      "Start Training\n",
      "\n"
     ]
    },
    {
     "name": "stderr",
     "output_type": "stream",
     "text": [
      " 74%|███████▍  | 37/50 [00:05<00:01,  7.09it/s]\n",
      "[I 2024-02-19 09:16:37,549] Trial 6 finished with value: 1.9102965332567692 and parameters: {'n_neurons_layer1': 192, 'n_neurons_layer2': 1984, 'learning_rate': 0.000133668783758617, 'dropout': 0.4}. Best is trial 1 with value: 1.899348801234737.\n"
     ]
    },
    {
     "name": "stdout",
     "output_type": "stream",
     "text": [
      "Stopped training using EarlyStopping at epoch 38\n",
      "\n",
      "**Finished training**\n",
      "\n",
      "Best validation loss (reached after 28 epochs): 1.9102965332567692\n",
      "\n",
      "Training time: 0.09 minutes\n",
      "Total training time: 0.09 minutes\n",
      "Start training classifier\n",
      "\n",
      "\n",
      "Start Training\n",
      "\n"
     ]
    },
    {
     "name": "stderr",
     "output_type": "stream",
     "text": [
      " 74%|███████▍  | 37/50 [00:05<00:02,  6.33it/s]\n",
      "[I 2024-02-19 09:16:43,432] Trial 7 finished with value: 1.9011664486024529 and parameters: {'n_neurons_layer1': 1216, 'n_neurons_layer2': 1408, 'learning_rate': 0.00012082185889828867, 'dropout': 0.5}. Best is trial 1 with value: 1.899348801234737.\n"
     ]
    },
    {
     "name": "stdout",
     "output_type": "stream",
     "text": [
      "Stopped training using EarlyStopping at epoch 38\n",
      "\n",
      "**Finished training**\n",
      "\n",
      "Best validation loss (reached after 28 epochs): 1.9011664486024529\n",
      "\n",
      "Training time: 0.10 minutes\n",
      "Total training time: 0.10 minutes\n",
      "Start training classifier\n",
      "\n",
      "\n",
      "Start Training\n",
      "\n"
     ]
    },
    {
     "name": "stderr",
     "output_type": "stream",
     "text": [
      " 36%|███▌      | 18/50 [00:03<00:05,  5.89it/s]\n",
      "[I 2024-02-19 09:16:46,529] Trial 8 finished with value: 1.90522865857929 and parameters: {'n_neurons_layer1': 1984, 'n_neurons_layer2': 1088, 'learning_rate': 0.0006599102143453313, 'dropout': 0.0}. Best is trial 1 with value: 1.899348801234737.\n"
     ]
    },
    {
     "name": "stdout",
     "output_type": "stream",
     "text": [
      "Stopped training using EarlyStopping at epoch 19\n",
      "\n",
      "**Finished training**\n",
      "\n",
      "Best validation loss (reached after 9 epochs): 1.90522865857929\n",
      "\n",
      "Training time: 0.05 minutes\n",
      "Total training time: 0.05 minutes\n",
      "Start training classifier\n",
      "\n",
      "\n",
      "Start Training\n",
      "\n"
     ]
    },
    {
     "name": "stderr",
     "output_type": "stream",
     "text": [
      " 74%|███████▍  | 37/50 [00:06<00:02,  5.71it/s]\n",
      "[I 2024-02-19 09:16:53,062] Trial 9 finished with value: 1.8993833905551583 and parameters: {'n_neurons_layer1': 1856, 'n_neurons_layer2': 1728, 'learning_rate': 4.3494749259142333e-05, 'dropout': 0.30000000000000004}. Best is trial 1 with value: 1.899348801234737.\n"
     ]
    },
    {
     "name": "stdout",
     "output_type": "stream",
     "text": [
      "Stopped training using EarlyStopping at epoch 38\n",
      "\n",
      "**Finished training**\n",
      "\n",
      "Best validation loss (reached after 28 epochs): 1.8993833905551583\n",
      "\n",
      "Training time: 0.11 minutes\n",
      "Total training time: 0.11 minutes\n",
      "Start training classifier\n",
      "\n",
      "\n",
      "Start Training\n",
      "\n"
     ]
    },
    {
     "name": "stderr",
     "output_type": "stream",
     "text": [
      "100%|██████████| 50/50 [00:07<00:00,  7.13it/s]\n",
      "[I 2024-02-19 09:17:00,127] Trial 10 finished with value: 2.2997172062750906 and parameters: {'n_neurons_layer1': 704, 'n_neurons_layer2': 128, 'learning_rate': 1.2958367900238635e-05, 'dropout': 0.0}. Best is trial 1 with value: 1.899348801234737.\n"
     ]
    },
    {
     "name": "stdout",
     "output_type": "stream",
     "text": [
      "\n",
      "**Finished training**\n",
      "\n",
      "Best validation loss (reached after 42 epochs): 2.2997172062750906\n",
      "\n",
      "Training time: 0.12 minutes\n",
      "Total training time: 0.12 minutes\n",
      "Start training classifier\n",
      "\n",
      "\n",
      "Start Training\n",
      "\n"
     ]
    },
    {
     "name": "stderr",
     "output_type": "stream",
     "text": [
      " 74%|███████▍  | 37/50 [00:05<00:02,  6.50it/s]\n",
      "[I 2024-02-19 09:17:05,875] Trial 11 finished with value: 1.90905527677387 and parameters: {'n_neurons_layer1': 768, 'n_neurons_layer2': 832, 'learning_rate': 6.029476477057456e-05, 'dropout': 0.2}. Best is trial 1 with value: 1.899348801234737.\n"
     ]
    },
    {
     "name": "stdout",
     "output_type": "stream",
     "text": [
      "Stopped training using EarlyStopping at epoch 38\n",
      "\n",
      "**Finished training**\n",
      "\n",
      "Best validation loss (reached after 28 epochs): 1.90905527677387\n",
      "\n",
      "Training time: 0.09 minutes\n",
      "Total training time: 0.10 minutes\n",
      "Start training classifier\n",
      "\n",
      "\n",
      "Start Training\n",
      "\n"
     ]
    },
    {
     "name": "stderr",
     "output_type": "stream",
     "text": [
      " 74%|███████▍  | 37/50 [00:05<00:01,  7.29it/s]\n",
      "[I 2024-02-19 09:17:10,997] Trial 12 finished with value: 1.9067167432513088 and parameters: {'n_neurons_layer1': 832, 'n_neurons_layer2': 256, 'learning_rate': 0.0003173266031462763, 'dropout': 0.2}. Best is trial 1 with value: 1.899348801234737.\n"
     ]
    },
    {
     "name": "stdout",
     "output_type": "stream",
     "text": [
      "Stopped training using EarlyStopping at epoch 38\n",
      "\n",
      "**Finished training**\n",
      "\n",
      "Best validation loss (reached after 28 epochs): 1.9067167432513088\n",
      "\n",
      "Training time: 0.08 minutes\n",
      "Total training time: 0.08 minutes\n",
      "Start training classifier\n",
      "\n",
      "\n",
      "Start Training\n",
      "\n"
     ]
    },
    {
     "name": "stderr",
     "output_type": "stream",
     "text": [
      " 40%|████      | 20/50 [00:03<00:04,  6.21it/s]\n",
      "[I 2024-02-19 09:17:14,271] Trial 13 finished with value: 1.911198512185365 and parameters: {'n_neurons_layer1': 1472, 'n_neurons_layer2': 960, 'learning_rate': 0.0071455838044835965, 'dropout': 0.4}. Best is trial 1 with value: 1.899348801234737.\n"
     ]
    },
    {
     "name": "stdout",
     "output_type": "stream",
     "text": [
      "Stopped training using EarlyStopping at epoch 21\n",
      "\n",
      "**Finished training**\n",
      "\n",
      "Best validation loss (reached after 11 epochs): 1.911198512185365\n",
      "\n",
      "Training time: 0.05 minutes\n",
      "Total training time: 0.05 minutes\n",
      "Start training classifier\n",
      "\n",
      "\n",
      "Start Training\n",
      "\n"
     ]
    },
    {
     "name": "stderr",
     "output_type": "stream",
     "text": [
      "100%|██████████| 50/50 [00:07<00:00,  6.91it/s]\n",
      "[I 2024-02-19 09:17:21,555] Trial 14 finished with value: 1.9614352851640433 and parameters: {'n_neurons_layer1': 448, 'n_neurons_layer2': 1920, 'learning_rate': 1.2384662470544452e-05, 'dropout': 0.1}. Best is trial 1 with value: 1.899348801234737.\n"
     ]
    },
    {
     "name": "stdout",
     "output_type": "stream",
     "text": [
      "\n",
      "**Finished training**\n",
      "\n",
      "Best validation loss (reached after 42 epochs): 1.9614352851640433\n",
      "\n",
      "Training time: 0.12 minutes\n",
      "Total training time: 0.12 minutes\n",
      "Start training classifier\n",
      "\n",
      "\n",
      "Start Training\n",
      "\n"
     ]
    },
    {
     "name": "stderr",
     "output_type": "stream",
     "text": [
      " 74%|███████▍  | 37/50 [00:05<00:02,  6.45it/s]\n",
      "[I 2024-02-19 09:17:27,350] Trial 15 finished with value: 1.9098757123574615 and parameters: {'n_neurons_layer1': 1536, 'n_neurons_layer2': 1152, 'learning_rate': 4.010387505107815e-05, 'dropout': 0.4}. Best is trial 1 with value: 1.899348801234737.\n"
     ]
    },
    {
     "name": "stdout",
     "output_type": "stream",
     "text": [
      "Stopped training using EarlyStopping at epoch 38\n",
      "\n",
      "**Finished training**\n",
      "\n",
      "Best validation loss (reached after 28 epochs): 1.9098757123574615\n",
      "\n",
      "Training time: 0.10 minutes\n",
      "Total training time: 0.10 minutes\n",
      "Start training classifier\n",
      "\n",
      "\n",
      "Start Training\n",
      "\n"
     ]
    },
    {
     "name": "stderr",
     "output_type": "stream",
     "text": [
      " 74%|███████▍  | 37/50 [00:05<00:01,  6.91it/s]\n",
      "[I 2024-02-19 09:17:32,751] Trial 16 finished with value: 1.9017967081163079 and parameters: {'n_neurons_layer1': 1024, 'n_neurons_layer2': 448, 'learning_rate': 0.00022924876807930302, 'dropout': 0.2}. Best is trial 1 with value: 1.899348801234737.\n"
     ]
    },
    {
     "name": "stdout",
     "output_type": "stream",
     "text": [
      "Stopped training using EarlyStopping at epoch 38\n",
      "\n",
      "**Finished training**\n",
      "\n",
      "Best validation loss (reached after 28 epochs): 1.9017967081163079\n",
      "\n",
      "Training time: 0.09 minutes\n",
      "Total training time: 0.09 minutes\n",
      "Start training classifier\n",
      "\n",
      "\n",
      "Start Training\n",
      "\n"
     ]
    },
    {
     "name": "stderr",
     "output_type": "stream",
     "text": [
      "100%|██████████| 50/50 [00:07<00:00,  6.74it/s]\n",
      "[I 2024-02-19 09:17:40,223] Trial 17 finished with value: 1.9362708933185786 and parameters: {'n_neurons_layer1': 512, 'n_neurons_layer2': 1728, 'learning_rate': 2.3957267714782422e-05, 'dropout': 0.5}. Best is trial 1 with value: 1.899348801234737.\n"
     ]
    },
    {
     "name": "stdout",
     "output_type": "stream",
     "text": [
      "\n",
      "**Finished training**\n",
      "\n",
      "Best validation loss (reached after 42 epochs): 1.9362708933185786\n",
      "\n",
      "Training time: 0.12 minutes\n",
      "Total training time: 0.12 minutes\n",
      "Start training classifier\n",
      "\n",
      "\n",
      "Start Training\n",
      "\n"
     ]
    },
    {
     "name": "stderr",
     "output_type": "stream",
     "text": [
      " 74%|███████▍  | 37/50 [00:06<00:02,  5.96it/s]\n",
      "[I 2024-02-19 09:17:46,487] Trial 18 finished with value: 1.8993844382930547 and parameters: {'n_neurons_layer1': 1536, 'n_neurons_layer2': 768, 'learning_rate': 9.223519196513937e-05, 'dropout': 0.0}. Best is trial 1 with value: 1.899348801234737.\n"
     ]
    },
    {
     "name": "stdout",
     "output_type": "stream",
     "text": [
      "Stopped training using EarlyStopping at epoch 38\n",
      "\n",
      "**Finished training**\n",
      "\n",
      "Best validation loss (reached after 28 epochs): 1.8993844382930547\n",
      "\n",
      "Training time: 0.10 minutes\n",
      "Total training time: 0.10 minutes\n",
      "Start training classifier\n",
      "\n",
      "\n",
      "Start Training\n",
      "\n"
     ]
    },
    {
     "name": "stderr",
     "output_type": "stream",
     "text": [
      " 36%|███▌      | 18/50 [00:03<00:05,  5.78it/s]\n",
      "[I 2024-02-19 09:17:49,663] Trial 19 finished with value: 1.906327239004895 and parameters: {'n_neurons_layer1': 960, 'n_neurons_layer2': 1664, 'learning_rate': 0.0003907964653203775, 'dropout': 0.1}. Best is trial 1 with value: 1.899348801234737.\n"
     ]
    },
    {
     "name": "stdout",
     "output_type": "stream",
     "text": [
      "Stopped training using EarlyStopping at epoch 19\n",
      "\n",
      "**Finished training**\n",
      "\n",
      "Best validation loss (reached after 9 epochs): 1.906327239004895\n",
      "\n",
      "Training time: 0.05 minutes\n",
      "Total training time: 0.05 minutes\n",
      "Start training classifier\n",
      "\n",
      "\n",
      "Start Training\n",
      "\n"
     ]
    },
    {
     "name": "stderr",
     "output_type": "stream",
     "text": [
      "100%|██████████| 50/50 [00:07<00:00,  6.87it/s]\n",
      "[I 2024-02-19 09:17:56,993] Trial 20 finished with value: 1.9330623119603842 and parameters: {'n_neurons_layer1': 448, 'n_neurons_layer2': 1280, 'learning_rate': 2.4236490296618697e-05, 'dropout': 0.2}. Best is trial 1 with value: 1.899348801234737.\n"
     ]
    },
    {
     "name": "stdout",
     "output_type": "stream",
     "text": [
      "\n",
      "**Finished training**\n",
      "\n",
      "Best validation loss (reached after 42 epochs): 1.9330623119603842\n",
      "\n",
      "Training time: 0.12 minutes\n",
      "Total training time: 0.12 minutes\n",
      "Start training classifier\n",
      "\n",
      "\n",
      "Start Training\n",
      "\n"
     ]
    },
    {
     "name": "stderr",
     "output_type": "stream",
     "text": [
      " 74%|███████▍  | 37/50 [00:06<00:02,  5.70it/s]\n",
      "[I 2024-02-19 09:18:03,548] Trial 21 finished with value: 1.897494412958622 and parameters: {'n_neurons_layer1': 1664, 'n_neurons_layer2': 832, 'learning_rate': 9.90250607434328e-05, 'dropout': 0.0}. Best is trial 21 with value: 1.897494412958622.\n"
     ]
    },
    {
     "name": "stdout",
     "output_type": "stream",
     "text": [
      "Stopped training using EarlyStopping at epoch 38\n",
      "\n",
      "**Finished training**\n",
      "\n",
      "Best validation loss (reached after 28 epochs): 1.897494412958622\n",
      "\n",
      "Training time: 0.11 minutes\n",
      "Total training time: 0.11 minutes\n",
      "Start training classifier\n",
      "\n",
      "\n",
      "Start Training\n",
      "\n"
     ]
    },
    {
     "name": "stderr",
     "output_type": "stream",
     "text": [
      " 68%|██████▊   | 34/50 [00:05<00:02,  6.26it/s]\n",
      "[I 2024-02-19 09:18:09,049] Trial 22 finished with value: 1.9019477448891848 and parameters: {'n_neurons_layer1': 1664, 'n_neurons_layer2': 832, 'learning_rate': 0.00019433238535801015, 'dropout': 0.0}. Best is trial 21 with value: 1.897494412958622.\n"
     ]
    },
    {
     "name": "stdout",
     "output_type": "stream",
     "text": [
      "Stopped training using EarlyStopping at epoch 35\n",
      "\n",
      "**Finished training**\n",
      "\n",
      "Best validation loss (reached after 25 epochs): 1.9019477448891848\n",
      "\n",
      "Training time: 0.09 minutes\n",
      "Total training time: 0.09 minutes\n",
      "Start training classifier\n",
      "\n",
      "\n",
      "Start Training\n",
      "\n"
     ]
    },
    {
     "name": "stderr",
     "output_type": "stream",
     "text": [
      " 74%|███████▍  | 37/50 [00:05<00:02,  6.31it/s]\n",
      "[I 2024-02-19 09:18:14,962] Trial 23 finished with value: 1.9056305368430912 and parameters: {'n_neurons_layer1': 1280, 'n_neurons_layer2': 640, 'learning_rate': 6.63561358429413e-05, 'dropout': 0.1}. Best is trial 21 with value: 1.897494412958622.\n"
     ]
    },
    {
     "name": "stdout",
     "output_type": "stream",
     "text": [
      "Stopped training using EarlyStopping at epoch 38\n",
      "\n",
      "**Finished training**\n",
      "\n",
      "Best validation loss (reached after 28 epochs): 1.9056305368430912\n",
      "\n",
      "Training time: 0.10 minutes\n",
      "Total training time: 0.10 minutes\n",
      "Start training classifier\n",
      "\n",
      "\n",
      "Start Training\n",
      "\n"
     ]
    },
    {
     "name": "stderr",
     "output_type": "stream",
     "text": [
      " 74%|███████▍  | 37/50 [00:05<00:01,  6.88it/s]\n",
      "[I 2024-02-19 09:18:20,397] Trial 24 finished with value: 1.9255663398653269 and parameters: {'n_neurons_layer1': 1728, 'n_neurons_layer2': 384, 'learning_rate': 5.725495819491095e-05, 'dropout': 0.0}. Best is trial 21 with value: 1.897494412958622.\n"
     ]
    },
    {
     "name": "stdout",
     "output_type": "stream",
     "text": [
      "Stopped training using EarlyStopping at epoch 38\n",
      "\n",
      "**Finished training**\n",
      "\n",
      "Best validation loss (reached after 28 epochs): 1.9255663398653269\n",
      "\n",
      "Training time: 0.09 minutes\n",
      "Total training time: 0.09 minutes\n",
      "Start training classifier\n",
      "\n",
      "\n",
      "Start Training\n",
      "\n"
     ]
    },
    {
     "name": "stderr",
     "output_type": "stream",
     "text": [
      " 74%|███████▍  | 37/50 [00:05<00:02,  6.26it/s]\n",
      "[I 2024-02-19 09:18:26,363] Trial 25 finished with value: 1.8975373832508922 and parameters: {'n_neurons_layer1': 1152, 'n_neurons_layer2': 960, 'learning_rate': 0.00014917742912269992, 'dropout': 0.30000000000000004}. Best is trial 21 with value: 1.897494412958622.\n"
     ]
    },
    {
     "name": "stdout",
     "output_type": "stream",
     "text": [
      "Stopped training using EarlyStopping at epoch 38\n",
      "\n",
      "**Finished training**\n",
      "\n",
      "Best validation loss (reached after 28 epochs): 1.8975373832508922\n",
      "\n",
      "Training time: 0.10 minutes\n",
      "Total training time: 0.10 minutes\n",
      "Start training classifier\n",
      "\n",
      "\n",
      "Start Training\n",
      "\n"
     ]
    },
    {
     "name": "stderr",
     "output_type": "stream",
     "text": [
      " 68%|██████▊   | 34/50 [00:05<00:02,  6.15it/s]\n",
      "[I 2024-02-19 09:18:31,944] Trial 26 finished with value: 1.901062092045322 and parameters: {'n_neurons_layer1': 1152, 'n_neurons_layer2': 960, 'learning_rate': 0.000163072769432129, 'dropout': 0.1}. Best is trial 21 with value: 1.897494412958622.\n"
     ]
    },
    {
     "name": "stdout",
     "output_type": "stream",
     "text": [
      "Stopped training using EarlyStopping at epoch 35\n",
      "\n",
      "**Finished training**\n",
      "\n",
      "Best validation loss (reached after 25 epochs): 1.901062092045322\n",
      "\n",
      "Training time: 0.09 minutes\n",
      "Total training time: 0.09 minutes\n",
      "Start training classifier\n",
      "\n",
      "\n",
      "Start Training\n",
      "\n"
     ]
    },
    {
     "name": "stderr",
     "output_type": "stream",
     "text": [
      " 36%|███▌      | 18/50 [00:03<00:05,  5.76it/s]\n",
      "[I 2024-02-19 09:18:35,130] Trial 27 finished with value: 1.9103437480516732 and parameters: {'n_neurons_layer1': 640, 'n_neurons_layer2': 704, 'learning_rate': 0.00045334126306061643, 'dropout': 0.0}. Best is trial 21 with value: 1.897494412958622.\n"
     ]
    },
    {
     "name": "stdout",
     "output_type": "stream",
     "text": [
      "Stopped training using EarlyStopping at epoch 19\n",
      "\n",
      "**Finished training**\n",
      "\n",
      "Best validation loss (reached after 9 epochs): 1.9103437480516732\n",
      "\n",
      "Training time: 0.05 minutes\n",
      "Total training time: 0.05 minutes\n",
      "Start training classifier\n",
      "\n",
      "\n",
      "Start Training\n",
      "\n"
     ]
    },
    {
     "name": "stderr",
     "output_type": "stream",
     "text": [
      " 74%|███████▍  | 37/50 [00:06<00:02,  5.74it/s]\n",
      "[I 2024-02-19 09:18:41,635] Trial 28 finished with value: 1.901525347493589 and parameters: {'n_neurons_layer1': 1344, 'n_neurons_layer2': 896, 'learning_rate': 8.572874275070571e-05, 'dropout': 0.4}. Best is trial 21 with value: 1.897494412958622.\n"
     ]
    },
    {
     "name": "stdout",
     "output_type": "stream",
     "text": [
      "Stopped training using EarlyStopping at epoch 38\n",
      "\n",
      "**Finished training**\n",
      "\n",
      "Best validation loss (reached after 28 epochs): 1.901525347493589\n",
      "\n",
      "Training time: 0.11 minutes\n",
      "Total training time: 0.11 minutes\n",
      "Start training classifier\n",
      "\n",
      "\n",
      "Start Training\n",
      "\n"
     ]
    },
    {
     "name": "stderr",
     "output_type": "stream",
     "text": [
      "100%|██████████| 50/50 [00:07<00:00,  6.97it/s]\n",
      "[I 2024-02-19 09:18:48,870] Trial 29 finished with value: 2.0083512843120843 and parameters: {'n_neurons_layer1': 128, 'n_neurons_layer2': 1216, 'learning_rate': 2.4157582082214493e-05, 'dropout': 0.30000000000000004}. Best is trial 21 with value: 1.897494412958622.\n"
     ]
    },
    {
     "name": "stdout",
     "output_type": "stream",
     "text": [
      "\n",
      "**Finished training**\n",
      "\n",
      "Best validation loss (reached after 42 epochs): 2.0083512843120843\n",
      "\n",
      "Training time: 0.12 minutes\n",
      "Total training time: 0.12 minutes\n",
      "Start training classifier\n",
      "\n",
      "\n",
      "Start Training\n",
      "\n"
     ]
    },
    {
     "name": "stderr",
     "output_type": "stream",
     "text": [
      " 68%|██████▊   | 34/50 [00:05<00:02,  5.96it/s]\n",
      "[I 2024-02-19 09:18:54,642] Trial 30 finished with value: 1.90239551756531 and parameters: {'n_neurons_layer1': 960, 'n_neurons_layer2': 1024, 'learning_rate': 0.00021666954778319227, 'dropout': 0.2}. Best is trial 21 with value: 1.897494412958622.\n"
     ]
    },
    {
     "name": "stdout",
     "output_type": "stream",
     "text": [
      "Stopped training using EarlyStopping at epoch 35\n",
      "\n",
      "**Finished training**\n",
      "\n",
      "Best validation loss (reached after 25 epochs): 1.90239551756531\n",
      "\n",
      "Training time: 0.10 minutes\n",
      "Total training time: 0.10 minutes\n",
      "Start training classifier\n",
      "\n",
      "\n",
      "Start Training\n",
      "\n"
     ]
    },
    {
     "name": "stderr",
     "output_type": "stream",
     "text": [
      " 74%|███████▍  | 37/50 [00:06<00:02,  5.98it/s]\n",
      "[I 2024-02-19 09:19:00,925] Trial 31 finished with value: 1.9219488620292395 and parameters: {'n_neurons_layer1': 1728, 'n_neurons_layer2': 576, 'learning_rate': 3.8952846300294e-05, 'dropout': 0.30000000000000004}. Best is trial 21 with value: 1.897494412958622.\n"
     ]
    },
    {
     "name": "stdout",
     "output_type": "stream",
     "text": [
      "Stopped training using EarlyStopping at epoch 38\n",
      "\n",
      "**Finished training**\n",
      "\n",
      "Best validation loss (reached after 28 epochs): 1.9219488620292395\n",
      "\n",
      "Training time: 0.10 minutes\n",
      "Total training time: 0.10 minutes\n",
      "Start training classifier\n",
      "\n",
      "\n",
      "Start Training\n",
      "\n"
     ]
    },
    {
     "name": "stderr",
     "output_type": "stream",
     "text": [
      " 74%|███████▍  | 37/50 [00:07<00:02,  5.15it/s]\n",
      "[I 2024-02-19 09:19:08,221] Trial 32 finished with value: 1.8950418950989842 and parameters: {'n_neurons_layer1': 2048, 'n_neurons_layer2': 1600, 'learning_rate': 9.889430960179943e-05, 'dropout': 0.30000000000000004}. Best is trial 32 with value: 1.8950418950989842.\n"
     ]
    },
    {
     "name": "stdout",
     "output_type": "stream",
     "text": [
      "Stopped training using EarlyStopping at epoch 38\n",
      "\n",
      "**Finished training**\n",
      "\n",
      "Best validation loss (reached after 28 epochs): 1.8950418950989842\n",
      "\n",
      "Training time: 0.12 minutes\n",
      "Total training time: 0.12 minutes\n",
      "Start training classifier\n",
      "\n",
      "\n",
      "Start Training\n",
      "\n"
     ]
    },
    {
     "name": "stderr",
     "output_type": "stream",
     "text": [
      " 74%|███████▍  | 37/50 [00:07<00:02,  5.28it/s]\n",
      "[I 2024-02-19 09:19:15,296] Trial 33 finished with value: 1.8949433856178075 and parameters: {'n_neurons_layer1': 2048, 'n_neurons_layer2': 1536, 'learning_rate': 0.00011278113764767343, 'dropout': 0.30000000000000004}. Best is trial 33 with value: 1.8949433856178075.\n"
     ]
    },
    {
     "name": "stdout",
     "output_type": "stream",
     "text": [
      "Stopped training using EarlyStopping at epoch 38\n",
      "\n",
      "**Finished training**\n",
      "\n",
      "Best validation loss (reached after 28 epochs): 1.8949433856178075\n",
      "\n",
      "Training time: 0.12 minutes\n",
      "Total training time: 0.12 minutes\n",
      "Start training classifier\n",
      "\n",
      "\n",
      "Start Training\n",
      "\n"
     ]
    },
    {
     "name": "stderr",
     "output_type": "stream",
     "text": [
      " 74%|███████▍  | 37/50 [00:07<00:02,  4.84it/s]\n",
      "[I 2024-02-19 09:19:23,014] Trial 34 finished with value: 1.8952843283768743 and parameters: {'n_neurons_layer1': 2048, 'n_neurons_layer2': 1536, 'learning_rate': 9.71370325605361e-05, 'dropout': 0.30000000000000004}. Best is trial 33 with value: 1.8949433856178075.\n"
     ]
    },
    {
     "name": "stdout",
     "output_type": "stream",
     "text": [
      "Stopped training using EarlyStopping at epoch 38\n",
      "\n",
      "**Finished training**\n",
      "\n",
      "Best validation loss (reached after 28 epochs): 1.8952843283768743\n",
      "\n",
      "Training time: 0.13 minutes\n",
      "Total training time: 0.13 minutes\n",
      "Start training classifier\n",
      "\n",
      "\n",
      "Start Training\n",
      "\n"
     ]
    },
    {
     "name": "stderr",
     "output_type": "stream",
     "text": [
      " 74%|███████▍  | 37/50 [00:08<00:02,  4.59it/s]\n",
      "[I 2024-02-19 09:19:31,160] Trial 35 finished with value: 1.8957727435044944 and parameters: {'n_neurons_layer1': 2048, 'n_neurons_layer2': 1536, 'learning_rate': 0.00010166076618608741, 'dropout': 0.4}. Best is trial 33 with value: 1.8949433856178075.\n"
     ]
    },
    {
     "name": "stdout",
     "output_type": "stream",
     "text": [
      "Stopped training using EarlyStopping at epoch 38\n",
      "\n",
      "**Finished training**\n",
      "\n",
      "Best validation loss (reached after 28 epochs): 1.8957727435044944\n",
      "\n",
      "Training time: 0.13 minutes\n",
      "Total training time: 0.13 minutes\n",
      "Start training classifier\n",
      "\n",
      "\n",
      "Start Training\n",
      "\n"
     ]
    },
    {
     "name": "stderr",
     "output_type": "stream",
     "text": [
      " 36%|███▌      | 18/50 [00:04<00:07,  4.27it/s]\n",
      "[I 2024-02-19 09:19:35,480] Trial 36 finished with value: 1.9088838966563344 and parameters: {'n_neurons_layer1': 2048, 'n_neurons_layer2': 1536, 'learning_rate': 0.0006640340914029441, 'dropout': 0.4}. Best is trial 33 with value: 1.8949433856178075.\n"
     ]
    },
    {
     "name": "stdout",
     "output_type": "stream",
     "text": [
      "Stopped training using EarlyStopping at epoch 19\n",
      "\n",
      "**Finished training**\n",
      "\n",
      "Best validation loss (reached after 9 epochs): 1.9088838966563344\n",
      "\n",
      "Training time: 0.07 minutes\n",
      "Total training time: 0.07 minutes\n",
      "Start training classifier\n",
      "\n",
      "\n",
      "Start Training\n",
      "\n"
     ]
    },
    {
     "name": "stderr",
     "output_type": "stream",
     "text": [
      " 68%|██████▊   | 34/50 [00:07<00:03,  4.75it/s]\n",
      "[I 2024-02-19 09:19:42,728] Trial 37 finished with value: 1.902048978721723 and parameters: {'n_neurons_layer1': 2048, 'n_neurons_layer2': 1600, 'learning_rate': 0.0002848079117611279, 'dropout': 0.4}. Best is trial 33 with value: 1.8949433856178075.\n"
     ]
    },
    {
     "name": "stdout",
     "output_type": "stream",
     "text": [
      "Stopped training using EarlyStopping at epoch 35\n",
      "\n",
      "**Finished training**\n",
      "\n",
      "Best validation loss (reached after 25 epochs): 1.902048978721723\n",
      "\n",
      "Training time: 0.12 minutes\n",
      "Total training time: 0.12 minutes\n",
      "Start training classifier\n",
      "\n",
      "\n",
      "Start Training\n",
      "\n"
     ]
    },
    {
     "name": "stderr",
     "output_type": "stream",
     "text": [
      " 74%|███████▍  | 37/50 [00:08<00:03,  4.26it/s]\n",
      "[I 2024-02-19 09:19:51,524] Trial 38 finished with value: 1.8954964431468397 and parameters: {'n_neurons_layer1': 1920, 'n_neurons_layer2': 1856, 'learning_rate': 6.788740697628519e-05, 'dropout': 0.30000000000000004}. Best is trial 33 with value: 1.8949433856178075.\n"
     ]
    },
    {
     "name": "stdout",
     "output_type": "stream",
     "text": [
      "Stopped training using EarlyStopping at epoch 38\n",
      "\n",
      "**Finished training**\n",
      "\n",
      "Best validation loss (reached after 28 epochs): 1.8954964431468397\n",
      "\n",
      "Training time: 0.14 minutes\n",
      "Total training time: 0.15 minutes\n",
      "Start training classifier\n",
      "\n",
      "\n",
      "Start Training\n",
      "\n"
     ]
    },
    {
     "name": "stderr",
     "output_type": "stream",
     "text": [
      " 74%|███████▍  | 37/50 [00:08<00:02,  4.49it/s]\n",
      "[I 2024-02-19 09:19:59,858] Trial 39 finished with value: 1.910352574661374 and parameters: {'n_neurons_layer1': 1920, 'n_neurons_layer2': 1856, 'learning_rate': 1.8650484113680936e-05, 'dropout': 0.30000000000000004}. Best is trial 33 with value: 1.8949433856178075.\n"
     ]
    },
    {
     "name": "stdout",
     "output_type": "stream",
     "text": [
      "Stopped training using EarlyStopping at epoch 38\n",
      "\n",
      "**Finished training**\n",
      "\n",
      "Best validation loss (reached after 28 epochs): 1.910352574661374\n",
      "\n",
      "Training time: 0.14 minutes\n",
      "Total training time: 0.14 minutes\n",
      "Start training classifier\n",
      "\n",
      "\n",
      "Start Training\n",
      "\n"
     ]
    },
    {
     "name": "stderr",
     "output_type": "stream",
     "text": [
      " 74%|███████▍  | 37/50 [00:08<00:02,  4.46it/s]\n",
      "[I 2024-02-19 09:20:08,258] Trial 40 finished with value: 1.8963056947104633 and parameters: {'n_neurons_layer1': 1792, 'n_neurons_layer2': 2048, 'learning_rate': 7.18521266333908e-05, 'dropout': 0.30000000000000004}. Best is trial 33 with value: 1.8949433856178075.\n"
     ]
    },
    {
     "name": "stdout",
     "output_type": "stream",
     "text": [
      "Stopped training using EarlyStopping at epoch 38\n",
      "\n",
      "**Finished training**\n",
      "\n",
      "Best validation loss (reached after 28 epochs): 1.8963056947104633\n",
      "\n",
      "Training time: 0.14 minutes\n",
      "Total training time: 0.14 minutes\n",
      "Start training classifier\n",
      "\n",
      "\n",
      "Start Training\n",
      "\n"
     ]
    },
    {
     "name": "stderr",
     "output_type": "stream",
     "text": [
      " 74%|███████▍  | 37/50 [00:07<00:02,  4.79it/s]\n",
      "[I 2024-02-19 09:20:16,063] Trial 41 finished with value: 1.8977640310768038 and parameters: {'n_neurons_layer1': 1920, 'n_neurons_layer2': 1408, 'learning_rate': 0.00012072067779463187, 'dropout': 0.5}. Best is trial 33 with value: 1.8949433856178075.\n"
     ]
    },
    {
     "name": "stdout",
     "output_type": "stream",
     "text": [
      "Stopped training using EarlyStopping at epoch 38\n",
      "\n",
      "**Finished training**\n",
      "\n",
      "Best validation loss (reached after 28 epochs): 1.8977640310768038\n",
      "\n",
      "Training time: 0.13 minutes\n",
      "Total training time: 0.13 minutes\n",
      "Start training classifier\n",
      "\n",
      "\n",
      "Start Training\n",
      "\n"
     ]
    },
    {
     "name": "stderr",
     "output_type": "stream",
     "text": [
      " 74%|███████▍  | 37/50 [00:08<00:02,  4.45it/s]\n",
      "[I 2024-02-19 09:20:24,468] Trial 42 finished with value: 1.897854900918901 and parameters: {'n_neurons_layer1': 2048, 'n_neurons_layer2': 1856, 'learning_rate': 5.331039208556561e-05, 'dropout': 0.4}. Best is trial 33 with value: 1.8949433856178075.\n"
     ]
    },
    {
     "name": "stdout",
     "output_type": "stream",
     "text": [
      "Stopped training using EarlyStopping at epoch 38\n",
      "\n",
      "**Finished training**\n",
      "\n",
      "Best validation loss (reached after 28 epochs): 1.897854900918901\n",
      "\n",
      "Training time: 0.14 minutes\n",
      "Total training time: 0.14 minutes\n",
      "Start training classifier\n",
      "\n",
      "\n",
      "Start Training\n",
      "\n"
     ]
    },
    {
     "name": "stderr",
     "output_type": "stream",
     "text": [
      " 74%|███████▍  | 37/50 [00:07<00:02,  5.00it/s]\n",
      "[I 2024-02-19 09:20:31,950] Trial 43 finished with value: 1.8953716801479459 and parameters: {'n_neurons_layer1': 1920, 'n_neurons_layer2': 1472, 'learning_rate': 0.00011322452256743912, 'dropout': 0.30000000000000004}. Best is trial 33 with value: 1.8949433856178075.\n"
     ]
    },
    {
     "name": "stdout",
     "output_type": "stream",
     "text": [
      "Stopped training using EarlyStopping at epoch 38\n",
      "\n",
      "**Finished training**\n",
      "\n",
      "Best validation loss (reached after 28 epochs): 1.8953716801479459\n",
      "\n",
      "Training time: 0.12 minutes\n",
      "Total training time: 0.12 minutes\n",
      "Start training classifier\n",
      "\n",
      "\n",
      "Start Training\n",
      "\n"
     ]
    },
    {
     "name": "stderr",
     "output_type": "stream",
     "text": [
      " 74%|███████▍  | 37/50 [00:07<00:02,  5.12it/s]\n",
      "[I 2024-02-19 09:20:39,250] Trial 44 finished with value: 1.8942872248589993 and parameters: {'n_neurons_layer1': 1920, 'n_neurons_layer2': 1344, 'learning_rate': 0.0001569120889512332, 'dropout': 0.30000000000000004}. Best is trial 44 with value: 1.8942872248589993.\n"
     ]
    },
    {
     "name": "stdout",
     "output_type": "stream",
     "text": [
      "Stopped training using EarlyStopping at epoch 38\n",
      "\n",
      "**Finished training**\n",
      "\n",
      "Best validation loss (reached after 28 epochs): 1.8942872248589993\n",
      "\n",
      "Training time: 0.12 minutes\n",
      "Total training time: 0.12 minutes\n",
      "Start training classifier\n",
      "\n",
      "\n",
      "Start Training\n",
      "\n"
     ]
    },
    {
     "name": "stderr",
     "output_type": "stream",
     "text": [
      " 68%|██████▊   | 34/50 [00:06<00:03,  4.88it/s]\n",
      "[I 2024-02-19 09:20:46,300] Trial 45 finished with value: 1.896652762312442 and parameters: {'n_neurons_layer1': 1856, 'n_neurons_layer2': 1408, 'learning_rate': 0.00016884416933062903, 'dropout': 0.30000000000000004}. Best is trial 44 with value: 1.8942872248589993.\n"
     ]
    },
    {
     "name": "stdout",
     "output_type": "stream",
     "text": [
      "Stopped training using EarlyStopping at epoch 35\n",
      "\n",
      "**Finished training**\n",
      "\n",
      "Best validation loss (reached after 25 epochs): 1.896652762312442\n",
      "\n",
      "Training time: 0.12 minutes\n",
      "Total training time: 0.12 minutes\n",
      "Start training classifier\n",
      "\n",
      "\n",
      "Start Training\n",
      "\n"
     ]
    },
    {
     "name": "stderr",
     "output_type": "stream",
     "text": [
      " 74%|███████▍  | 37/50 [00:07<00:02,  4.74it/s]\n",
      "[I 2024-02-19 09:20:54,194] Trial 46 finished with value: 1.9018326236400753 and parameters: {'n_neurons_layer1': 1792, 'n_neurons_layer2': 1280, 'learning_rate': 0.0002794194517432091, 'dropout': 0.2}. Best is trial 44 with value: 1.8942872248589993.\n"
     ]
    },
    {
     "name": "stdout",
     "output_type": "stream",
     "text": [
      "Stopped training using EarlyStopping at epoch 38\n",
      "\n",
      "**Finished training**\n",
      "\n",
      "Best validation loss (reached after 28 epochs): 1.9018326236400753\n",
      "\n",
      "Training time: 0.13 minutes\n",
      "Total training time: 0.13 minutes\n",
      "Start training classifier\n",
      "\n",
      "\n",
      "Start Training\n",
      "\n"
     ]
    },
    {
     "name": "stderr",
     "output_type": "stream",
     "text": [
      " 36%|███▌      | 18/50 [00:03<00:06,  4.98it/s]\n",
      "[I 2024-02-19 09:20:57,888] Trial 47 finished with value: 1.9076874563470483 and parameters: {'n_neurons_layer1': 1920, 'n_neurons_layer2': 1472, 'learning_rate': 0.0005323763971803214, 'dropout': 0.30000000000000004}. Best is trial 44 with value: 1.8942872248589993.\n"
     ]
    },
    {
     "name": "stdout",
     "output_type": "stream",
     "text": [
      "Stopped training using EarlyStopping at epoch 19\n",
      "\n",
      "**Finished training**\n",
      "\n",
      "Best validation loss (reached after 9 epochs): 1.9076874563470483\n",
      "\n",
      "Training time: 0.06 minutes\n",
      "Total training time: 0.06 minutes\n",
      "Start training classifier\n",
      "\n",
      "\n",
      "Start Training\n",
      "\n"
     ]
    },
    {
     "name": "stderr",
     "output_type": "stream",
     "text": [
      " 40%|████      | 20/50 [00:03<00:05,  5.35it/s]\n",
      "[I 2024-02-19 09:21:01,711] Trial 48 finished with value: 1.908075042301789 and parameters: {'n_neurons_layer1': 1600, 'n_neurons_layer2': 1664, 'learning_rate': 0.0009881529659494263, 'dropout': 0.30000000000000004}. Best is trial 44 with value: 1.8942872248589993.\n"
     ]
    },
    {
     "name": "stdout",
     "output_type": "stream",
     "text": [
      "Stopped training using EarlyStopping at epoch 21\n",
      "\n",
      "**Finished training**\n",
      "\n",
      "Best validation loss (reached after 11 epochs): 1.908075042301789\n",
      "\n",
      "Training time: 0.06 minutes\n",
      "Total training time: 0.06 minutes\n",
      "Start training classifier\n",
      "\n",
      "\n",
      "Start Training\n",
      "\n"
     ]
    },
    {
     "name": "stderr",
     "output_type": "stream",
     "text": [
      " 74%|███████▍  | 37/50 [00:07<00:02,  5.18it/s]\n",
      "[I 2024-02-19 09:21:08,933] Trial 49 finished with value: 1.9093471576925367 and parameters: {'n_neurons_layer1': 1408, 'n_neurons_layer2': 1344, 'learning_rate': 3.145865525329756e-05, 'dropout': 0.2}. Best is trial 44 with value: 1.8942872248589993.\n"
     ]
    },
    {
     "name": "stdout",
     "output_type": "stream",
     "text": [
      "Stopped training using EarlyStopping at epoch 38\n",
      "\n",
      "**Finished training**\n",
      "\n",
      "Best validation loss (reached after 28 epochs): 1.9093471576925367\n",
      "\n",
      "Training time: 0.12 minutes\n",
      "Total training time: 0.12 minutes\n",
      "Start training classifier\n",
      "\n",
      "\n",
      "Start Training\n",
      "\n"
     ]
    },
    {
     "name": "stderr",
     "output_type": "stream",
     "text": [
      " 68%|██████▊   | 34/50 [00:06<00:03,  4.89it/s]\n",
      "[I 2024-02-19 09:21:15,986] Trial 50 finished with value: 1.9003327214159071 and parameters: {'n_neurons_layer1': 1984, 'n_neurons_layer2': 1728, 'learning_rate': 0.00013314423204870013, 'dropout': 0.2}. Best is trial 44 with value: 1.8942872248589993.\n"
     ]
    },
    {
     "name": "stdout",
     "output_type": "stream",
     "text": [
      "Stopped training using EarlyStopping at epoch 35\n",
      "\n",
      "**Finished training**\n",
      "\n",
      "Best validation loss (reached after 25 epochs): 1.9003327214159071\n",
      "\n",
      "Training time: 0.12 minutes\n",
      "Total training time: 0.12 minutes\n",
      "Start training classifier\n",
      "\n",
      "\n",
      "Start Training\n",
      "\n"
     ]
    },
    {
     "name": "stderr",
     "output_type": "stream",
     "text": [
      " 74%|███████▍  | 37/50 [00:07<00:02,  4.80it/s]\n",
      "[I 2024-02-19 09:21:23,779] Trial 51 finished with value: 1.895019575720653 and parameters: {'n_neurons_layer1': 1920, 'n_neurons_layer2': 1856, 'learning_rate': 7.615200856238974e-05, 'dropout': 0.30000000000000004}. Best is trial 44 with value: 1.8942872248589993.\n"
     ]
    },
    {
     "name": "stdout",
     "output_type": "stream",
     "text": [
      "Stopped training using EarlyStopping at epoch 38\n",
      "\n",
      "**Finished training**\n",
      "\n",
      "Best validation loss (reached after 28 epochs): 1.895019575720653\n",
      "\n",
      "Training time: 0.13 minutes\n",
      "Total training time: 0.13 minutes\n",
      "Start training classifier\n",
      "\n",
      "\n",
      "Start Training\n",
      "\n"
     ]
    },
    {
     "name": "stderr",
     "output_type": "stream",
     "text": [
      " 74%|███████▍  | 37/50 [00:07<00:02,  5.18it/s]\n",
      "[I 2024-02-19 09:21:31,006] Trial 52 finished with value: 1.901009886758402 and parameters: {'n_neurons_layer1': 1792, 'n_neurons_layer2': 1536, 'learning_rate': 4.692704072324729e-05, 'dropout': 0.30000000000000004}. Best is trial 44 with value: 1.8942872248589993.\n"
     ]
    },
    {
     "name": "stdout",
     "output_type": "stream",
     "text": [
      "Stopped training using EarlyStopping at epoch 38\n",
      "\n",
      "**Finished training**\n",
      "\n",
      "Best validation loss (reached after 28 epochs): 1.901009886758402\n",
      "\n",
      "Training time: 0.12 minutes\n",
      "Total training time: 0.12 minutes\n",
      "Start training classifier\n",
      "\n",
      "\n",
      "Start Training\n",
      "\n"
     ]
    },
    {
     "name": "stderr",
     "output_type": "stream",
     "text": [
      " 74%|███████▍  | 37/50 [00:07<00:02,  5.04it/s]\n",
      "[I 2024-02-19 09:21:38,433] Trial 53 finished with value: 1.8952351596672088 and parameters: {'n_neurons_layer1': 1984, 'n_neurons_layer2': 1792, 'learning_rate': 8.21352740881106e-05, 'dropout': 0.30000000000000004}. Best is trial 44 with value: 1.8942872248589993.\n"
     ]
    },
    {
     "name": "stdout",
     "output_type": "stream",
     "text": [
      "Stopped training using EarlyStopping at epoch 38\n",
      "\n",
      "**Finished training**\n",
      "\n",
      "Best validation loss (reached after 28 epochs): 1.8952351596672088\n",
      "\n",
      "Training time: 0.12 minutes\n",
      "Total training time: 0.12 minutes\n",
      "Start training classifier\n",
      "\n",
      "\n",
      "Start Training\n",
      "\n"
     ]
    },
    {
     "name": "stderr",
     "output_type": "stream",
     "text": [
      " 74%|███████▍  | 37/50 [00:07<00:02,  4.64it/s]\n",
      "[I 2024-02-19 09:21:46,501] Trial 54 finished with value: 1.896028068382293 and parameters: {'n_neurons_layer1': 1984, 'n_neurons_layer2': 1984, 'learning_rate': 7.714514097725341e-05, 'dropout': 0.30000000000000004}. Best is trial 44 with value: 1.8942872248589993.\n"
     ]
    },
    {
     "name": "stdout",
     "output_type": "stream",
     "text": [
      "Stopped training using EarlyStopping at epoch 38\n",
      "\n",
      "**Finished training**\n",
      "\n",
      "Best validation loss (reached after 28 epochs): 1.896028068382293\n",
      "\n",
      "Training time: 0.13 minutes\n",
      "Total training time: 0.13 minutes\n",
      "Start training classifier\n",
      "\n",
      "\n",
      "Start Training\n",
      "\n"
     ]
    },
    {
     "name": "stderr",
     "output_type": "stream",
     "text": [
      " 74%|███████▍  | 37/50 [00:07<00:02,  4.84it/s]\n",
      "[I 2024-02-19 09:21:54,223] Trial 55 finished with value: 1.9022782579995692 and parameters: {'n_neurons_layer1': 1792, 'n_neurons_layer2': 1792, 'learning_rate': 0.000224763104462527, 'dropout': 0.30000000000000004}. Best is trial 44 with value: 1.8942872248589993.\n"
     ]
    },
    {
     "name": "stdout",
     "output_type": "stream",
     "text": [
      "Stopped training using EarlyStopping at epoch 38\n",
      "\n",
      "**Finished training**\n",
      "\n",
      "Best validation loss (reached after 28 epochs): 1.9022782579995692\n",
      "\n",
      "Training time: 0.13 minutes\n",
      "Total training time: 0.13 minutes\n",
      "Start training classifier\n",
      "\n",
      "\n",
      "Start Training\n",
      "\n"
     ]
    },
    {
     "name": "stderr",
     "output_type": "stream",
     "text": [
      " 54%|█████▍    | 27/50 [00:05<00:04,  5.09it/s]\n",
      "[I 2024-02-19 09:21:59,624] Trial 56 finished with value: 1.9087270458694547 and parameters: {'n_neurons_layer1': 1984, 'n_neurons_layer2': 1664, 'learning_rate': 0.005710013718466461, 'dropout': 0.2}. Best is trial 44 with value: 1.8942872248589993.\n"
     ]
    },
    {
     "name": "stdout",
     "output_type": "stream",
     "text": [
      "Stopped training using EarlyStopping at epoch 28\n",
      "\n",
      "**Finished training**\n",
      "\n",
      "Best validation loss (reached after 18 epochs): 1.9087270458694547\n",
      "\n",
      "Training time: 0.09 minutes\n",
      "Total training time: 0.09 minutes\n",
      "Start training classifier\n",
      "\n",
      "\n",
      "Start Training\n",
      "\n"
     ]
    },
    {
     "name": "stderr",
     "output_type": "stream",
     "text": [
      " 74%|███████▍  | 37/50 [00:07<00:02,  4.65it/s]\n",
      "[I 2024-02-19 09:22:07,675] Trial 57 finished with value: 1.9048766752239317 and parameters: {'n_neurons_layer1': 1664, 'n_neurons_layer2': 1920, 'learning_rate': 3.4755864825467955e-05, 'dropout': 0.4}. Best is trial 44 with value: 1.8942872248589993.\n"
     ]
    },
    {
     "name": "stdout",
     "output_type": "stream",
     "text": [
      "Stopped training using EarlyStopping at epoch 38\n",
      "\n",
      "**Finished training**\n",
      "\n",
      "Best validation loss (reached after 28 epochs): 1.9048766752239317\n",
      "\n",
      "Training time: 0.13 minutes\n",
      "Total training time: 0.13 minutes\n",
      "Start training classifier\n",
      "\n",
      "\n",
      "Start Training\n",
      "\n"
     ]
    },
    {
     "name": "stderr",
     "output_type": "stream",
     "text": [
      " 74%|███████▍  | 37/50 [00:07<00:02,  4.94it/s]\n",
      "[I 2024-02-19 09:22:15,250] Trial 58 finished with value: 1.8957031655590981 and parameters: {'n_neurons_layer1': 1856, 'n_neurons_layer2': 1600, 'learning_rate': 9.088672600622574e-05, 'dropout': 0.30000000000000004}. Best is trial 44 with value: 1.8942872248589993.\n"
     ]
    },
    {
     "name": "stdout",
     "output_type": "stream",
     "text": [
      "Stopped training using EarlyStopping at epoch 38\n",
      "\n",
      "**Finished training**\n",
      "\n",
      "Best validation loss (reached after 28 epochs): 1.8957031655590981\n",
      "\n",
      "Training time: 0.12 minutes\n",
      "Total training time: 0.13 minutes\n",
      "Start training classifier\n",
      "\n",
      "\n",
      "Start Training\n",
      "\n"
     ]
    },
    {
     "name": "stderr",
     "output_type": "stream",
     "text": [
      " 68%|██████▊   | 34/50 [00:07<00:03,  4.54it/s]\n",
      "[I 2024-02-19 09:22:22,831] Trial 59 finished with value: 1.900863361544907 and parameters: {'n_neurons_layer1': 2048, 'n_neurons_layer2': 1792, 'learning_rate': 0.0001609061706043932, 'dropout': 0.4}. Best is trial 44 with value: 1.8942872248589993.\n"
     ]
    },
    {
     "name": "stdout",
     "output_type": "stream",
     "text": [
      "Stopped training using EarlyStopping at epoch 35\n",
      "\n",
      "**Finished training**\n",
      "\n",
      "Best validation loss (reached after 25 epochs): 1.900863361544907\n",
      "\n",
      "Training time: 0.12 minutes\n",
      "Total training time: 0.13 minutes\n",
      "Start training classifier\n",
      "\n",
      "\n",
      "Start Training\n",
      "\n"
     ]
    },
    {
     "name": "stderr",
     "output_type": "stream",
     "text": [
      " 36%|███▌      | 18/50 [00:04<00:07,  4.41it/s]\n",
      "[I 2024-02-19 09:22:26,989] Trial 60 finished with value: 1.90635054721497 and parameters: {'n_neurons_layer1': 1984, 'n_neurons_layer2': 1152, 'learning_rate': 0.0003418908570268768, 'dropout': 0.2}. Best is trial 44 with value: 1.8942872248589993.\n"
     ]
    },
    {
     "name": "stdout",
     "output_type": "stream",
     "text": [
      "Stopped training using EarlyStopping at epoch 19\n",
      "\n",
      "**Finished training**\n",
      "\n",
      "Best validation loss (reached after 9 epochs): 1.90635054721497\n",
      "\n",
      "Training time: 0.07 minutes\n",
      "Total training time: 0.07 minutes\n",
      "Start training classifier\n",
      "\n",
      "\n",
      "Start Training\n",
      "\n"
     ]
    },
    {
     "name": "stderr",
     "output_type": "stream",
     "text": [
      " 74%|███████▍  | 37/50 [00:07<00:02,  4.73it/s]\n",
      "[I 2024-02-19 09:22:34,957] Trial 61 finished with value: 1.895165214780718 and parameters: {'n_neurons_layer1': 1856, 'n_neurons_layer2': 1472, 'learning_rate': 0.00012994362305157419, 'dropout': 0.30000000000000004}. Best is trial 44 with value: 1.8942872248589993.\n"
     ]
    },
    {
     "name": "stdout",
     "output_type": "stream",
     "text": [
      "Stopped training using EarlyStopping at epoch 38\n",
      "\n",
      "**Finished training**\n",
      "\n",
      "Best validation loss (reached after 28 epochs): 1.895165214780718\n",
      "\n",
      "Training time: 0.13 minutes\n",
      "Total training time: 0.13 minutes\n",
      "Start training classifier\n",
      "\n",
      "\n",
      "Start Training\n",
      "\n"
     ]
    },
    {
     "name": "stderr",
     "output_type": "stream",
     "text": [
      " 74%|███████▍  | 37/50 [00:07<00:02,  5.19it/s]\n",
      "[I 2024-02-19 09:22:42,209] Trial 62 finished with value: 1.8968226772267371 and parameters: {'n_neurons_layer1': 1856, 'n_neurons_layer2': 1344, 'learning_rate': 0.0001269770221389726, 'dropout': 0.30000000000000004}. Best is trial 44 with value: 1.8942872248589993.\n"
     ]
    },
    {
     "name": "stdout",
     "output_type": "stream",
     "text": [
      "Stopped training using EarlyStopping at epoch 38\n",
      "\n",
      "**Finished training**\n",
      "\n",
      "Best validation loss (reached after 28 epochs): 1.8968226772267371\n",
      "\n",
      "Training time: 0.12 minutes\n",
      "Total training time: 0.12 minutes\n",
      "Start training classifier\n",
      "\n",
      "\n",
      "Start Training\n",
      "\n"
     ]
    },
    {
     "name": "stderr",
     "output_type": "stream",
     "text": [
      " 74%|███████▍  | 37/50 [00:07<00:02,  4.99it/s]\n",
      "[I 2024-02-19 09:22:49,706] Trial 63 finished with value: 1.9005340111907572 and parameters: {'n_neurons_layer1': 1728, 'n_neurons_layer2': 1472, 'learning_rate': 5.738693694227823e-05, 'dropout': 0.30000000000000004}. Best is trial 44 with value: 1.8942872248589993.\n"
     ]
    },
    {
     "name": "stdout",
     "output_type": "stream",
     "text": [
      "Stopped training using EarlyStopping at epoch 38\n",
      "\n",
      "**Finished training**\n",
      "\n",
      "Best validation loss (reached after 28 epochs): 1.9005340111907572\n",
      "\n",
      "Training time: 0.12 minutes\n",
      "Total training time: 0.12 minutes\n",
      "Start training classifier\n",
      "\n",
      "\n",
      "Start Training\n",
      "\n"
     ]
    },
    {
     "name": "stderr",
     "output_type": "stream",
     "text": [
      " 68%|██████▊   | 34/50 [00:06<00:03,  4.95it/s]\n",
      "[I 2024-02-19 09:22:56,665] Trial 64 finished with value: 1.8972207219339907 and parameters: {'n_neurons_layer1': 1920, 'n_neurons_layer2': 1600, 'learning_rate': 0.0001974063925433653, 'dropout': 0.30000000000000004}. Best is trial 44 with value: 1.8942872248589993.\n"
     ]
    },
    {
     "name": "stdout",
     "output_type": "stream",
     "text": [
      "Stopped training using EarlyStopping at epoch 35\n",
      "\n",
      "**Finished training**\n",
      "\n",
      "Best validation loss (reached after 25 epochs): 1.8972207219339907\n",
      "\n",
      "Training time: 0.11 minutes\n",
      "Total training time: 0.11 minutes\n",
      "Start training classifier\n",
      "\n",
      "\n",
      "Start Training\n",
      "\n"
     ]
    },
    {
     "name": "stderr",
     "output_type": "stream",
     "text": [
      " 74%|███████▍  | 37/50 [00:07<00:02,  4.95it/s]\n",
      "[I 2024-02-19 09:23:04,231] Trial 65 finished with value: 1.8971963601652533 and parameters: {'n_neurons_layer1': 1600, 'n_neurons_layer2': 1728, 'learning_rate': 9.154154381091664e-05, 'dropout': 0.30000000000000004}. Best is trial 44 with value: 1.8942872248589993.\n"
     ]
    },
    {
     "name": "stdout",
     "output_type": "stream",
     "text": [
      "Stopped training using EarlyStopping at epoch 38\n",
      "\n",
      "**Finished training**\n",
      "\n",
      "Best validation loss (reached after 28 epochs): 1.8971963601652533\n",
      "\n",
      "Training time: 0.12 minutes\n",
      "Total training time: 0.13 minutes\n",
      "Start training classifier\n",
      "\n",
      "\n",
      "Start Training\n",
      "\n"
     ]
    },
    {
     "name": "stderr",
     "output_type": "stream",
     "text": [
      " 74%|███████▍  | 37/50 [00:08<00:02,  4.34it/s]\n",
      "[I 2024-02-19 09:23:12,878] Trial 66 finished with value: 1.9019159490708262 and parameters: {'n_neurons_layer1': 1984, 'n_neurons_layer2': 1280, 'learning_rate': 4.91949655230265e-05, 'dropout': 0.4}. Best is trial 44 with value: 1.8942872248589993.\n"
     ]
    },
    {
     "name": "stdout",
     "output_type": "stream",
     "text": [
      "Stopped training using EarlyStopping at epoch 38\n",
      "\n",
      "**Finished training**\n",
      "\n",
      "Best validation loss (reached after 28 epochs): 1.9019159490708262\n",
      "\n",
      "Training time: 0.14 minutes\n",
      "Total training time: 0.14 minutes\n",
      "Start training classifier\n",
      "\n",
      "\n",
      "Start Training\n",
      "\n"
     ]
    },
    {
     "name": "stderr",
     "output_type": "stream",
     "text": [
      " 74%|███████▍  | 37/50 [00:07<00:02,  4.76it/s]\n",
      "[I 2024-02-19 09:23:20,747] Trial 67 finished with value: 1.8944694893434644 and parameters: {'n_neurons_layer1': 2048, 'n_neurons_layer2': 1664, 'learning_rate': 0.00011530128131044571, 'dropout': 0.30000000000000004}. Best is trial 44 with value: 1.8942872248589993.\n"
     ]
    },
    {
     "name": "stdout",
     "output_type": "stream",
     "text": [
      "Stopped training using EarlyStopping at epoch 38\n",
      "\n",
      "**Finished training**\n",
      "\n",
      "Best validation loss (reached after 28 epochs): 1.8944694893434644\n",
      "\n",
      "Training time: 0.13 minutes\n",
      "Total training time: 0.13 minutes\n",
      "Start training classifier\n",
      "\n",
      "\n",
      "Start Training\n",
      "\n"
     ]
    },
    {
     "name": "stderr",
     "output_type": "stream",
     "text": [
      " 68%|██████▊   | 34/50 [00:07<00:03,  4.86it/s]\n",
      "[I 2024-02-19 09:23:27,841] Trial 68 finished with value: 1.896504379576072 and parameters: {'n_neurons_layer1': 1856, 'n_neurons_layer2': 1792, 'learning_rate': 0.00017433640998278652, 'dropout': 0.30000000000000004}. Best is trial 44 with value: 1.8942872248589993.\n"
     ]
    },
    {
     "name": "stdout",
     "output_type": "stream",
     "text": [
      "Stopped training using EarlyStopping at epoch 35\n",
      "\n",
      "**Finished training**\n",
      "\n",
      "Best validation loss (reached after 25 epochs): 1.896504379576072\n",
      "\n",
      "Training time: 0.12 minutes\n",
      "Total training time: 0.12 minutes\n",
      "Start training classifier\n",
      "\n",
      "\n",
      "Start Training\n",
      "\n"
     ]
    },
    {
     "name": "stderr",
     "output_type": "stream",
     "text": [
      " 36%|███▌      | 18/50 [00:03<00:06,  4.90it/s]\n",
      "[I 2024-02-19 09:23:31,605] Trial 69 finished with value: 1.9054026803933084 and parameters: {'n_neurons_layer1': 1728, 'n_neurons_layer2': 1664, 'learning_rate': 0.0002613919726947332, 'dropout': 0.2}. Best is trial 44 with value: 1.8942872248589993.\n"
     ]
    },
    {
     "name": "stdout",
     "output_type": "stream",
     "text": [
      "Stopped training using EarlyStopping at epoch 19\n",
      "\n",
      "**Finished training**\n",
      "\n",
      "Best validation loss (reached after 9 epochs): 1.9054026803933084\n",
      "\n",
      "Training time: 0.06 minutes\n",
      "Total training time: 0.06 minutes\n",
      "Start training classifier\n",
      "\n",
      "\n",
      "Start Training\n",
      "\n"
     ]
    },
    {
     "name": "stderr",
     "output_type": "stream",
     "text": [
      " 74%|███████▍  | 37/50 [00:06<00:02,  5.44it/s]\n",
      "[I 2024-02-19 09:23:38,474] Trial 70 finished with value: 1.9144538617692888 and parameters: {'n_neurons_layer1': 256, 'n_neurons_layer2': 2048, 'learning_rate': 0.00014085231767984062, 'dropout': 0.30000000000000004}. Best is trial 44 with value: 1.8942872248589993.\n"
     ]
    },
    {
     "name": "stdout",
     "output_type": "stream",
     "text": [
      "Stopped training using EarlyStopping at epoch 38\n",
      "\n",
      "**Finished training**\n",
      "\n",
      "Best validation loss (reached after 28 epochs): 1.9144538617692888\n",
      "\n",
      "Training time: 0.11 minutes\n",
      "Total training time: 0.11 minutes\n",
      "Start training classifier\n",
      "\n",
      "\n",
      "Start Training\n",
      "\n"
     ]
    },
    {
     "name": "stderr",
     "output_type": "stream",
     "text": [
      " 74%|███████▍  | 37/50 [00:07<00:02,  4.72it/s]\n",
      "[I 2024-02-19 09:23:46,436] Trial 71 finished with value: 1.89668680424802 and parameters: {'n_neurons_layer1': 2048, 'n_neurons_layer2': 1408, 'learning_rate': 0.00010126030899817233, 'dropout': 0.30000000000000004}. Best is trial 44 with value: 1.8942872248589993.\n"
     ]
    },
    {
     "name": "stdout",
     "output_type": "stream",
     "text": [
      "Stopped training using EarlyStopping at epoch 38\n",
      "\n",
      "**Finished training**\n",
      "\n",
      "Best validation loss (reached after 28 epochs): 1.89668680424802\n",
      "\n",
      "Training time: 0.13 minutes\n",
      "Total training time: 0.13 minutes\n",
      "Start training classifier\n",
      "\n",
      "\n",
      "Start Training\n",
      "\n"
     ]
    },
    {
     "name": "stderr",
     "output_type": "stream",
     "text": [
      " 74%|███████▍  | 37/50 [00:07<00:02,  4.68it/s]\n",
      "[I 2024-02-19 09:23:54,424] Trial 72 finished with value: 1.8958462590817362 and parameters: {'n_neurons_layer1': 2048, 'n_neurons_layer2': 1600, 'learning_rate': 7.653735236358741e-05, 'dropout': 0.30000000000000004}. Best is trial 44 with value: 1.8942872248589993.\n"
     ]
    },
    {
     "name": "stdout",
     "output_type": "stream",
     "text": [
      "Stopped training using EarlyStopping at epoch 38\n",
      "\n",
      "**Finished training**\n",
      "\n",
      "Best validation loss (reached after 28 epochs): 1.8958462590817362\n",
      "\n",
      "Training time: 0.13 minutes\n",
      "Total training time: 0.13 minutes\n",
      "Start training classifier\n",
      "\n",
      "\n",
      "Start Training\n",
      "\n"
     ]
    },
    {
     "name": "stderr",
     "output_type": "stream",
     "text": [
      " 74%|███████▍  | 37/50 [00:07<00:02,  4.92it/s]\n",
      "[I 2024-02-19 09:24:02,039] Trial 73 finished with value: 1.8947204062715173 and parameters: {'n_neurons_layer1': 1984, 'n_neurons_layer2': 1536, 'learning_rate': 0.00012135221777646243, 'dropout': 0.30000000000000004}. Best is trial 44 with value: 1.8942872248589993.\n"
     ]
    },
    {
     "name": "stdout",
     "output_type": "stream",
     "text": [
      "Stopped training using EarlyStopping at epoch 38\n",
      "\n",
      "**Finished training**\n",
      "\n",
      "Best validation loss (reached after 28 epochs): 1.8947204062715173\n",
      "\n",
      "Training time: 0.13 minutes\n",
      "Total training time: 0.13 minutes\n",
      "Start training classifier\n",
      "\n",
      "\n",
      "Start Training\n",
      "\n"
     ]
    },
    {
     "name": "stderr",
     "output_type": "stream",
     "text": [
      " 74%|███████▍  | 37/50 [00:07<00:02,  4.87it/s]\n",
      "[I 2024-02-19 09:24:09,719] Trial 74 finished with value: 1.8953428922686726 and parameters: {'n_neurons_layer1': 1984, 'n_neurons_layer2': 1664, 'learning_rate': 0.00011398209668984598, 'dropout': 0.30000000000000004}. Best is trial 44 with value: 1.8942872248589993.\n"
     ]
    },
    {
     "name": "stdout",
     "output_type": "stream",
     "text": [
      "Stopped training using EarlyStopping at epoch 38\n",
      "\n",
      "**Finished training**\n",
      "\n",
      "Best validation loss (reached after 28 epochs): 1.8953428922686726\n",
      "\n",
      "Training time: 0.13 minutes\n",
      "Total training time: 0.13 minutes\n",
      "Start training classifier\n",
      "\n",
      "\n",
      "Start Training\n",
      "\n"
     ]
    },
    {
     "name": "stderr",
     "output_type": "stream",
     "text": [
      " 74%|███████▍  | 37/50 [00:07<00:02,  5.11it/s]\n",
      "[I 2024-02-19 09:24:17,038] Trial 75 finished with value: 1.9017683216370642 and parameters: {'n_neurons_layer1': 1792, 'n_neurons_layer2': 1472, 'learning_rate': 6.146765322874731e-05, 'dropout': 0.4}. Best is trial 44 with value: 1.8942872248589993.\n"
     ]
    },
    {
     "name": "stdout",
     "output_type": "stream",
     "text": [
      "Stopped training using EarlyStopping at epoch 38\n",
      "\n",
      "**Finished training**\n",
      "\n",
      "Best validation loss (reached after 28 epochs): 1.9017683216370642\n",
      "\n",
      "Training time: 0.12 minutes\n",
      "Total training time: 0.12 minutes\n",
      "Start training classifier\n",
      "\n",
      "\n",
      "Start Training\n",
      "\n"
     ]
    },
    {
     "name": "stderr",
     "output_type": "stream",
     "text": [
      " 68%|██████▊   | 34/50 [00:06<00:03,  4.87it/s]\n",
      "[I 2024-02-19 09:24:24,113] Trial 76 finished with value: 1.8961443020962179 and parameters: {'n_neurons_layer1': 1920, 'n_neurons_layer2': 1792, 'learning_rate': 0.00018839308795386058, 'dropout': 0.30000000000000004}. Best is trial 44 with value: 1.8942872248589993.\n"
     ]
    },
    {
     "name": "stdout",
     "output_type": "stream",
     "text": [
      "Stopped training using EarlyStopping at epoch 35\n",
      "\n",
      "**Finished training**\n",
      "\n",
      "Best validation loss (reached after 25 epochs): 1.8961443020962179\n",
      "\n",
      "Training time: 0.12 minutes\n",
      "Total training time: 0.12 minutes\n",
      "Start training classifier\n",
      "\n",
      "\n",
      "Start Training\n",
      "\n"
     ]
    },
    {
     "name": "stderr",
     "output_type": "stream",
     "text": [
      " 74%|███████▍  | 37/50 [00:08<00:03,  4.31it/s]\n",
      "[I 2024-02-19 09:24:32,786] Trial 77 finished with value: 1.9004881721921265 and parameters: {'n_neurons_layer1': 1856, 'n_neurons_layer2': 1920, 'learning_rate': 0.00014714834113284573, 'dropout': 0.2}. Best is trial 44 with value: 1.8942872248589993.\n"
     ]
    },
    {
     "name": "stdout",
     "output_type": "stream",
     "text": [
      "Stopped training using EarlyStopping at epoch 38\n",
      "\n",
      "**Finished training**\n",
      "\n",
      "Best validation loss (reached after 28 epochs): 1.9004881721921265\n",
      "\n",
      "Training time: 0.14 minutes\n",
      "Total training time: 0.14 minutes\n",
      "Start training classifier\n",
      "\n",
      "\n",
      "Start Training\n",
      "\n"
     ]
    },
    {
     "name": "stderr",
     "output_type": "stream",
     "text": [
      " 74%|███████▍  | 37/50 [00:08<00:02,  4.51it/s]\n",
      "[I 2024-02-19 09:24:41,088] Trial 78 finished with value: 1.8983637820929289 and parameters: {'n_neurons_layer1': 1984, 'n_neurons_layer2': 1536, 'learning_rate': 8.180210485482742e-05, 'dropout': 0.4}. Best is trial 44 with value: 1.8942872248589993.\n"
     ]
    },
    {
     "name": "stdout",
     "output_type": "stream",
     "text": [
      "Stopped training using EarlyStopping at epoch 38\n",
      "\n",
      "**Finished training**\n",
      "\n",
      "Best validation loss (reached after 28 epochs): 1.8983637820929289\n",
      "\n",
      "Training time: 0.14 minutes\n",
      "Total training time: 0.14 minutes\n",
      "Start training classifier\n",
      "\n",
      "\n",
      "Start Training\n",
      "\n"
     ]
    },
    {
     "name": "stderr",
     "output_type": "stream",
     "text": [
      " 74%|███████▍  | 37/50 [00:07<00:02,  4.97it/s]\n",
      "[I 2024-02-19 09:24:48,603] Trial 79 finished with value: 1.903259149985388 and parameters: {'n_neurons_layer1': 1856, 'n_neurons_layer2': 1216, 'learning_rate': 0.00024098112239021897, 'dropout': 0.30000000000000004}. Best is trial 44 with value: 1.8942872248589993.\n"
     ]
    },
    {
     "name": "stdout",
     "output_type": "stream",
     "text": [
      "Stopped training using EarlyStopping at epoch 38\n",
      "\n",
      "**Finished training**\n",
      "\n",
      "Best validation loss (reached after 28 epochs): 1.903259149985388\n",
      "\n",
      "Training time: 0.12 minutes\n",
      "Total training time: 0.12 minutes\n",
      "Start training classifier\n",
      "\n",
      "\n",
      "Start Training\n",
      "\n"
     ]
    },
    {
     "name": "stderr",
     "output_type": "stream",
     "text": [
      " 74%|███████▍  | 37/50 [00:07<00:02,  4.84it/s]\n",
      "[I 2024-02-19 09:24:56,331] Trial 80 finished with value: 1.907235516468063 and parameters: {'n_neurons_layer1': 1920, 'n_neurons_layer2': 1600, 'learning_rate': 2.925520451938918e-05, 'dropout': 0.30000000000000004}. Best is trial 44 with value: 1.8942872248589993.\n"
     ]
    },
    {
     "name": "stdout",
     "output_type": "stream",
     "text": [
      "Stopped training using EarlyStopping at epoch 38\n",
      "\n",
      "**Finished training**\n",
      "\n",
      "Best validation loss (reached after 28 epochs): 1.907235516468063\n",
      "\n",
      "Training time: 0.13 minutes\n",
      "Total training time: 0.13 minutes\n",
      "Start training classifier\n",
      "\n",
      "\n",
      "Start Training\n",
      "\n"
     ]
    },
    {
     "name": "stderr",
     "output_type": "stream",
     "text": [
      " 74%|███████▍  | 37/50 [00:07<00:02,  4.81it/s]\n",
      "[I 2024-02-19 09:25:04,114] Trial 81 finished with value: 1.8966680676676333 and parameters: {'n_neurons_layer1': 2048, 'n_neurons_layer2': 1728, 'learning_rate': 7.055696681034414e-05, 'dropout': 0.30000000000000004}. Best is trial 44 with value: 1.8942872248589993.\n"
     ]
    },
    {
     "name": "stdout",
     "output_type": "stream",
     "text": [
      "Stopped training using EarlyStopping at epoch 38\n",
      "\n",
      "**Finished training**\n",
      "\n",
      "Best validation loss (reached after 28 epochs): 1.8966680676676333\n",
      "\n",
      "Training time: 0.13 minutes\n",
      "Total training time: 0.13 minutes\n",
      "Start training classifier\n",
      "\n",
      "\n",
      "Start Training\n",
      "\n"
     ]
    },
    {
     "name": "stderr",
     "output_type": "stream",
     "text": [
      " 74%|███████▍  | 37/50 [00:08<00:03,  4.29it/s]\n",
      "[I 2024-02-19 09:25:12,838] Trial 82 finished with value: 1.89523004880175 and parameters: {'n_neurons_layer1': 1984, 'n_neurons_layer2': 1536, 'learning_rate': 0.00011118108239347452, 'dropout': 0.30000000000000004}. Best is trial 44 with value: 1.8942872248589993.\n"
     ]
    },
    {
     "name": "stdout",
     "output_type": "stream",
     "text": [
      "Stopped training using EarlyStopping at epoch 38\n",
      "\n",
      "**Finished training**\n",
      "\n",
      "Best validation loss (reached after 28 epochs): 1.89523004880175\n",
      "\n",
      "Training time: 0.14 minutes\n",
      "Total training time: 0.14 minutes\n",
      "Start training classifier\n",
      "\n",
      "\n",
      "Start Training\n",
      "\n"
     ]
    },
    {
     "name": "stderr",
     "output_type": "stream",
     "text": [
      " 74%|███████▍  | 37/50 [00:07<00:02,  5.11it/s]\n",
      "[I 2024-02-19 09:25:20,163] Trial 83 finished with value: 1.8950425318907946 and parameters: {'n_neurons_layer1': 1920, 'n_neurons_layer2': 1344, 'learning_rate': 0.00011001710326779433, 'dropout': 0.30000000000000004}. Best is trial 44 with value: 1.8942872248589993.\n"
     ]
    },
    {
     "name": "stdout",
     "output_type": "stream",
     "text": [
      "Stopped training using EarlyStopping at epoch 38\n",
      "\n",
      "**Finished training**\n",
      "\n",
      "Best validation loss (reached after 28 epochs): 1.8950425318907946\n",
      "\n",
      "Training time: 0.12 minutes\n",
      "Total training time: 0.12 minutes\n",
      "Start training classifier\n",
      "\n",
      "\n",
      "Start Training\n",
      "\n"
     ]
    },
    {
     "name": "stderr",
     "output_type": "stream",
     "text": [
      " 74%|███████▍  | 37/50 [00:07<00:02,  5.19it/s]\n",
      "[I 2024-02-19 09:25:27,380] Trial 84 finished with value: 1.8958326617721468 and parameters: {'n_neurons_layer1': 1728, 'n_neurons_layer2': 1344, 'learning_rate': 0.00012027471892219187, 'dropout': 0.30000000000000004}. Best is trial 44 with value: 1.8942872248589993.\n"
     ]
    },
    {
     "name": "stdout",
     "output_type": "stream",
     "text": [
      "Stopped training using EarlyStopping at epoch 38\n",
      "\n",
      "**Finished training**\n",
      "\n",
      "Best validation loss (reached after 28 epochs): 1.8958326617721468\n",
      "\n",
      "Training time: 0.12 minutes\n",
      "Total training time: 0.12 minutes\n",
      "Start training classifier\n",
      "\n",
      "\n",
      "Start Training\n",
      "\n"
     ]
    },
    {
     "name": "stderr",
     "output_type": "stream",
     "text": [
      " 74%|███████▍  | 37/50 [00:07<00:02,  5.08it/s]\n",
      "[I 2024-02-19 09:25:34,750] Trial 85 finished with value: 1.8969373537693173 and parameters: {'n_neurons_layer1': 1920, 'n_neurons_layer2': 1408, 'learning_rate': 0.000105731433556994, 'dropout': 0.30000000000000004}. Best is trial 44 with value: 1.8942872248589993.\n"
     ]
    },
    {
     "name": "stdout",
     "output_type": "stream",
     "text": [
      "Stopped training using EarlyStopping at epoch 38\n",
      "\n",
      "**Finished training**\n",
      "\n",
      "Best validation loss (reached after 28 epochs): 1.8969373537693173\n",
      "\n",
      "Training time: 0.12 minutes\n",
      "Total training time: 0.12 minutes\n",
      "Start training classifier\n",
      "\n",
      "\n",
      "Start Training\n",
      "\n"
     ]
    },
    {
     "name": "stderr",
     "output_type": "stream",
     "text": [
      " 74%|███████▍  | 37/50 [00:07<00:02,  4.96it/s]\n",
      "[I 2024-02-19 09:25:42,284] Trial 86 finished with value: 1.8953871126286685 and parameters: {'n_neurons_layer1': 1792, 'n_neurons_layer2': 1216, 'learning_rate': 0.00013820265456328406, 'dropout': 0.30000000000000004}. Best is trial 44 with value: 1.8942872248589993.\n"
     ]
    },
    {
     "name": "stdout",
     "output_type": "stream",
     "text": [
      "Stopped training using EarlyStopping at epoch 38\n",
      "\n",
      "**Finished training**\n",
      "\n",
      "Best validation loss (reached after 28 epochs): 1.8953871126286685\n",
      "\n",
      "Training time: 0.12 minutes\n",
      "Total training time: 0.12 minutes\n",
      "Start training classifier\n",
      "\n",
      "\n",
      "Start Training\n",
      "\n"
     ]
    },
    {
     "name": "stderr",
     "output_type": "stream",
     "text": [
      " 36%|███▌      | 18/50 [00:03<00:06,  4.72it/s]\n",
      "[I 2024-02-19 09:25:46,184] Trial 87 finished with value: 1.905934676527977 and parameters: {'n_neurons_layer1': 1664, 'n_neurons_layer2': 1536, 'learning_rate': 0.00033358790573174334, 'dropout': 0.2}. Best is trial 44 with value: 1.8942872248589993.\n"
     ]
    },
    {
     "name": "stdout",
     "output_type": "stream",
     "text": [
      "Stopped training using EarlyStopping at epoch 19\n",
      "\n",
      "**Finished training**\n",
      "\n",
      "Best validation loss (reached after 9 epochs): 1.905934676527977\n",
      "\n",
      "Training time: 0.06 minutes\n",
      "Total training time: 0.06 minutes\n",
      "Start training classifier\n",
      "\n",
      "\n",
      "Start Training\n",
      "\n"
     ]
    },
    {
     "name": "stderr",
     "output_type": "stream",
     "text": [
      " 74%|███████▍  | 37/50 [00:07<00:02,  4.71it/s]\n",
      "[I 2024-02-19 09:25:54,136] Trial 88 finished with value: 1.8972448555286974 and parameters: {'n_neurons_layer1': 2048, 'n_neurons_layer2': 1408, 'learning_rate': 0.00019806678119484522, 'dropout': 0.30000000000000004}. Best is trial 44 with value: 1.8942872248589993.\n"
     ]
    },
    {
     "name": "stdout",
     "output_type": "stream",
     "text": [
      "Stopped training using EarlyStopping at epoch 38\n",
      "\n",
      "**Finished training**\n",
      "\n",
      "Best validation loss (reached after 28 epochs): 1.8972448555286974\n",
      "\n",
      "Training time: 0.13 minutes\n",
      "Total training time: 0.13 minutes\n",
      "Start training classifier\n",
      "\n",
      "\n",
      "Start Training\n",
      "\n"
     ]
    },
    {
     "name": "stderr",
     "output_type": "stream",
     "text": [
      " 74%|███████▍  | 37/50 [00:06<00:02,  5.37it/s]\n",
      "[I 2024-02-19 09:26:01,104] Trial 89 finished with value: 1.899515571538359 and parameters: {'n_neurons_layer1': 1600, 'n_neurons_layer2': 1152, 'learning_rate': 0.0001546837299988596, 'dropout': 0.30000000000000004}. Best is trial 44 with value: 1.8942872248589993.\n"
     ]
    },
    {
     "name": "stdout",
     "output_type": "stream",
     "text": [
      "Stopped training using EarlyStopping at epoch 38\n",
      "\n",
      "**Finished training**\n",
      "\n",
      "Best validation loss (reached after 28 epochs): 1.899515571538359\n",
      "\n",
      "Training time: 0.11 minutes\n",
      "Total training time: 0.12 minutes\n",
      "Start training classifier\n",
      "\n",
      "\n",
      "Start Training\n",
      "\n"
     ]
    },
    {
     "name": "stderr",
     "output_type": "stream",
     "text": [
      "100%|██████████| 50/50 [00:08<00:00,  6.00it/s]\n",
      "[I 2024-02-19 09:26:09,505] Trial 90 finished with value: 2.1078397161327302 and parameters: {'n_neurons_layer1': 1856, 'n_neurons_layer2': 128, 'learning_rate': 4.228615438070025e-05, 'dropout': 0.4}. Best is trial 44 with value: 1.8942872248589993.\n"
     ]
    },
    {
     "name": "stdout",
     "output_type": "stream",
     "text": [
      "\n",
      "**Finished training**\n",
      "\n",
      "Best validation loss (reached after 42 epochs): 2.1078397161327302\n",
      "\n",
      "Training time: 0.14 minutes\n",
      "Total training time: 0.14 minutes\n",
      "Start training classifier\n",
      "\n",
      "\n",
      "Start Training\n",
      "\n"
     ]
    },
    {
     "name": "stderr",
     "output_type": "stream",
     "text": [
      " 74%|███████▍  | 37/50 [00:07<00:02,  4.86it/s]\n",
      "[I 2024-02-19 09:26:17,214] Trial 91 finished with value: 1.8954830986913294 and parameters: {'n_neurons_layer1': 1984, 'n_neurons_layer2': 1664, 'learning_rate': 8.841947453619889e-05, 'dropout': 0.30000000000000004}. Best is trial 44 with value: 1.8942872248589993.\n"
     ]
    },
    {
     "name": "stdout",
     "output_type": "stream",
     "text": [
      "Stopped training using EarlyStopping at epoch 38\n",
      "\n",
      "**Finished training**\n",
      "\n",
      "Best validation loss (reached after 28 epochs): 1.8954830986913294\n",
      "\n",
      "Training time: 0.13 minutes\n",
      "Total training time: 0.13 minutes\n",
      "Start training classifier\n",
      "\n",
      "\n",
      "Start Training\n",
      "\n"
     ]
    },
    {
     "name": "stderr",
     "output_type": "stream",
     "text": [
      " 74%|███████▍  | 37/50 [00:07<00:02,  4.87it/s]\n",
      "[I 2024-02-19 09:26:24,900] Trial 92 finished with value: 1.8968520425260067 and parameters: {'n_neurons_layer1': 1984, 'n_neurons_layer2': 1472, 'learning_rate': 6.491844760467734e-05, 'dropout': 0.30000000000000004}. Best is trial 44 with value: 1.8942872248589993.\n"
     ]
    },
    {
     "name": "stdout",
     "output_type": "stream",
     "text": [
      "Stopped training using EarlyStopping at epoch 38\n",
      "\n",
      "**Finished training**\n",
      "\n",
      "Best validation loss (reached after 28 epochs): 1.8968520425260067\n",
      "\n",
      "Training time: 0.13 minutes\n",
      "Total training time: 0.13 minutes\n",
      "Start training classifier\n",
      "\n",
      "\n",
      "Start Training\n",
      "\n"
     ]
    },
    {
     "name": "stderr",
     "output_type": "stream",
     "text": [
      " 74%|███████▍  | 37/50 [00:07<00:02,  4.67it/s]\n",
      "[I 2024-02-19 09:26:32,914] Trial 93 finished with value: 1.895214687101543 and parameters: {'n_neurons_layer1': 1920, 'n_neurons_layer2': 1600, 'learning_rate': 0.00010876779759854668, 'dropout': 0.30000000000000004}. Best is trial 44 with value: 1.8942872248589993.\n"
     ]
    },
    {
     "name": "stdout",
     "output_type": "stream",
     "text": [
      "Stopped training using EarlyStopping at epoch 38\n",
      "\n",
      "**Finished training**\n",
      "\n",
      "Best validation loss (reached after 28 epochs): 1.895214687101543\n",
      "\n",
      "Training time: 0.13 minutes\n",
      "Total training time: 0.13 minutes\n",
      "Start training classifier\n",
      "\n",
      "\n",
      "Start Training\n",
      "\n"
     ]
    },
    {
     "name": "stderr",
     "output_type": "stream",
     "text": [
      " 74%|███████▍  | 37/50 [00:07<00:02,  5.03it/s]\n",
      "[I 2024-02-19 09:26:40,350] Trial 94 finished with value: 1.8963859276846051 and parameters: {'n_neurons_layer1': 1920, 'n_neurons_layer2': 1280, 'learning_rate': 0.00010892333577481598, 'dropout': 0.30000000000000004}. Best is trial 44 with value: 1.8942872248589993.\n"
     ]
    },
    {
     "name": "stdout",
     "output_type": "stream",
     "text": [
      "Stopped training using EarlyStopping at epoch 38\n",
      "\n",
      "**Finished training**\n",
      "\n",
      "Best validation loss (reached after 28 epochs): 1.8963859276846051\n",
      "\n",
      "Training time: 0.12 minutes\n",
      "Total training time: 0.12 minutes\n",
      "Start training classifier\n",
      "\n",
      "\n",
      "Start Training\n",
      "\n"
     ]
    },
    {
     "name": "stderr",
     "output_type": "stream",
     "text": [
      " 74%|███████▍  | 37/50 [00:07<00:02,  4.89it/s]\n",
      "[I 2024-02-19 09:26:48,016] Trial 95 finished with value: 1.8948382569942623 and parameters: {'n_neurons_layer1': 1920, 'n_neurons_layer2': 1536, 'learning_rate': 0.000136480764331827, 'dropout': 0.30000000000000004}. Best is trial 44 with value: 1.8942872248589993.\n"
     ]
    },
    {
     "name": "stdout",
     "output_type": "stream",
     "text": [
      "Stopped training using EarlyStopping at epoch 38\n",
      "\n",
      "**Finished training**\n",
      "\n",
      "Best validation loss (reached after 28 epochs): 1.8948382569942623\n",
      "\n",
      "Training time: 0.13 minutes\n",
      "Total training time: 0.13 minutes\n",
      "Start training classifier\n",
      "\n",
      "\n",
      "Start Training\n",
      "\n"
     ]
    },
    {
     "name": "stderr",
     "output_type": "stream",
     "text": [
      " 74%|███████▍  | 37/50 [00:07<00:02,  4.87it/s]\n",
      "[I 2024-02-19 09:26:55,708] Trial 96 finished with value: 1.8956180263776332 and parameters: {'n_neurons_layer1': 1792, 'n_neurons_layer2': 1600, 'learning_rate': 0.00013120291149362734, 'dropout': 0.30000000000000004}. Best is trial 44 with value: 1.8942872248589993.\n"
     ]
    },
    {
     "name": "stdout",
     "output_type": "stream",
     "text": [
      "Stopped training using EarlyStopping at epoch 38\n",
      "\n",
      "**Finished training**\n",
      "\n",
      "Best validation loss (reached after 28 epochs): 1.8956180263776332\n",
      "\n",
      "Training time: 0.13 minutes\n",
      "Total training time: 0.13 minutes\n",
      "Start training classifier\n",
      "\n",
      "\n",
      "Start Training\n",
      "\n"
     ]
    },
    {
     "name": "stderr",
     "output_type": "stream",
     "text": [
      " 68%|██████▊   | 34/50 [00:06<00:03,  4.89it/s]\n",
      "[I 2024-02-19 09:27:02,751] Trial 97 finished with value: 1.8967614388093352 and parameters: {'n_neurons_layer1': 1856, 'n_neurons_layer2': 1472, 'learning_rate': 0.0001680100683146688, 'dropout': 0.30000000000000004}. Best is trial 44 with value: 1.8942872248589993.\n"
     ]
    },
    {
     "name": "stdout",
     "output_type": "stream",
     "text": [
      "Stopped training using EarlyStopping at epoch 35\n",
      "\n",
      "**Finished training**\n",
      "\n",
      "Best validation loss (reached after 25 epochs): 1.8967614388093352\n",
      "\n",
      "Training time: 0.12 minutes\n",
      "Total training time: 0.12 minutes\n",
      "Start training classifier\n",
      "\n",
      "\n",
      "Start Training\n",
      "\n"
     ]
    },
    {
     "name": "stderr",
     "output_type": "stream",
     "text": [
      " 74%|███████▍  | 37/50 [00:07<00:02,  4.75it/s]\n",
      "[I 2024-02-19 09:27:10,631] Trial 98 finished with value: 1.9013695295434445 and parameters: {'n_neurons_layer1': 2048, 'n_neurons_layer2': 1728, 'learning_rate': 0.00021684997660891158, 'dropout': 0.30000000000000004}. Best is trial 44 with value: 1.8942872248589993.\n"
     ]
    },
    {
     "name": "stdout",
     "output_type": "stream",
     "text": [
      "Stopped training using EarlyStopping at epoch 38\n",
      "\n",
      "**Finished training**\n",
      "\n",
      "Best validation loss (reached after 28 epochs): 1.9013695295434445\n",
      "\n",
      "Training time: 0.13 minutes\n",
      "Total training time: 0.13 minutes\n",
      "Start training classifier\n",
      "\n",
      "\n",
      "Start Training\n",
      "\n"
     ]
    },
    {
     "name": "stderr",
     "output_type": "stream",
     "text": [
      " 74%|███████▍  | 37/50 [00:07<00:02,  5.04it/s]\n",
      "[I 2024-02-19 09:27:18,054] Trial 99 finished with value: 1.9012212760280818 and parameters: {'n_neurons_layer1': 1920, 'n_neurons_layer2': 1088, 'learning_rate': 5.082222823276901e-05, 'dropout': 0.2}. Best is trial 44 with value: 1.8942872248589993.\n"
     ]
    },
    {
     "name": "stdout",
     "output_type": "stream",
     "text": [
      "Stopped training using EarlyStopping at epoch 38\n",
      "\n",
      "**Finished training**\n",
      "\n",
      "Best validation loss (reached after 28 epochs): 1.9012212760280818\n",
      "\n",
      "Training time: 0.12 minutes\n",
      "Total training time: 0.12 minutes\n",
      "Number of finished trials:  100\n",
      "Best trial:\n",
      "  Value:  1.8942872248589993\n",
      "  Params: \n",
      "    n_neurons_layer1: 1920\n",
      "    n_neurons_layer2: 1344\n",
      "    learning_rate: 0.0001569120889512332\n",
      "    dropout: 0.30000000000000004\n",
      "Start training classifier\n",
      "\n",
      "\n",
      "Start Training\n",
      "\n"
     ]
    },
    {
     "name": "stderr",
     "output_type": "stream",
     "text": [
      " 74%|███████▍  | 37/50 [00:07<00:02,  5.01it/s]"
     ]
    },
    {
     "name": "stdout",
     "output_type": "stream",
     "text": [
      "Stopped training using EarlyStopping at epoch 38\n",
      "\n",
      "**Finished training**\n",
      "\n",
      "Best validation loss (reached after 28 epochs): 1.8942872248589993\n",
      "\n",
      "Training time: 0.12 minutes\n",
      "Total training time: 0.12 minutes\n"
     ]
    },
    {
     "name": "stderr",
     "output_type": "stream",
     "text": [
      "\n"
     ]
    },
    {
     "name": "stdout",
     "output_type": "stream",
     "text": [
      "Accuracy: 0.9132290184921764\n",
      "Balanced Accuracy: 0.8807406672778618\n",
      "F1 Score: 0.9070497005174903\n"
     ]
    },
    {
     "data": {
      "image/png": "[encoded data removed]",
      "text/plain": [
       "<Figure size 320x320 with 1 Axes>"
      ]
     },
     "metadata": {
      "image/png": {
       "height": 279,
       "width": 414
      }
     },
     "output_type": "display_data"
    },
    {
     "data": {
      "image/png": "[encoded data removed]",
      "text/plain": [
       "<Figure size 320x320 with 1 Axes>"
      ]
     },
     "metadata": {
      "image/png": {
       "height": 275,
       "width": 344
      }
     },
     "output_type": "display_data"
    },
    {
     "data": {
      "image/png": "[encoded data removed]",
      "text/plain": [
       "<Figure size 320x320 with 1 Axes>"
      ]
     },
     "metadata": {
      "image/png": {
       "height": 275,
       "width": 368
      }
     },
     "output_type": "display_data"
    }
   ],
   "source": [
    "# segerstolpe, dropout. Before store all pred\n",
    "classifier_env.Model1_classifier(train=True, save_figure=False)"
   ]
  },
  {
   "cell_type": "code",
   "execution_count": 3,
   "metadata": {},
   "outputs": [
    {
     "data": {
      "text/html": [
       "<div>\n",
       "<style scoped>\n",
       "    .dataframe tbody tr th:only-of-type {\n",
       "        vertical-align: middle;\n",
       "    }\n",
       "\n",
       "    .dataframe tbody tr th {\n",
       "        vertical-align: top;\n",
       "    }\n",
       "\n",
       "    .dataframe thead th {\n",
       "        text-align: right;\n",
       "    }\n",
       "</style>\n",
       "<table border=\"1\" class=\"dataframe\">\n",
       "  <thead>\n",
       "    <tr style=\"text-align: right;\">\n",
       "      <th></th>\n",
       "      <th>Accuracy</th>\n",
       "      <th>Balanced Accuracy</th>\n",
       "      <th>F1 Score</th>\n",
       "    </tr>\n",
       "  </thead>\n",
       "  <tbody>\n",
       "    <tr>\n",
       "      <th>0</th>\n",
       "      <td>0.906117</td>\n",
       "      <td>0.641826</td>\n",
       "      <td>0.896713</td>\n",
       "    </tr>\n",
       "  </tbody>\n",
       "</table>\n",
       "</div>"
      ],
      "text/plain": [
       "   Accuracy  Balanced Accuracy  F1 Score\n",
       "0  0.906117           0.641826  0.896713"
      ]
     },
     "execution_count": 3,
     "metadata": {},
     "output_type": "execute_result"
    }
   ],
   "source": [
    "classifier_env.metrics_Model1"
   ]
  },
  {
   "cell_type": "code",
   "execution_count": 4,
   "metadata": {},
   "outputs": [],
   "source": [
    "classifier_env.make_benchamrk_results_dataframe()"
   ]
  },
  {
   "cell_type": "code",
   "execution_count": 5,
   "metadata": {},
   "outputs": [],
   "source": [
    "classifier_env.save_results_as_csv(name=\"benchmark_results/benchmark_results\")"
   ]
  }
 ],
 "metadata": {
  "kernelspec": {
   "display_name": "MScEnv",
   "language": "python",
   "name": "python3"
  },
  "language_info": {
   "codemirror_mode": {
    "name": "ipython",
    "version": 3
   },
   "file_extension": ".py",
   "mimetype": "text/x-python",
   "name": "python",
   "nbconvert_exporter": "python",
   "pygments_lexer": "ipython3",
   "version": "3.10.5"
  }
 },
 "nbformat": 4,
 "nbformat_minor": 2
}

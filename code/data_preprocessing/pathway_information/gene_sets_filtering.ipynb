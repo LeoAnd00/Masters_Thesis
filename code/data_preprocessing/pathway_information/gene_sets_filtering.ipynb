{
 "cells": [
  {
   "cell_type": "markdown",
   "metadata": {},
   "source": [
    "# Filter out pathways (gene sets) from [GSEA](https://www.gsea-msigdb.org/gsea/msigdb/human/collections.jsp) we are not interested in"
   ]
  },
  {
   "cell_type": "code",
   "execution_count": 1,
   "metadata": {},
   "outputs": [],
   "source": [
    "# Load packages\n",
    "import numpy as np\n",
    "from collections import OrderedDict\n",
    "import json\n"
   ]
  },
  {
   "cell_type": "code",
   "execution_count": 2,
   "metadata": {},
   "outputs": [
    {
     "name": "stdout",
     "output_type": "stream",
     "text": [
      "c2.cp.reactome.v2023.1.Hs.symbols.gmt resulted in 1612 pathways with a average number of 41.94 genes and std of 49.63\n",
      "\n",
      "c3.all.v2023.1.Hs.symbols.gmt resulted in 3041 pathways with a average number of 119.94 genes and std of 80.52\n",
      "\n",
      "c5.go.bp.v2023.1.Hs.symbols.gmt resulted in 7263 pathways with a average number of 40.52 genes and std of 53.76\n",
      "\n",
      "c7.all.v2023.1.Hs.symbols.gmt resulted in 5178 pathways with a average number of 185.78 genes and std of 39.76\n",
      "\n",
      "Number of total pathways:  17094\n"
     ]
    }
   ],
   "source": [
    "# Import gene sets\n",
    "path = '../../../data/raw/pathway_information/'\n",
    "files = ['c2.cp.reactome.v2023.1.Hs.symbols.gmt', 'c3.all.v2023.1.Hs.symbols.gmt', 'c5.go.bp.v2023.1.Hs.symbols.gmt', 'c7.all.v2023.1.Hs.symbols.gmt']\n",
    "\n",
    "# Filter out gene sets with more than 300 genes\n",
    "min_num_genes = 0\n",
    "max_num_genes = 300\n",
    "pathways_dict = OrderedDict()\n",
    "for filename in files:\n",
    "    file = path + filename\n",
    "    with open(file) as f:\n",
    "        lines = f.readlines()\n",
    "        counter = 0\n",
    "        num_genes = []\n",
    "        for line in lines:\n",
    "            line = line.strip()\n",
    "            val = line.split('\\t')\n",
    "            if min_num_genes <= len(val[2:]) <= max_num_genes: # val[2:] contains all genes in the current pathway\n",
    "                pathways_dict[val[0]] = val[2:]\n",
    "                counter += 1\n",
    "                num_genes.append(len(val[2:]))\n",
    "\n",
    "        print(f\"{filename} resulted in {counter} pathways with a average number of {np.mean(num_genes):.2f} genes and std of {np.std(num_genes):.2f}\")\n",
    "        print()\n",
    "\n",
    "print(\"Number of total pathways: \", len(pathways_dict))"
   ]
  },
  {
   "cell_type": "code",
   "execution_count": 3,
   "metadata": {},
   "outputs": [],
   "source": [
    "# Save dictionary\n",
    "with open('../../../data/processed/pathway_information/all_pathways.json', 'w') as json_file:\n",
    "    json.dump(pathways_dict, json_file) "
   ]
  }
 ],
 "metadata": {
  "kernelspec": {
   "display_name": "MScEnv",
   "language": "python",
   "name": "python3"
  },
  "language_info": {
   "codemirror_mode": {
    "name": "ipython",
    "version": 3
   },
   "file_extension": ".py",
   "mimetype": "text/x-python",
   "name": "python",
   "nbconvert_exporter": "python",
   "pygments_lexer": "ipython3",
   "version": "3.10.5"
  }
 },
 "nbformat": 4,
 "nbformat_minor": 2
}

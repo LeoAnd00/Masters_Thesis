{
 "cells": [
  {
   "cell_type": "markdown",
   "metadata": {},
   "source": [
    "# ScRNA-Seq from [Zheng68k](https://www.nature.com/articles/ncomms14049#Sec34)\n",
    "### Github: https://github.com/10XGenomics/single-cell-3prime-paper/tree/master "
   ]
  },
  {
   "cell_type": "code",
   "execution_count": 54,
   "metadata": {},
   "outputs": [],
   "source": [
    "# Import packages\n",
    "import scanpy as sc\n",
    "import pandas as pd\n",
    "import numpy as np\n",
    "from functions import data_preprocessing as dp\n",
    "from scipy.io import mmread"
   ]
  },
  {
   "cell_type": "code",
   "execution_count": 55,
   "metadata": {},
   "outputs": [],
   "source": [
    "#path = '../../../../data/raw/data_for_evaluating_cell_type_annotation/Zheng68k/filtered_matrices_mex/hg19/matrix.mtx'\n",
    "path = '../../../../data/raw/data_for_evaluating_cell_type_annotation/Zheng68k/example/matrix.mtx'\n",
    "\n",
    "# Read the .mtx file\n",
    "matrix = mmread(path).toarray()\n",
    "\n",
    "# Convert the matrix to a NumPy array\n",
    "matrix_array = np.array(matrix)\n",
    "\n",
    "# Read labels\n",
    "labels_path = '../../../../data/raw/data_for_evaluating_cell_type_annotation/Zheng68k/example/metadata.tsv'\n",
    "labels = pd.read_csv(labels_path, sep='\\t')[[\"barcodes\",\"celltype\"]]\n",
    "\n",
    "# Read barcodes\n",
    "barcodes_path = '../../../../data/raw/data_for_evaluating_cell_type_annotation/Zheng68k/example/barcodes.tsv'\n",
    "barcodes = pd.read_csv(barcodes_path, sep='\\t', header=None)\n",
    "barcodes.columns = [\"barcodes\"]\n",
    "\n",
    "merged_barcodes_labels = pd.merge(barcodes, labels, on='barcodes', how='left')\n",
    "\n",
    "# Read genes\n",
    "genes_path = '../../../../data/raw/data_for_evaluating_cell_type_annotation/Zheng68k/example/genes.tsv'\n",
    "genes = pd.read_csv(genes_path, sep='\\t', header=None)"
   ]
  },
  {
   "cell_type": "code",
   "execution_count": 56,
   "metadata": {},
   "outputs": [
    {
     "data": {
      "text/plain": [
       "(32738, 3639)"
      ]
     },
     "execution_count": 56,
     "metadata": {},
     "output_type": "execute_result"
    }
   ],
   "source": [
    "np.shape(matrix_array)"
   ]
  },
  {
   "cell_type": "code",
   "execution_count": 57,
   "metadata": {},
   "outputs": [
    {
     "name": "stdout",
     "output_type": "stream",
     "text": [
      "Duplicate genes found: Index(['U1', 'EFNA3', 'DCAF8', 'MRPL30', 'LIMS3', 'KRBOX1', 'TLR9', 'RPP14',\n",
      "       'CRYBG3', 'TM4SF19', 'UGT2A1', 'FAM47E-STBD1', 'CKS1B', 'CFB', 'TAP2',\n",
      "       'SOGA3', 'AQP1', 'PSMA2', 'MRPS17', 'MUC3A', 'POLR2J2', 'IDS', 'SOX7',\n",
      "       'DEFB130', 'OC90', 'ZFP41', '7SK', 'GALT', 'ANKRD18A', 'LCN6',\n",
      "       'TMEM236', 'PI4K2A', 'GOLGA7B', 'NDUFB8', 'TIMM10B', 'PSMA1', 'KBTBD4',\n",
      "       'ALG9', 'SDHD', 'MFRP', 'HOXC4', 'TMBIM4', 'SNORA40', 'LSP1', 'RNASE11',\n",
      "       'TM9SF1', 'LTB4R2', 'KIAA0391', 'MDGA2', 'CCDC177', 'CRIP1', 'SNURF',\n",
      "       'CELF6', 'ITFG3', 'NAA60', 'NPIPA7', 'NPIPA7', 'CLN3', 'PAGR1', 'SEPT1',\n",
      "       'ZNF747', 'ZNF668', 'Y_RNA', 'CHTF8', '7SK', 'TUBB3', 'SHPK', 'CDRT1',\n",
      "       'ZNF286A', 'Y_RNA', 'KRT222', 'ITGB3', 'ACE', 'SLC25A10', 'IER3IP1',\n",
      "       'TMEM239', 'RBL1', 'UQCR11', 'NDUFA7', 'ZNF763', 'ZNF788', 'ZNF709',\n",
      "       'PIK3R2', 'ZNF223', 'KLK9', 'SIGLEC5', 'ZNF8', '7SK', 'SLC5A3', 'FRG2C',\n",
      "       'ZNF84', 'ZNF26', 'KIR3DL2', 'PNRC2', 'SRSF10'],\n",
      "      dtype='object')\n",
      "Found 95 genes\n"
     ]
    }
   ],
   "source": [
    "adata = sc.AnnData(X=matrix_array.T)\n",
    "adata.index = genes.iloc[:,1].to_list()\n",
    "adata.var_names = genes.iloc[:,1].to_list()\n",
    "adata.var[\"gene_ENSG\"] = genes.iloc[:,0].to_list()\n",
    "adata.obs[\"barcodes\"] = merged_barcodes_labels[\"barcodes\"].to_list()\n",
    "adata.obs[\"cell_type\"] = merged_barcodes_labels[\"celltype\"].to_list()\n",
    "\n",
    "patient_ids = []\n",
    "for barcode in adata.obs[\"barcodes\"]:\n",
    "    patient_ids.append(f\"Patient_{str(barcode).split('-')[-1]}\")\n",
    "adata.obs[\"patientID\"] = patient_ids\n",
    "\n",
    "# Checking for duplicate genes\n",
    "duplicate_genes = adata.var_names[adata.var_names.duplicated()]\n",
    "if not duplicate_genes.empty:\n",
    "    print(f\"Duplicate genes found: {duplicate_genes}\")\n",
    "    print(f\"Found {len(duplicate_genes)} genes\")\n",
    "\n",
    "    # Find the indexes of duplicate genes\n",
    "    duplicate_gene_indexes = adata.var_names[adata.var_names.duplicated()]\n",
    "\n",
    "    # Keep one index for each gene\n",
    "    indexes_to_keep = []\n",
    "    count_tracker = {}\n",
    "    for idx, gene in enumerate(adata.var_names):\n",
    "        if gene in duplicate_gene_indexes:\n",
    "            try:\n",
    "                if count_tracker[gene] == 1:\n",
    "                    continue\n",
    "            except:\n",
    "                count_tracker[gene] = 1\n",
    "\n",
    "        indexes_to_keep.append(idx)\n",
    "\n",
    "    # Filter adata to remove duplicates, and only keep one of them\n",
    "    adata = adata[:, indexes_to_keep]"
   ]
  },
  {
   "cell_type": "markdown",
   "metadata": {},
   "source": [
    "## Preprocessing"
   ]
  },
  {
   "cell_type": "code",
   "execution_count": 48,
   "metadata": {},
   "outputs": [
    {
     "name": "stderr",
     "output_type": "stream",
     "text": [
      "c:\\Users\\user\\Documents\\GitHub\\Masters_Thesis\\code\\data_preprocessing\\data_for_evaluating_cell_type_annotation\\Zheng68k\\functions\\data_preprocessing.py:155: ImplicitModificationWarning: Trying to modify attribute `.obs` of view, initializing view as actual.\n",
      "  data.obs['n_counts'] = data.X.sum(1)\n"
     ]
    },
    {
     "name": "stdout",
     "output_type": "stream",
     "text": [
      "              barcodes        cell_type  patientID  n_counts  log_n_counts  \\\n",
      "0     AAACATACCACTCC-1          B cells  Patient_1      1036      6.944087   \n",
      "1     AAACATACCGCTAA-1  CD14+ Monocytes  Patient_1      2883      7.966933   \n",
      "2     AAACATACTAACGC-1      CD8 T cells  Patient_1       881      6.782192   \n",
      "3     AAACATACTTATCC-1      CD4 T cells  Patient_1      1169      7.064759   \n",
      "4     AAACATTGCATGGT-1   Megakaryocytes  Patient_1       536      6.285998   \n",
      "...                ...              ...        ...       ...           ...   \n",
      "3634  TTTCGAACTACTTC-1      CD4 T cells  Patient_1      1496      7.311218   \n",
      "3635  TTTCGAACTCCTGC-1          B cells  Patient_1       518      6.251904   \n",
      "3636  TTTCGAACTCTGGA-1      CD4 T cells  Patient_1      1073      6.979145   \n",
      "3637  TTTCTACTCAGTCA-1  CD14+ Monocytes  Patient_1      1552      7.347944   \n",
      "3638  TTTGCATGTCTTAC-1  CD14+ Monocytes  Patient_1      1193      7.085064   \n",
      "\n",
      "      n_genes  log_n_genes  pct_counts_in_top_20_genes   mt_frac  ribo_frac  \\\n",
      "0         380     5.942799                    0.412162  0.015444   0.468147   \n",
      "1         828     6.720220                    0.336455  0.048214   0.197017   \n",
      "2         399     5.991465                    0.320091  0.044268   0.236095   \n",
      "3         403     6.001415                    0.433704  0.011121   0.384944   \n",
      "4          57     4.060443                    0.930970  0.000000   0.013060   \n",
      "...       ...          ...                         ...       ...        ...   \n",
      "3634      556     6.322565                    0.260695  0.017380   0.387701   \n",
      "3635      266     5.587249                    0.283784  0.023166   0.361004   \n",
      "3636      386     5.958425                    0.311277  0.043802   0.473439   \n",
      "3637      594     6.388561                    0.355670  0.026418   0.180412   \n",
      "3638      453     6.118097                    0.328583  0.028500   0.242246   \n",
      "\n",
      "      hem_frac  \n",
      "0     0.000000  \n",
      "1     0.000347  \n",
      "2     0.000000  \n",
      "3     0.000000  \n",
      "4     0.692164  \n",
      "...        ...  \n",
      "3634  0.000000  \n",
      "3635  0.000000  \n",
      "3636  0.000000  \n",
      "3637  0.000000  \n",
      "3638  0.000000  \n",
      "\n",
      "[3639 rows x 11 columns]\n"
     ]
    }
   ],
   "source": [
    "# Add QC metrics to adata\n",
    "adata = dp.QC().QC_metric_calc(adata)\n",
    "print(adata.obs)"
   ]
  },
  {
   "cell_type": "code",
   "execution_count": 49,
   "metadata": {},
   "outputs": [
    {
     "name": "stdout",
     "output_type": "stream",
     "text": [
      "Number of genes before filtering: 32643\n",
      "Number of genes after filtering so theres min 20 unique cells per gene: 7683\n"
     ]
    }
   ],
   "source": [
    "#Filter genes:\n",
    "print('Number of genes before filtering: {:d}'.format(adata.n_vars))\n",
    "\n",
    "# Min \"expression_limit\" cells - filters out 0 count genes\n",
    "sc.pp.filter_genes(adata, min_cells=20)\n",
    "print(f'Number of genes after filtering so theres min {20} unique cells per gene: {adata.n_vars}')"
   ]
  },
  {
   "cell_type": "markdown",
   "metadata": {},
   "source": [
    "## Normalize"
   ]
  },
  {
   "cell_type": "code",
   "execution_count": 50,
   "metadata": {},
   "outputs": [],
   "source": [
    "norm_qc_adata = dp.log1p_normalize(adata)\n",
    "del norm_qc_adata.layers['pp_counts']"
   ]
  },
  {
   "cell_type": "code",
   "execution_count": 51,
   "metadata": {},
   "outputs": [
    {
     "data": {
      "text/plain": [
       "AnnData object with n_obs × n_vars = 3639 × 7683\n",
       "    obs: 'barcodes', 'cell_type', 'patientID', 'n_counts', 'log_n_counts', 'n_genes', 'log_n_genes', 'pct_counts_in_top_20_genes', 'mt_frac', 'ribo_frac', 'hem_frac', 'size_factors'\n",
       "    var: 'gene_ENSG', 'n_cells'\n",
       "    layers: 'log1p_counts'"
      ]
     },
     "execution_count": 51,
     "metadata": {},
     "output_type": "execute_result"
    }
   ],
   "source": [
    "norm_qc_adata"
   ]
  },
  {
   "cell_type": "code",
   "execution_count": 52,
   "metadata": {},
   "outputs": [
    {
     "data": {
      "image/png": "[encoded data removed]",
      "text/plain": [
       "<Figure size 1000x500 with 2 Axes>"
      ]
     },
     "metadata": {},
     "output_type": "display_data"
    }
   ],
   "source": [
    "# Visualize counts before and after normalization\n",
    "dp.EDA().VisualizeNormalization(norm_qc_adata)"
   ]
  },
  {
   "cell_type": "code",
   "execution_count": 53,
   "metadata": {},
   "outputs": [],
   "source": [
    "# Change data type\n",
    "norm_qc_adata.X = norm_qc_adata.X.astype(np.float32)"
   ]
  },
  {
   "cell_type": "code",
   "execution_count": 12,
   "metadata": {},
   "outputs": [],
   "source": [
    "# Download normalized count matrix\n",
    "norm_qc_adata.write('../../../../data/processed/data_for_evaluating_cell_type_annotation/Baron.h5ad')"
   ]
  }
 ],
 "metadata": {
  "kernelspec": {
   "display_name": "Python 3",
   "language": "python",
   "name": "python3"
  },
  "language_info": {
   "codemirror_mode": {
    "name": "ipython",
    "version": 3
   },
   "file_extension": ".py",
   "mimetype": "text/x-python",
   "name": "python",
   "nbconvert_exporter": "python",
   "pygments_lexer": "ipython3",
   "version": "3.10.5"
  },
  "orig_nbformat": 4
 },
 "nbformat": 4,
 "nbformat_minor": 2
}

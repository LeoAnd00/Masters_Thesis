{
 "cells": [
  {
   "cell_type": "code",
   "execution_count": 1,
   "metadata": {},
   "outputs": [
    {
     "name": "stderr",
     "output_type": "stream",
     "text": [
      "c:\\Users\\user\\Documents\\GitHub\\Masters_Thesis\\MScEnv\\lib\\site-packages\\tensorflow\\python\\framework\\dtypes.py:35: DeprecationWarning: ml_dtypes.float8_e4m3b11 is deprecated. Use ml_dtypes.float8_e4m3b11fnuz\n",
      "  from tensorflow.tsl.python.lib.core import pywrap_ml_dtypes\n"
     ]
    }
   ],
   "source": [
    "import numpy as np\n",
    "import pandas as pd\n",
    "import scanpy as sc\n",
    "import scib\n",
    "import torch.nn as nn\n",
    "import torch\n",
    "import random\n",
    "import tensorflow as tf\n",
    "import warnings\n",
    "from IPython.display import display\n",
    "from functions import data_preprocessing as dp\n",
    "from models import cl_dummy_model5 as scRNASeq_model"
   ]
  },
  {
   "cell_type": "code",
   "execution_count": 2,
   "metadata": {},
   "outputs": [],
   "source": [
    "data_path = '../../data/processed/immune_cells/merged/Oetjen_merged.h5ad'\n",
    "\n",
    "adata = sc.read(data_path, cache=True)\n",
    "\n",
    "adata.obs[\"batch\"] = adata.obs[\"patientID\"]\n",
    "\n",
    "# Ensure reproducibility\n",
    "def rep_seed(seed):\n",
    "    # Check if a GPU is available\n",
    "    if torch.cuda.is_available():\n",
    "        # Set the random seed for PyTorch CUDA (GPU) operations\n",
    "        torch.cuda.manual_seed(seed)\n",
    "        # Set the random seed for all CUDA devices (if multiple GPUs are available)\n",
    "        torch.cuda.manual_seed_all(seed)\n",
    "    \n",
    "    # Set the random seed for CPU-based PyTorch operations\n",
    "    torch.manual_seed(seed)\n",
    "    \n",
    "    # Set the random seed for NumPy\n",
    "    np.random.seed(seed)\n",
    "    \n",
    "    # Set the random seed for Python's built-in 'random' module\n",
    "    random.seed(seed)\n",
    "    \n",
    "    # Set the random seed for TensorFlow\n",
    "    tf.random.set_seed(seed)\n",
    "    \n",
    "    # Set CuDNN to deterministic mode for PyTorch (GPU)\n",
    "    torch.backends.cudnn.deterministic = True\n",
    "    \n",
    "    # Disable CuDNN's benchmarking mode for deterministic behavior\n",
    "    torch.backends.cudnn.benchmark = False\n",
    "\n",
    "rep_seed(42)\n",
    "\n",
    "sc.pp.highly_variable_genes(adata, n_top_genes=4000, flavor=\"cell_ranger\")\n",
    "adata = adata[:, adata.var[\"highly_variable\"]].copy()"
   ]
  },
  {
   "cell_type": "code",
   "execution_count": 3,
   "metadata": {},
   "outputs": [],
   "source": [
    "pathways_path = '../../data/processed/pathway_information/all_pathways.json'\n",
    "train_env = scRNASeq_model.train_module(data_path=adata,\n",
    "                                        json_file_path=pathways_path,\n",
    "                                        num_pathways=300,\n",
    "                                        save_model_path=\"\",\n",
    "                                        HVG=False,\n",
    "                                        HVGs=4000,\n",
    "                                        Scaled=False,\n",
    "                                        target_key=\"cell_type\",\n",
    "                                        batch_keys=[\"batch\"])"
   ]
  },
  {
   "cell_type": "code",
   "execution_count": 5,
   "metadata": {},
   "outputs": [
    {
     "name": "stdout",
     "output_type": "stream",
     "text": [
      "Number of parameters: 11771162\n",
      "\n",
      "Start Training\n",
      "\n"
     ]
    },
    {
     "name": "stderr",
     "output_type": "stream",
     "text": [
      "  5%|▌         | 1/20 [06:34<2:04:56, 394.54s/it]"
     ]
    },
    {
     "name": "stdout",
     "output_type": "stream",
     "text": [
      "Epoch 1 | Training loss: 0.0781 | Validation loss: 0.0777\n"
     ]
    },
    {
     "name": "stderr",
     "output_type": "stream",
     "text": [
      " 25%|██▌       | 5/20 [28:01<1:24:05, 336.34s/it]"
     ]
    },
    {
     "name": "stdout",
     "output_type": "stream",
     "text": [
      "Epoch 5 | Training loss: 0.0772 | Validation loss: 0.0756\n"
     ]
    },
    {
     "name": "stderr",
     "output_type": "stream",
     "text": [
      " 25%|██▌       | 5/20 [28:40<1:26:02, 344.15s/it]\n"
     ]
    },
    {
     "ename": "KeyboardInterrupt",
     "evalue": "",
     "output_type": "error",
     "traceback": [
      "\u001b[1;31m---------------------------------------------------------------------------\u001b[0m",
      "\u001b[1;31mKeyboardInterrupt\u001b[0m                         Traceback (most recent call last)",
      "\u001b[1;32mc:\\Users\\user\\Documents\\GitHub\\Masters_Thesis\\code\\cell_type_representation_dummy_no_CV\\testing_model5.ipynb Cell 4\u001b[0m line \u001b[0;36m2\n\u001b[0;32m      <a href='vscode-notebook-cell:/c%3A/Users/user/Documents/GitHub/Masters_Thesis/code/cell_type_representation_dummy_no_CV/testing_model5.ipynb#W3sZmlsZQ%3D%3D?line=0'>1</a>\u001b[0m \u001b[39m# Train\u001b[39;00m\n\u001b[1;32m----> <a href='vscode-notebook-cell:/c%3A/Users/user/Documents/GitHub/Masters_Thesis/code/cell_type_representation_dummy_no_CV/testing_model5.ipynb#W3sZmlsZQ%3D%3D?line=1'>2</a>\u001b[0m _ \u001b[39m=\u001b[39m train_env\u001b[39m.\u001b[39;49mtrain(device\u001b[39m=\u001b[39;49m\u001b[39mNone\u001b[39;49;00m,\n\u001b[0;32m      <a href='vscode-notebook-cell:/c%3A/Users/user/Documents/GitHub/Masters_Thesis/code/cell_type_representation_dummy_no_CV/testing_model5.ipynb#W3sZmlsZQ%3D%3D?line=2'>3</a>\u001b[0m                         seed\u001b[39m=\u001b[39;49m\u001b[39m42\u001b[39;49m,\n\u001b[0;32m      <a href='vscode-notebook-cell:/c%3A/Users/user/Documents/GitHub/Masters_Thesis/code/cell_type_representation_dummy_no_CV/testing_model5.ipynb#W3sZmlsZQ%3D%3D?line=3'>4</a>\u001b[0m                         batch_size\u001b[39m=\u001b[39;49m\u001b[39m64\u001b[39;49m,\n\u001b[0;32m      <a href='vscode-notebook-cell:/c%3A/Users/user/Documents/GitHub/Masters_Thesis/code/cell_type_representation_dummy_no_CV/testing_model5.ipynb#W3sZmlsZQ%3D%3D?line=4'>5</a>\u001b[0m                         attn_embed_dim\u001b[39m=\u001b[39;49m\u001b[39m24\u001b[39;49m\u001b[39m*\u001b[39;49m\u001b[39m4\u001b[39;49m,\n\u001b[0;32m      <a href='vscode-notebook-cell:/c%3A/Users/user/Documents/GitHub/Masters_Thesis/code/cell_type_representation_dummy_no_CV/testing_model5.ipynb#W3sZmlsZQ%3D%3D?line=5'>6</a>\u001b[0m                         depth\u001b[39m=\u001b[39;49m\u001b[39m2\u001b[39;49m,\n\u001b[0;32m      <a href='vscode-notebook-cell:/c%3A/Users/user/Documents/GitHub/Masters_Thesis/code/cell_type_representation_dummy_no_CV/testing_model5.ipynb#W3sZmlsZQ%3D%3D?line=6'>7</a>\u001b[0m                         num_heads\u001b[39m=\u001b[39;49m\u001b[39m4\u001b[39;49m,\n\u001b[0;32m      <a href='vscode-notebook-cell:/c%3A/Users/user/Documents/GitHub/Masters_Thesis/code/cell_type_representation_dummy_no_CV/testing_model5.ipynb#W3sZmlsZQ%3D%3D?line=7'>8</a>\u001b[0m                         output_dim\u001b[39m=\u001b[39;49m\u001b[39m100\u001b[39;49m,\n\u001b[0;32m      <a href='vscode-notebook-cell:/c%3A/Users/user/Documents/GitHub/Masters_Thesis/code/cell_type_representation_dummy_no_CV/testing_model5.ipynb#W3sZmlsZQ%3D%3D?line=8'>9</a>\u001b[0m                         attn_drop_out\u001b[39m=\u001b[39;49m\u001b[39m0.\u001b[39;49m,\n\u001b[0;32m     <a href='vscode-notebook-cell:/c%3A/Users/user/Documents/GitHub/Masters_Thesis/code/cell_type_representation_dummy_no_CV/testing_model5.ipynb#W3sZmlsZQ%3D%3D?line=9'>10</a>\u001b[0m                         proj_drop_out\u001b[39m=\u001b[39;49m\u001b[39m0.2\u001b[39;49m,\n\u001b[0;32m     <a href='vscode-notebook-cell:/c%3A/Users/user/Documents/GitHub/Masters_Thesis/code/cell_type_representation_dummy_no_CV/testing_model5.ipynb#W3sZmlsZQ%3D%3D?line=10'>11</a>\u001b[0m                         attn_bias\u001b[39m=\u001b[39;49m\u001b[39mFalse\u001b[39;49;00m,\n\u001b[0;32m     <a href='vscode-notebook-cell:/c%3A/Users/user/Documents/GitHub/Masters_Thesis/code/cell_type_representation_dummy_no_CV/testing_model5.ipynb#W3sZmlsZQ%3D%3D?line=11'>12</a>\u001b[0m                         act_layer\u001b[39m=\u001b[39;49mnn\u001b[39m.\u001b[39;49mReLU,\n\u001b[0;32m     <a href='vscode-notebook-cell:/c%3A/Users/user/Documents/GitHub/Masters_Thesis/code/cell_type_representation_dummy_no_CV/testing_model5.ipynb#W3sZmlsZQ%3D%3D?line=12'>13</a>\u001b[0m                         norm_layer\u001b[39m=\u001b[39;49mnn\u001b[39m.\u001b[39;49mBatchNorm1d,\u001b[39m#nn.BatchNorm1d,#nn.LayerNorm,\u001b[39;49;00m\n\u001b[0;32m     <a href='vscode-notebook-cell:/c%3A/Users/user/Documents/GitHub/Masters_Thesis/code/cell_type_representation_dummy_no_CV/testing_model5.ipynb#W3sZmlsZQ%3D%3D?line=13'>14</a>\u001b[0m                         loss_with_weights\u001b[39m=\u001b[39;49m\u001b[39mTrue\u001b[39;49;00m,\n\u001b[0;32m     <a href='vscode-notebook-cell:/c%3A/Users/user/Documents/GitHub/Masters_Thesis/code/cell_type_representation_dummy_no_CV/testing_model5.ipynb#W3sZmlsZQ%3D%3D?line=14'>15</a>\u001b[0m                         init_temperature\u001b[39m=\u001b[39;49m\u001b[39m0.25\u001b[39;49m,\n\u001b[0;32m     <a href='vscode-notebook-cell:/c%3A/Users/user/Documents/GitHub/Masters_Thesis/code/cell_type_representation_dummy_no_CV/testing_model5.ipynb#W3sZmlsZQ%3D%3D?line=15'>16</a>\u001b[0m                         min_temperature\u001b[39m=\u001b[39;49m\u001b[39m0.1\u001b[39;49m,\n\u001b[0;32m     <a href='vscode-notebook-cell:/c%3A/Users/user/Documents/GitHub/Masters_Thesis/code/cell_type_representation_dummy_no_CV/testing_model5.ipynb#W3sZmlsZQ%3D%3D?line=16'>17</a>\u001b[0m                         max_temperature\u001b[39m=\u001b[39;49m\u001b[39m2.0\u001b[39;49m,\n\u001b[0;32m     <a href='vscode-notebook-cell:/c%3A/Users/user/Documents/GitHub/Masters_Thesis/code/cell_type_representation_dummy_no_CV/testing_model5.ipynb#W3sZmlsZQ%3D%3D?line=17'>18</a>\u001b[0m                         init_lr\u001b[39m=\u001b[39;49m\u001b[39m0.01\u001b[39;49m,\n\u001b[0;32m     <a href='vscode-notebook-cell:/c%3A/Users/user/Documents/GitHub/Masters_Thesis/code/cell_type_representation_dummy_no_CV/testing_model5.ipynb#W3sZmlsZQ%3D%3D?line=18'>19</a>\u001b[0m                         lr_scheduler_warmup\u001b[39m=\u001b[39;49m\u001b[39m4\u001b[39;49m,\n\u001b[0;32m     <a href='vscode-notebook-cell:/c%3A/Users/user/Documents/GitHub/Masters_Thesis/code/cell_type_representation_dummy_no_CV/testing_model5.ipynb#W3sZmlsZQ%3D%3D?line=19'>20</a>\u001b[0m                         lr_scheduler_maxiters\u001b[39m=\u001b[39;49m\u001b[39m25\u001b[39;49m,\n\u001b[0;32m     <a href='vscode-notebook-cell:/c%3A/Users/user/Documents/GitHub/Masters_Thesis/code/cell_type_representation_dummy_no_CV/testing_model5.ipynb#W3sZmlsZQ%3D%3D?line=20'>21</a>\u001b[0m                         eval_freq\u001b[39m=\u001b[39;49m\u001b[39m4\u001b[39;49m,\n\u001b[0;32m     <a href='vscode-notebook-cell:/c%3A/Users/user/Documents/GitHub/Masters_Thesis/code/cell_type_representation_dummy_no_CV/testing_model5.ipynb#W3sZmlsZQ%3D%3D?line=21'>22</a>\u001b[0m                         epochs\u001b[39m=\u001b[39;49m\u001b[39m20\u001b[39;49m,\n\u001b[0;32m     <a href='vscode-notebook-cell:/c%3A/Users/user/Documents/GitHub/Masters_Thesis/code/cell_type_representation_dummy_no_CV/testing_model5.ipynb#W3sZmlsZQ%3D%3D?line=22'>23</a>\u001b[0m                         earlystopping_threshold\u001b[39m=\u001b[39;49m\u001b[39m3\u001b[39;49m,\n\u001b[0;32m     <a href='vscode-notebook-cell:/c%3A/Users/user/Documents/GitHub/Masters_Thesis/code/cell_type_representation_dummy_no_CV/testing_model5.ipynb#W3sZmlsZQ%3D%3D?line=23'>24</a>\u001b[0m                         pathway_emb_dim\u001b[39m=\u001b[39;49m\u001b[39m30\u001b[39;49m)\n",
      "File \u001b[1;32mc:\\Users\\user\\Documents\\GitHub\\Masters_Thesis\\code\\cell_type_representation_dummy_no_CV\\models\\cl_dummy_model5.py:891\u001b[0m, in \u001b[0;36mtrain_module.train\u001b[1;34m(self, device, seed, batch_size, attn_embed_dim, depth, num_heads, output_dim, attn_drop_out, proj_drop_out, attn_bias, act_layer, norm_layer, loss_with_weights, init_temperature, min_temperature, max_temperature, init_lr, lr_scheduler_warmup, lr_scheduler_maxiters, eval_freq, epochs, earlystopping_threshold, pathway_emb_dim)\u001b[0m\n\u001b[0;32m    888\u001b[0m lr_scheduler \u001b[39m=\u001b[39m CosineWarmupScheduler(optimizer\u001b[39m=\u001b[39moptimizer, warmup\u001b[39m=\u001b[39mlr_scheduler_warmup, max_iters\u001b[39m=\u001b[39mlr_scheduler_maxiters)\n\u001b[0;32m    889\u001b[0m out_path \u001b[39m=\u001b[39m \u001b[39mself\u001b[39m\u001b[39m.\u001b[39msave_model_path\n\u001b[1;32m--> 891\u001b[0m loss, preds \u001b[39m=\u001b[39m \u001b[39mself\u001b[39;49m\u001b[39m.\u001b[39;49mtrain_model(model\u001b[39m=\u001b[39;49mmodel, \n\u001b[0;32m    892\u001b[0m                             optimizer\u001b[39m=\u001b[39;49moptimizer, \n\u001b[0;32m    893\u001b[0m                             lr_scheduler\u001b[39m=\u001b[39;49mlr_scheduler, \n\u001b[0;32m    894\u001b[0m                             loss_module\u001b[39m=\u001b[39;49mloss_module, \n\u001b[0;32m    895\u001b[0m                             device\u001b[39m=\u001b[39;49mdevice, \n\u001b[0;32m    896\u001b[0m                             out_path\u001b[39m=\u001b[39;49mout_path,\n\u001b[0;32m    897\u001b[0m                             train_loader\u001b[39m=\u001b[39;49mtrain_loader, \n\u001b[0;32m    898\u001b[0m                             val_loader\u001b[39m=\u001b[39;49mval_loader,\n\u001b[0;32m    899\u001b[0m                             num_epochs\u001b[39m=\u001b[39;49mepochs, \n\u001b[0;32m    900\u001b[0m                             eval_freq\u001b[39m=\u001b[39;49meval_freq,\n\u001b[0;32m    901\u001b[0m                             earlystopping_threshold\u001b[39m=\u001b[39;49mearlystopping_threshold)\n\u001b[0;32m    903\u001b[0m all_preds\u001b[39m.\u001b[39mextend(preds)\n\u001b[0;32m    905\u001b[0m \u001b[39mdel\u001b[39;00m model, loss_module, optimizer, lr_scheduler\n",
      "File \u001b[1;32mc:\\Users\\user\\Documents\\GitHub\\Masters_Thesis\\code\\cell_type_representation_dummy_no_CV\\models\\cl_dummy_model5.py:689\u001b[0m, in \u001b[0;36mtrain_module.train_model\u001b[1;34m(self, model, optimizer, lr_scheduler, loss_module, device, out_path, train_loader, val_loader, num_epochs, eval_freq, earlystopping_threshold)\u001b[0m\n\u001b[0;32m    687\u001b[0m data_inputs \u001b[39m=\u001b[39m data_inputs\u001b[39m.\u001b[39mto(device)\n\u001b[0;32m    688\u001b[0m data_labels \u001b[39m=\u001b[39m data_labels\u001b[39m.\u001b[39mto(device)\n\u001b[1;32m--> 689\u001b[0m data_pathways \u001b[39m=\u001b[39m data_pathways\u001b[39m.\u001b[39;49mto(device)\n\u001b[0;32m    691\u001b[0m optimizer\u001b[39m.\u001b[39mzero_grad()\n\u001b[0;32m    692\u001b[0m preds \u001b[39m=\u001b[39m model(data_inputs, data_pathways)\n",
      "\u001b[1;31mKeyboardInterrupt\u001b[0m: "
     ]
    }
   ],
   "source": [
    "# Train\n",
    "_ = train_env.train(device=None,\n",
    "                        seed=42,\n",
    "                        batch_size=256,\n",
    "                        attn_embed_dim=24*4,\n",
    "                        depth=2,\n",
    "                        num_heads=4,\n",
    "                        output_dim=100,\n",
    "                        attn_drop_out=0.,\n",
    "                        proj_drop_out=0.2,\n",
    "                        attn_bias=False,\n",
    "                        act_layer=nn.ReLU,\n",
    "                        norm_layer=nn.BatchNorm1d,#nn.BatchNorm1d,#nn.LayerNorm,\n",
    "                        loss_with_weights=True,\n",
    "                        init_temperature=0.25,\n",
    "                        min_temperature=0.1,\n",
    "                        max_temperature=2.0,\n",
    "                        init_lr=0.001,\n",
    "                        lr_scheduler_warmup=4,\n",
    "                        lr_scheduler_maxiters=25,\n",
    "                        eval_freq=4,\n",
    "                        epochs=20,\n",
    "                        earlystopping_threshold=3,\n",
    "                        pathway_emb_dim=30)"
   ]
  }
 ],
 "metadata": {
  "kernelspec": {
   "display_name": "MScEnv",
   "language": "python",
   "name": "python3"
  },
  "language_info": {
   "codemirror_mode": {
    "name": "ipython",
    "version": 3
   },
   "file_extension": ".py",
   "mimetype": "text/x-python",
   "name": "python",
   "nbconvert_exporter": "python",
   "pygments_lexer": "ipython3",
   "version": "3.10.5"
  }
 },
 "nbformat": 4,
 "nbformat_minor": 2
}
